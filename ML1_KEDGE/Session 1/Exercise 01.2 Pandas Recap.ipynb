{
 "cells": [
  {
   "cell_type": "markdown",
   "id": "a82bfe22-1acd-47c3-8753-24d6d4ec907f",
   "metadata": {},
   "source": [
    "# Exercise 01.2 Intro to ML - Pandas Recap"
   ]
  },
  {
   "cell_type": "markdown",
   "id": "570a5067-7640-47b1-9191-5e46b3a24aa6",
   "metadata": {},
   "source": [
    "## Pedagogy\n",
    "\n",
    "This notebook contains both theoretical explanations and executable cells to execute your code.\n",
    "\n",
    "When you see the <span style=\"color:red\">**[TBC]**</span> (To Be Completed) sign, it means that you need to perform an action else besides executing the cells of code that already exist. These actions can be:\n",
    "- Complete the code with proper comments\n",
    "- Respond to a question\n",
    "- Write an analysis\n",
    "- etc."
   ]
  },
  {
   "cell_type": "markdown",
   "id": "54ebbd91-1c56-4b27-bdee-d50b17a918d6",
   "metadata": {},
   "source": [
    "## Part 1. Pandas ultra-quick tutorial\n",
    "\n",
    "This notebook introduces [**Series**](https://pandas.pydata.org/pandas-docs/stable/reference/api/pandas.Series.html) and [**DataFrame**](https://pandas.pydata.org/pandas-docs/stable/reference/api/pandas.DataFrame.html), which are the central data structures in Pandas. This notebook is not a comprehensive DataFrames tutorial. Rather, the purpose of this notebook is to let you review the knowledge about Pandas you learned in the Python Bootcamp course, and set up python, anaconda, jupyter notebook and other tools for subsequent courses.\n",
    "\n",
    "A `Series` is an one-dimensional array with axis labels.\n",
    "\n",
    "A `DataFrame` is similar to a spreadsheet:\n",
    "\n",
    "- A `DataFrame` stores data in cells.\n",
    "- A `DataFrame` has named columns (usually) and numbered rows."
   ]
  },
  {
   "cell_type": "markdown",
   "id": "c98f29a6-3810-44c2-aab6-d3c6d05b2591",
   "metadata": {},
   "source": [
    "### Import Pandas library\n",
    "\n",
    "Run the following code cell to import the Pandas library."
   ]
  },
  {
   "cell_type": "code",
   "execution_count": null,
   "id": "d6ba9deb-ae72-4c10-86f7-8a84d38353c0",
   "metadata": {
    "tags": []
   },
   "outputs": [],
   "source": [
    "# import the Pandas library\n",
    "import pandas as pd"
   ]
  },
  {
   "cell_type": "markdown",
   "id": "28174b5b-a7e1-4ff2-a43a-53825a680782",
   "metadata": {},
   "source": [
    "### `Series`\n",
    "\n",
    "A `Series` is a one-dimensional array, containing homogeneous data (same type).\n",
    "\n",
    "We are going to manipulate a series of data (which we will construct below). This `Series` represents temperatures in Celsius."
   ]
  },
  {
   "cell_type": "code",
   "execution_count": 3,
   "id": "493b4e85-d151-42ad-9b81-e822c73b5d7e",
   "metadata": {
    "tags": []
   },
   "outputs": [
    {
     "name": "stdout",
     "output_type": "stream",
     "text": [
      "0     8.3\n",
      "1    10.5\n",
      "2     4.4\n",
      "3     2.9\n",
      "4     5.7\n",
      "5    11.1\n",
      "Name: Temperature, dtype: float64\n"
     ]
    }
   ],
   "source": [
    "# create a Series with temperature variables\n",
    "\n",
    "import pandas as pd\n",
    "temperatures = pd.Series([8.3, 10.5, 4.4, 2.9, 5.7, 11.1], name = \"Temperature\")\n",
    "print(temperatures)"
   ]
  },
  {
   "cell_type": "markdown",
   "id": "ce0168ed-112e-43dd-afc2-b2144d57f6ec",
   "metadata": {},
   "source": [
    "You can see, the `Series` is considered as a column with indices of its rows. By default, indices start from 0 to denote the first row.\n",
    "\n",
    "To extract the row with index `i`, we use the notation `series[i]`.\n",
    "Example to retrieve the 3rd row:"
   ]
  },
  {
   "cell_type": "code",
   "execution_count": 5,
   "id": "60bbb800-448a-4351-821d-557004728839",
   "metadata": {
    "tags": []
   },
   "outputs": [
    {
     "name": "stdout",
     "output_type": "stream",
     "text": [
      "The 3rd row of the temperatures Series: 4.4\n"
     ]
    }
   ],
   "source": [
    "# extract the 3rd row of the Series\n",
    "import pandas as pd\n",
    "temperatures = pd.Series([8.3, 10.5, 4.4, 2.9, 5.7, 11.1], name = \"Temperature\")\n",
    "print(\"The 3rd row of the temperatures Series:\", temperatures[2])"
   ]
  },
  {
   "cell_type": "markdown",
   "id": "b0830cab-8746-4b44-b991-61eb27b0bff3",
   "metadata": {},
   "source": [
    "To find out the size of the `Series`, we use the function `len()`:"
   ]
  },
  {
   "cell_type": "code",
   "execution_count": null,
   "id": "6a84bda9-2dc1-4998-a2aa-439ec0f64809",
   "metadata": {
    "tags": []
   },
   "outputs": [],
   "source": [
    "# get the size of the Series\n",
    "print(\"The size of the temperatures Series:\", len(temperatures))"
   ]
  },
  {
   "cell_type": "markdown",
   "id": "8a13ef6e-54ca-430a-a3c1-c0a56e169dd9",
   "metadata": {},
   "source": [
    "To calculate the average, maximum, and the minimum values of the `Series`, we use the function `mean()`, `max()`, `min()`:"
   ]
  },
  {
   "cell_type": "code",
   "execution_count": null,
   "id": "18efff48-92f4-43d6-b908-382504d10906",
   "metadata": {
    "tags": []
   },
   "outputs": [],
   "source": [
    "# calculate the average, maximum, and minimum temperature\n",
    "print(\"The average temperature:\", temperatures.mean())\n",
    "print(\"The maximum temperature:\", temperatures.max())\n",
    "print(\"The minimum temperature:\", temperatures.min())"
   ]
  },
  {
   "cell_type": "markdown",
   "id": "72879e54-ab7d-4f00-a404-849d27bed1b4",
   "metadata": {},
   "source": [
    "How to calculate the range of values in the `Series`?"
   ]
  },
  {
   "cell_type": "code",
   "execution_count": null,
   "id": "840d17b4-da7b-4b26-ae15-a65c8851488b",
   "metadata": {
    "tags": []
   },
   "outputs": [],
   "source": [
    "# calculate the range of temperature values\n",
    "print(\"The range of values in the temperatures Series:\", temperatures.max() - temperatures.min())"
   ]
  },
  {
   "cell_type": "markdown",
   "id": "fdd851a8-102c-4df6-9379-7afd5fe5a2d4",
   "metadata": {},
   "source": [
    "### `DataFrame`\n",
    "\n",
    "A `DataFrame` is a two-dimensional table, with labeled axes (columns and rows).\n",
    "\n",
    "Extracting a column from a `DataFrame` allows you to obtain a `Series`.\n",
    "\n",
    "Columns in a `DataFrame` can have different data types.\n",
    "\n",
    "We will manipulate a `DataFrame` that we are going to construct below. It contains pH data for several brands of mineral water. These brands and pH values are completely fictitious.\n",
    "\n",
    "The first column corresponds to the name of the brand. The second column corresponds to the measured pH value. We can see that the column names is specified at the header of each column."
   ]
  },
  {
   "cell_type": "code",
   "execution_count": 6,
   "id": "b0015f80",
   "metadata": {},
   "outputs": [
    {
     "data": {
      "text/html": [
       "<div>\n",
       "<style scoped>\n",
       "    .dataframe tbody tr th:only-of-type {\n",
       "        vertical-align: middle;\n",
       "    }\n",
       "\n",
       "    .dataframe tbody tr th {\n",
       "        vertical-align: top;\n",
       "    }\n",
       "\n",
       "    .dataframe thead th {\n",
       "        text-align: right;\n",
       "    }\n",
       "</style>\n",
       "<table border=\"1\" class=\"dataframe\">\n",
       "  <thead>\n",
       "    <tr style=\"text-align: right;\">\n",
       "      <th></th>\n",
       "      <th>brand</th>\n",
       "      <th>pH</th>\n",
       "    </tr>\n",
       "  </thead>\n",
       "  <tbody>\n",
       "    <tr>\n",
       "      <th>0</th>\n",
       "      <td>Crystal Quench</td>\n",
       "      <td>6.0</td>\n",
       "    </tr>\n",
       "    <tr>\n",
       "      <th>1</th>\n",
       "      <td>Aqua Essence</td>\n",
       "      <td>6.5</td>\n",
       "    </tr>\n",
       "    <tr>\n",
       "      <th>2</th>\n",
       "      <td>Purity Peak</td>\n",
       "      <td>6.8</td>\n",
       "    </tr>\n",
       "    <tr>\n",
       "      <th>3</th>\n",
       "      <td>Liquid Luster</td>\n",
       "      <td>7.1</td>\n",
       "    </tr>\n",
       "    <tr>\n",
       "      <th>4</th>\n",
       "      <td>Vital Springs</td>\n",
       "      <td>8.0</td>\n",
       "    </tr>\n",
       "    <tr>\n",
       "      <th>5</th>\n",
       "      <td>Mountain Mist</td>\n",
       "      <td>7.0</td>\n",
       "    </tr>\n",
       "    <tr>\n",
       "      <th>6</th>\n",
       "      <td>Pure Cascade</td>\n",
       "      <td>7.1</td>\n",
       "    </tr>\n",
       "    <tr>\n",
       "      <th>7</th>\n",
       "      <td>Nature Nectar</td>\n",
       "      <td>6.8</td>\n",
       "    </tr>\n",
       "    <tr>\n",
       "      <th>8</th>\n",
       "      <td>Zenith Water</td>\n",
       "      <td>7.1</td>\n",
       "    </tr>\n",
       "    <tr>\n",
       "      <th>9</th>\n",
       "      <td>Elemental Elixir</td>\n",
       "      <td>7.1</td>\n",
       "    </tr>\n",
       "  </tbody>\n",
       "</table>\n",
       "</div>"
      ],
      "text/plain": [
       "              brand   pH\n",
       "0    Crystal Quench  6.0\n",
       "1      Aqua Essence  6.5\n",
       "2       Purity Peak  6.8\n",
       "3     Liquid Luster  7.1\n",
       "4     Vital Springs  8.0\n",
       "5     Mountain Mist  7.0\n",
       "6      Pure Cascade  7.1\n",
       "7     Nature Nectar  6.8\n",
       "8      Zenith Water  7.1\n",
       "9  Elemental Elixir  7.1"
      ]
     },
     "execution_count": 6,
     "metadata": {},
     "output_type": "execute_result"
    }
   ],
   "source": [
    "# create the DataFrame with brand names and corresponding measured pH values\n",
    "df = pd.DataFrame({\n",
    "    \"brand\": ['Crystal Quench', 'Aqua Essence', 'Purity Peak', 'Liquid Luster', 'Vital Springs', 'Mountain Mist', 'Pure Cascade', 'Nature Nectar', 'Zenith Water', 'Elemental Elixir'],\n",
    "    \"pH\": [ 6.0,  6.5,  6.8,  7.1,  8.0,  7.0,  7.1,  6.8,  7.1,  7.1 ]\n",
    "})\n",
    "# print the DataFrame by simply calling the variable name\n",
    "df"
   ]
  },
  {
   "cell_type": "markdown",
   "id": "a572e053",
   "metadata": {},
   "source": [
    "If we want to access a particular column, we can call it via its column name."
   ]
  },
  {
   "cell_type": "code",
   "execution_count": 7,
   "id": "49a73413",
   "metadata": {},
   "outputs": [
    {
     "name": "stdout",
     "output_type": "stream",
     "text": [
      "The first column:\n",
      "0      Crystal Quench\n",
      "1        Aqua Essence\n",
      "2         Purity Peak\n",
      "3       Liquid Luster\n",
      "4       Vital Springs\n",
      "5       Mountain Mist\n",
      "6        Pure Cascade\n",
      "7       Nature Nectar\n",
      "8        Zenith Water\n",
      "9    Elemental Elixir\n",
      "Name: brand, dtype: object\n"
     ]
    }
   ],
   "source": [
    "# print the first column\n",
    "print('The first column:')\n",
    "print(df['brand'])"
   ]
  },
  {
   "cell_type": "markdown",
   "id": "9dcf1115",
   "metadata": {},
   "source": [
    "The obtained column is a `Series`. You can access a particular value by specifying the index of its row."
   ]
  },
  {
   "cell_type": "code",
   "execution_count": 8,
   "id": "86d9055a",
   "metadata": {},
   "outputs": [
    {
     "name": "stdout",
     "output_type": "stream",
     "text": [
      "The 4th row of the brand column: Liquid Luster\n"
     ]
    }
   ],
   "source": [
    "# print the 4th row of the brand column\n",
    "print('The 4th row of the brand column:', df['brand'][3])"
   ]
  },
  {
   "cell_type": "markdown",
   "id": "bda8d03d",
   "metadata": {},
   "source": [
    "### Descriptive statistics with Pandas\n",
    "\n",
    "Let's go further in using Pandas to extract metadata and statistics to describe our data.\n",
    "\n",
    "You can obtain the size, column names, and the number of rows of the `DataFrame` by executing the following code"
   ]
  },
  {
   "cell_type": "code",
   "execution_count": 9,
   "id": "afa41a7d",
   "metadata": {},
   "outputs": [
    {
     "name": "stdout",
     "output_type": "stream",
     "text": [
      "The size of the DataFrame: (10, 2)\n",
      "The column names of the DataFrame: Index(['brand', 'pH'], dtype='object')\n",
      "The number of rows of the DataFrame: 10\n"
     ]
    }
   ],
   "source": [
    "# Obtain the size, column names, and the number of rows of the DataFrame\n",
    "print('The size of the DataFrame:', df.shape)\n",
    "print('The column names of the DataFrame:', df.columns)\n",
    "print('The number of rows of the DataFrame:', len(df))"
   ]
  },
  {
   "cell_type": "markdown",
   "id": "480c1a68",
   "metadata": {},
   "source": [
    "Or you can simply get the general information of the `DataFrame` with `df.info()`."
   ]
  },
  {
   "cell_type": "code",
   "execution_count": null,
   "id": "c0506aca",
   "metadata": {},
   "outputs": [],
   "source": [
    "# Obtain the general information of the DataFrame\n",
    "df.info()"
   ]
  },
  {
   "cell_type": "markdown",
   "id": "23b89bf1",
   "metadata": {},
   "source": [
    "You can calculate the mean, max, min, standard deviation, median, quantiles of the columns with quantitative values. By specifying `numeric_only = True`, the qualitative data will be ignored."
   ]
  },
  {
   "cell_type": "code",
   "execution_count": null,
   "id": "401a1fbe",
   "metadata": {},
   "outputs": [],
   "source": [
    "# Calculate the mean value\n",
    "print('The mean value:\\n', df.mean(numeric_only = True), '\\n')\n",
    "\n",
    "# Calculate the max value\n",
    "print('The max value:\\n', df.max(numeric_only = True), '\\n')\n",
    "\n",
    "# Calculate the min value\n",
    "print('The min value:\\n', df.min(numeric_only = True), '\\n')\n",
    "\n",
    "# Calculate the standard deviation\n",
    "print('The standard deivation:\\n', df.std(numeric_only = True), '\\n')\n",
    "\n",
    "# Calculate the 25% quantile\n",
    "print('The 25 quantile:\\n', df.quantile(0.25, numeric_only = True), '\\n')"
   ]
  },
  {
   "cell_type": "markdown",
   "id": "9f706640",
   "metadata": {},
   "source": [
    "Or you can simply get the summary of the above statistics with `df.describe()`."
   ]
  },
  {
   "cell_type": "code",
   "execution_count": null,
   "id": "89bc836b",
   "metadata": {},
   "outputs": [],
   "source": [
    "# obtain the summary of statistics of the DataFrame\n",
    "df.describe()"
   ]
  },
  {
   "cell_type": "markdown",
   "id": "b7fd5543",
   "metadata": {},
   "source": [
    "You can also search the `DataFrame` to find the index of a particular value.\n",
    "\n",
    "Here we want to obtain the index of the row with the highest / lowest pH value."
   ]
  },
  {
   "cell_type": "code",
   "execution_count": null,
   "id": "d03740b4",
   "metadata": {},
   "outputs": [],
   "source": [
    "# obtain the index of the row with the highest value\n",
    "print('The index of the row with the highest value:', df['pH'].idxmax())\n",
    "\n",
    "# obtain the index of the row with the lowest value\n",
    "print('The index of the row with the lowest value:', df['pH'].idxmin())"
   ]
  },
  {
   "cell_type": "markdown",
   "id": "15950c82",
   "metadata": {},
   "source": [
    "And you can also try to visualize your data in the `DataFrame`.\n",
    "\n",
    "Here we create a histogram for the pH column, the `bins` parameter defines the number of bins in the histogram.\n",
    "\n",
    "You can find more visualization functions using the [Matplotlib](https://matplotlib.org) library."
   ]
  },
  {
   "cell_type": "code",
   "execution_count": 10,
   "id": "7d06970f",
   "metadata": {},
   "outputs": [
    {
     "data": {
      "text/plain": [
       "<AxesSubplot:>"
      ]
     },
     "execution_count": 10,
     "metadata": {},
     "output_type": "execute_result"
    },
    {
     "data": {
      "image/png": "[encoded data removed]",
      "text/plain": [
       "<Figure size 432x288 with 1 Axes>"
      ]
     },
     "metadata": {
      "needs_background": "light"
     },
     "output_type": "display_data"
    }
   ],
   "source": [
    "# visualize the pH data as a histogram\n",
    "df['pH'].hist(bins = 10)"
   ]
  },
  {
   "cell_type": "markdown",
   "id": "5c3fa0e9",
   "metadata": {},
   "source": [
    "## Part 2. Hands-on Exercises\n",
    "\n",
    "Your cousin who lives in Paris is expecting her first child and is desperately looking for “THE” name she will give to her baby. She is looking for a first name that is not too common.\n",
    "\n",
    "You want to help her and you suggest she do an analysis on the first names given to children born in Paris in recent years. And that's good, the City of Paris provides this information with free access on its [Open Data site](https://opendata.paris.fr/explore/dataset/liste_des_prenoms/). \n",
    "\n",
    "You will load this dataset as a `DataFrame` and complete the following tasks by manipulating the `DataFrame`.\n",
    "\n",
    "First, let's load the dataset via the .csv file you can find on the Learn platform. Use the function `pd.read_csv()` and be careful about the file path."
   ]
  },
  {
   "cell_type": "code",
   "execution_count": null,
   "id": "0d9e1f39",
   "metadata": {},
   "outputs": [],
   "source": [
    "# read the first names dataset from the .csv file\n",
    "df = pd.read_csv('first_name_dataset.csv')\n",
    "df"
   ]
  },
  {
   "cell_type": "markdown",
   "id": "b154ca39",
   "metadata": {},
   "source": [
    "### Task1. Explore the dataset\n",
    "\n",
    "<span style=\"color:red\">**[TBC]**</span>: Before performing analysis on the dataset, use the functions mentioned above to explore the dataset. You are free to decide what kind of information you want to obtain about this dataset. The only goal is to get a better understanding about the dataset you are working with."
   ]
  },
  {
   "cell_type": "code",
   "execution_count": null,
   "id": "5b937fc9",
   "metadata": {},
   "outputs": [],
   "source": [
    "# [TBC] complete your code here with proper comments\n"
   ]
  },
  {
   "cell_type": "markdown",
   "id": "874d1b16",
   "metadata": {},
   "source": [
    "### Task 2. How many unique names does this dataset contain?\n",
    "\n",
    "<span style=\"color:red\">**[TBC]**</span>: Try to find out how many unique names for girls and boys this dataset contains?\n",
    "\n",
    "You may use the `unique()` method of `Series`, the documentation is [here](https://pandas.pydata.org/docs/reference/api/pandas.Series.unique.html#pandas.Series.unique). Or you can try to complete this task with other functions.\n",
    "\n",
    "The correct answer is: 1436 unique names for girls and 1335 unique names for boys."
   ]
  },
  {
   "cell_type": "code",
   "execution_count": null,
   "id": "36ba68bc",
   "metadata": {},
   "outputs": [],
   "source": [
    "# [TBC] complete your code here with proper comments\n"
   ]
  },
  {
   "cell_type": "markdown",
   "id": "0d0de340",
   "metadata": {},
   "source": [
    "### Task 3. What is the most common name?\n",
    "\n",
    "<span style=\"color:red\">**[TBC]**</span>: Try to find out the most common names for girls and boys from the year 2018.\n",
    "\n",
    "You may use the `groupby()` ([documentation](https://pandas.pydata.org/docs/reference/api/pandas.DataFrame.groupby.html#pandas.DataFrame.groupby)) method of `DataFrame` and the `idxmax()` method.\n",
    "\n",
    "The correct answer is:\n",
    "- For girls, Louise is the most common name, declared 874 times.\n",
    "- For boys, Gabriel is the most common name, declared 1378 times."
   ]
  },
  {
   "cell_type": "code",
   "execution_count": null,
   "id": "8c59c45b",
   "metadata": {},
   "outputs": [],
   "source": [
    "# [TBC] complete your code here with proper comments\n"
   ]
  }
 ],
 "metadata": {
  "kernelspec": {
   "display_name": "Python 3 (ipykernel)",
   "language": "python",
   "name": "python3"
  },
  "language_info": {
   "codemirror_mode": {
    "name": "ipython",
    "version": 3
   },
   "file_extension": ".py",
   "mimetype": "text/x-python",
   "name": "python",
   "nbconvert_exporter": "python",
   "pygments_lexer": "ipython3",
   "version": "3.9.6"
  }
 },
 "nbformat": 4,
 "nbformat_minor": 5
}
