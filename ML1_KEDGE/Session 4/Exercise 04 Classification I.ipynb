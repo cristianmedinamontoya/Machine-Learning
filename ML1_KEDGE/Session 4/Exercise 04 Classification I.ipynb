{
 "cells": [
  {
   "cell_type": "markdown",
   "id": "5d97c5e5",
   "metadata": {},
   "source": [
    "# Exercise 04 Classification I"
   ]
  },
  {
   "cell_type": "markdown",
   "id": "88feebaa",
   "metadata": {},
   "source": [
    "## Pedagogy\n",
    "\n",
    "This notebook contains both theoretical explanations and executable cells to execute your code.\n",
    "\n",
    "When you see the <span style=\"color:red\">**[TBC]**</span> (To Be Completed) sign, it means that you need to perform an action else besides executing the cells of code that already exist. These actions can be:\n",
    "- Complete the code with proper comments\n",
    "- Respond to a question\n",
    "- Write an analysis\n",
    "- etc."
   ]
  },
  {
   "cell_type": "markdown",
   "id": "59e84152",
   "metadata": {},
   "source": [
    "### Import libraries"
   ]
  },
  {
   "cell_type": "code",
   "execution_count": null,
   "id": "181ffbbb",
   "metadata": {},
   "outputs": [],
   "source": [
    "# import all libraries used in this notebook here\n",
    "import pandas as pd\n",
    "import numpy as np\n",
    "import matplotlib.pyplot as plt\n",
    "from sklearn import datasets\n",
    "from sklearn.model_selection import train_test_split\n",
    "from sklearn.linear_model import LogisticRegression\n",
    "from sklearn.metrics import confusion_matrix\n",
    "from sklearn.metrics import ConfusionMatrixDisplay\n",
    "from sklearn.metrics import accuracy_score\n",
    "from sklearn.metrics import precision_score\n",
    "from sklearn.metrics import recall_score\n",
    "from sklearn.metrics import f1_score\n",
    "from sklearn.metrics import classification_report\n",
    "from sklearn.metrics import roc_curve\n",
    "from sklearn.metrics import roc_auc_score"
   ]
  },
  {
   "cell_type": "markdown",
   "id": "b31f05f4",
   "metadata": {},
   "source": [
    "## Part 1. Logistic regression with a toy dataset"
   ]
  },
  {
   "cell_type": "markdown",
   "id": "2e0c284d",
   "metadata": {},
   "source": [
    "This part will buid a binary classifier using the logistic regression algorithm with a toy dataset.\n",
    "The aim of this part is to master how to implement logistic regression using `sklearn` and how to calculate various evaluation metrics."
   ]
  },
  {
   "cell_type": "markdown",
   "id": "fa7e2e4a",
   "metadata": {},
   "source": [
    "### Load dataset\n",
    "\n",
    "In this part, we will use a toy dataset provided by `sklearn`: the [Breast cancer wisconsin (diagnostic) dataset](https://scikit-learn.org/stable/datasets/toy_dataset.html#breast-cancer-dataset).\n",
    "\n",
    "he breast cancer dataset is a classic and very easy binary classification dataset. You can find the original source of this dataset [here](https://archive.ics.uci.edu/dataset/17/breast+cancer+wisconsin+diagnostic).\n",
    "\n",
    "There are 30 numeric features in the dataset that might be useful for diagnosing breast cancer. These features are computed from a digitized image of a fine needle aspirate (FNA) of a breast mass.  They describe characteristics of the cell nuclei present in the image.\n",
    "\n",
    "The features include:\n",
    "- radius\n",
    "- texture\n",
    "- perimeter\n",
    "- area\n",
    "- smoothness\n",
    "- compactness\n",
    "- concavity\n",
    "- concave points\n",
    "- symmetry\n",
    "- fractal dimension\n",
    "\n",
    "Each example is corresponding to a digitized image with multiple cell nucleus. The above features of each cell nuclei are summarized as a mean value, a worst value and a standard variation.\n",
    "\n",
    "There are two classes in this dataset: 1 (WDBC-Malignant) and 0 (WDBC-Benign).\n",
    "\n",
    "Load this dataset using `sklearn.datasets.load_breast_cancer`, you can find the documentation [here](https://scikit-learn.org/stable/modules/generated/sklearn.datasets.load_breast_cancer.html#sklearn.datasets.load_breast_cancer)."
   ]
  },
  {
   "cell_type": "code",
   "execution_count": null,
   "id": "0be5dc2f",
   "metadata": {},
   "outputs": [],
   "source": [
    "# load dataset\n",
    "feature_df, target_df = datasets.load_breast_cancer(\n",
    "    return_X_y = True,\n",
    "    as_frame = True\n",
    ")"
   ]
  },
  {
   "cell_type": "code",
   "execution_count": null,
   "id": "a86a8e17",
   "metadata": {},
   "outputs": [
    {
     "name": "stdout",
     "output_type": "stream",
     "text": [
      "<class 'pandas.core.frame.DataFrame'>\n",
      "RangeIndex: 569 entries, 0 to 568\n",
      "Data columns (total 30 columns):\n",
      " #   Column                   Non-Null Count  Dtype  \n",
      "---  ------                   --------------  -----  \n",
      " 0   mean radius              569 non-null    float64\n",
      " 1   mean texture             569 non-null    float64\n",
      " 2   mean perimeter           569 non-null    float64\n",
      " 3   mean area                569 non-null    float64\n",
      " 4   mean smoothness          569 non-null    float64\n",
      " 5   mean compactness         569 non-null    float64\n",
      " 6   mean concavity           569 non-null    float64\n",
      " 7   mean concave points      569 non-null    float64\n",
      " 8   mean symmetry            569 non-null    float64\n",
      " 9   mean fractal dimension   569 non-null    float64\n",
      " 10  radius error             569 non-null    float64\n",
      " 11  texture error            569 non-null    float64\n",
      " 12  perimeter error          569 non-null    float64\n",
      " 13  area error               569 non-null    float64\n",
      " 14  smoothness error         569 non-null    float64\n",
      " 15  compactness error        569 non-null    float64\n",
      " 16  concavity error          569 non-null    float64\n",
      " 17  concave points error     569 non-null    float64\n",
      " 18  symmetry error           569 non-null    float64\n",
      " 19  fractal dimension error  569 non-null    float64\n",
      " 20  worst radius             569 non-null    float64\n",
      " 21  worst texture            569 non-null    float64\n",
      " 22  worst perimeter          569 non-null    float64\n",
      " 23  worst area               569 non-null    float64\n",
      " 24  worst smoothness         569 non-null    float64\n",
      " 25  worst compactness        569 non-null    float64\n",
      " 26  worst concavity          569 non-null    float64\n",
      " 27  worst concave points     569 non-null    float64\n",
      " 28  worst symmetry           569 non-null    float64\n",
      " 29  worst fractal dimension  569 non-null    float64\n",
      "dtypes: float64(30)\n",
      "memory usage: 133.5 KB\n"
     ]
    }
   ],
   "source": [
    "# get the basic information of the features\n",
    "feature_df.info()"
   ]
  },
  {
   "cell_type": "markdown",
   "id": "c428ddb5",
   "metadata": {},
   "source": [
    "There are too many features in the dataset, some of them are highly correlated with each other. For example, the mean value and worst value might be highly correlated.\n",
    "\n",
    "To simply the problem, we only keep the mean values as the input features and eliminate the worst values and standard deviations."
   ]
  },
  {
   "cell_type": "code",
   "execution_count": null,
   "id": "3bc718db",
   "metadata": {},
   "outputs": [
    {
     "name": "stdout",
     "output_type": "stream",
     "text": [
      "<class 'pandas.core.frame.DataFrame'>\n",
      "RangeIndex: 569 entries, 0 to 568\n",
      "Data columns (total 10 columns):\n",
      " #   Column                  Non-Null Count  Dtype  \n",
      "---  ------                  --------------  -----  \n",
      " 0   mean radius             569 non-null    float64\n",
      " 1   mean texture            569 non-null    float64\n",
      " 2   mean perimeter          569 non-null    float64\n",
      " 3   mean area               569 non-null    float64\n",
      " 4   mean smoothness         569 non-null    float64\n",
      " 5   mean compactness        569 non-null    float64\n",
      " 6   mean concavity          569 non-null    float64\n",
      " 7   mean concave points     569 non-null    float64\n",
      " 8   mean symmetry           569 non-null    float64\n",
      " 9   mean fractal dimension  569 non-null    float64\n",
      "dtypes: float64(10)\n",
      "memory usage: 44.6 KB\n"
     ]
    }
   ],
   "source": [
    "# keep the last 10 columns as the input features\n",
    "feature_df = feature_df[feature_df.columns[:10]]\n",
    "feature_df.info()"
   ]
  },
  {
   "cell_type": "code",
   "execution_count": null,
   "id": "22925cbd",
   "metadata": {},
   "outputs": [
    {
     "data": {
      "text/plain": [
       "0      0\n",
       "1      0\n",
       "2      0\n",
       "3      0\n",
       "4      0\n",
       "      ..\n",
       "564    0\n",
       "565    0\n",
       "566    0\n",
       "567    0\n",
       "568    1\n",
       "Name: target, Length: 569, dtype: int32"
      ]
     },
     "execution_count": 5,
     "metadata": {},
     "output_type": "execute_result"
    }
   ],
   "source": [
    "# print the target class\n",
    "target_df"
   ]
  },
  {
   "cell_type": "code",
   "execution_count": null,
   "id": "4ef0ad10",
   "metadata": {},
   "outputs": [
    {
     "name": "stdout",
     "output_type": "stream",
     "text": [
      "Numver of negative class: 212\n",
      "Numver of positive class: 357\n"
     ]
    }
   ],
   "source": [
    "# check imbalanced classes\n",
    "print(\"Numver of negative class:\", sum(target_df == 0))\n",
    "print(\"Numver of positive class:\", sum(target_df == 1))"
   ]
  },
  {
   "cell_type": "markdown",
   "id": "2073546e",
   "metadata": {},
   "source": [
    "### Train test split"
   ]
  },
  {
   "cell_type": "code",
   "execution_count": null,
   "id": "e447c823",
   "metadata": {},
   "outputs": [],
   "source": [
    "# train test split\n",
    "X_train, X_test, y_train, y_test = train_test_split(\n",
    "    feature_df.values,\n",
    "    target_df.values,\n",
    "    train_size = 0.7,\n",
    "    shuffle = True,\n",
    "    random_state = 0\n",
    ")"
   ]
  },
  {
   "cell_type": "markdown",
   "metadata": {},
   "source": []
  },
  {
   "cell_type": "markdown",
   "id": "3748fd70",
   "metadata": {},
   "source": [
    "### Train the model\n",
    "\n",
    "We will train a logistic regression model to perform binary classification.\n",
    "\n",
    "Use `sklearn.linear_regression.LogisticRegression` to implement logistic regression.\n",
    "\n",
    "Logistic regression model outputs the probability of an example belongs to a category. We need to specify a threshold to convert the predicted probabilities to discrete categories.\n",
    "\n",
    "`sklearn.linear_regression.LogisticRegression` set the default threshold to 0.5"
   ]
  },
  {
   "cell_type": "code",
   "execution_count": null,
   "id": "cec07ca3",
   "metadata": {},
   "outputs": [
    {
     "data": {
      "text/plain": [
       "LogisticRegression()"
      ]
     },
     "execution_count": 8,
     "metadata": {},
     "output_type": "execute_result"
    }
   ],
   "source": [
    "# fit the model\n",
    "clf = LogisticRegression()\n",
    "clf.fit(X_train, y_train)"
   ]
  },
  {
   "cell_type": "markdown",
   "id": "cb382898",
   "metadata": {},
   "source": [
    "### Evaluate the model\n",
    "\n",
    "To evaluate the model performance on the testing dataset, we need to use the trained model to make predictions at first. There are two types of prediction can be made:\n",
    "- method `predict_proba()` output the predicted probability\n",
    "- method `predict()` output the predicted category by setting the threshold to 0.5"
   ]
  },
  {
   "cell_type": "code",
   "execution_count": null,
   "id": "df34254d",
   "metadata": {},
   "outputs": [
    {
     "data": {
      "text/plain": [
       "array([[0.45704261, 0.54295739],\n",
       "       [0.17939514, 0.82060486],\n",
       "       [0.08661718, 0.91338282],\n",
       "       [0.16525119, 0.83474881],\n",
       "       [0.05373735, 0.94626265]])"
      ]
     },
     "execution_count": 9,
     "metadata": {},
     "output_type": "execute_result"
    }
   ],
   "source": [
    "# predict probability for the first five examples in the testing dataset\n",
    "clf.predict_proba(X_test[:5, :])"
   ]
  },
  {
   "cell_type": "markdown",
   "id": "80aaac57",
   "metadata": {},
   "source": [
    "The output is a 2D array.\n",
    "- The first column is the probability of being 0 (the negative class)\n",
    "- The second column is the probability of being 1 (the positive class)\n",
    "- The sum of each row is equal to 1"
   ]
  },
  {
   "cell_type": "code",
   "execution_count": null,
   "id": "e9b15176",
   "metadata": {},
   "outputs": [
    {
     "data": {
      "text/plain": [
       "array([1, 1, 1, 1, 1])"
      ]
     },
     "execution_count": 10,
     "metadata": {},
     "output_type": "execute_result"
    }
   ],
   "source": [
    "# predict the category for the first five examples in the testing dataset\n",
    "clf.predict(X_test[:5, :])"
   ]
  },
  {
   "cell_type": "markdown",
   "id": "62b64765",
   "metadata": {},
   "source": [
    "The output is a 1D array consists of predicted categories.\n",
    "- 0 represent the negative class\n",
    "- 1 represent the positive class\n",
    "- The default threshold is 0.5"
   ]
  },
  {
   "cell_type": "code",
   "execution_count": null,
   "id": "33c2425c",
   "metadata": {},
   "outputs": [],
   "source": [
    "# make predictions for the entire testing dataset\n",
    "y_pred_proba = clf.predict_proba(X_test)\n",
    "y_pred = clf.predict(X_test)"
   ]
  },
  {
   "cell_type": "markdown",
   "id": "4b5dd829",
   "metadata": {},
   "source": [
    "#### Confusion matrix\n",
    "\n",
    "Compute confusion matrix using `sklearn.metrics.confusion_matrix`.\n",
    "\n",
    "Visualization confusion matrix using `sklearn.metrics.ConfusionMatrixDisplay`."
   ]
  },
  {
   "cell_type": "code",
   "execution_count": null,
   "id": "d8431c9d",
   "metadata": {},
   "outputs": [
    {
     "name": "stdout",
     "output_type": "stream",
     "text": [
      "[[ 55   8]\n",
      " [  6 102]]\n"
     ]
    }
   ],
   "source": [
    "# compute the confusion matrix\n",
    "cm = confusion_matrix(y_test, y_pred)\n",
    "print(cm)"
   ]
  },
  {
   "cell_type": "code",
   "execution_count": null,
   "id": "b24fb2b5",
   "metadata": {},
   "outputs": [
    {
     "data": {
      "image/png": "[encoded data removed]",
      "text/plain": [
       "<Figure size 432x288 with 2 Axes>"
      ]
     },
     "metadata": {
      "needs_background": "light"
     },
     "output_type": "display_data"
    }
   ],
   "source": [
    "# visualize the confusion matrix\n",
    "disp = ConfusionMatrixDisplay(\n",
    "    confusion_matrix = cm,\n",
    "    display_labels = ['WDBC-Benign', 'WDBC-Malignant']\n",
    ")\n",
    "disp.plot()\n",
    "plt.show()"
   ]
  },
  {
   "cell_type": "markdown",
   "id": "b849f904",
   "metadata": {},
   "source": [
    "#### Accuracy, precision, recall & F1-score\n",
    "\n",
    "We can calculate these metrics manually using the confusion matrix.\n",
    "\n",
    "Or we can `sklearn` to automatically perform the calculation:\n",
    "- `sklearn.metrics.accuracy_score`\n",
    "- `sklearn.metrics.precision_score`\n",
    "- `sklearn.metrics.recall_score`\n",
    "- `sklearn.metrics.f1_score`"
   ]
  },
  {
   "cell_type": "code",
   "execution_count": null,
   "id": "681a5681",
   "metadata": {},
   "outputs": [
    {
     "name": "stdout",
     "output_type": "stream",
     "text": [
      "Accuracy:\t 0.9181286549707602\n",
      "Precision:\t 0.9272727272727272\n",
      "Recall:\t\t 0.9444444444444444\n",
      "F1-score:\t 0.9357798165137615\n"
     ]
    }
   ],
   "source": [
    "# calculate the metrics manually\n",
    "accuracy_test = (cm[0, 0] + cm[1, 1]) / cm.sum()\n",
    "precision_test = cm[1, 1] / (cm[1, 1] + cm[0, 1])\n",
    "recall_test = cm[1, 1] / (cm[1, 1] + cm[1, 0])\n",
    "f1_test = 2 * precision_test * recall_test / (precision_test + recall_test)\n",
    "\n",
    "# print the metrics\n",
    "print(\"Accuracy:\\t\", accuracy_test)\n",
    "print(\"Precision:\\t\", precision_test)\n",
    "print(\"Recall:\\t\\t\", recall_test)\n",
    "print(\"F1-score:\\t\", f1_test)"
   ]
  },
  {
   "cell_type": "code",
   "execution_count": null,
   "id": "f26d4477",
   "metadata": {},
   "outputs": [
    {
     "name": "stdout",
     "output_type": "stream",
     "text": [
      "Accuracy:\t 0.9181286549707602\n",
      "Precision:\t 0.9272727272727272\n",
      "Recall:\t\t 0.9444444444444444\n",
      "F1-score:\t 0.9357798165137615\n"
     ]
    }
   ],
   "source": [
    "# calcualte the metrics by sklearn\n",
    "print(\"Accuracy:\\t\", accuracy_score(y_test, y_pred))\n",
    "print(\"Precision:\\t\", precision_score(y_test, y_pred))\n",
    "print(\"Recall:\\t\\t\", recall_score(y_test, y_pred))\n",
    "print(\"F1-score:\\t\", f1_score(y_test, y_pred))"
   ]
  },
  {
   "cell_type": "code",
   "execution_count": null,
   "id": "22aed6e4",
   "metadata": {},
   "outputs": [
    {
     "name": "stdout",
     "output_type": "stream",
     "text": [
      "              precision    recall  f1-score   support\n",
      "\n",
      "           0       0.90      0.87      0.89        63\n",
      "           1       0.93      0.94      0.94       108\n",
      "\n",
      "    accuracy                           0.92       171\n",
      "   macro avg       0.91      0.91      0.91       171\n",
      "weighted avg       0.92      0.92      0.92       171\n",
      "\n"
     ]
    }
   ],
   "source": [
    "# get all metrics using `classification_report`\n",
    "print(classification_report(y_test, y_pred))"
   ]
  },
  {
   "cell_type": "markdown",
   "id": "782a7d8d",
   "metadata": {},
   "source": [
    "#### ROC curve & AUC\n",
    "\n",
    "Use `sklearn.metrics.roc_curve` to compute the ROC curve.\n",
    "\n",
    "Use `sklearn.metrics.roc_auc_score` to calculate the AUC metric."
   ]
  },
  {
   "cell_type": "code",
   "execution_count": null,
   "id": "5e3d6835",
   "metadata": {},
   "outputs": [
    {
     "data": {
      "image/png": "[encoded data removed]",
      "text/plain": [
       "<Figure size 360x288 with 1 Axes>"
      ]
     },
     "metadata": {
      "needs_background": "light"
     },
     "output_type": "display_data"
    }
   ],
   "source": [
    "# compute ROC curve\n",
    "fpr, tpr, thresholds = roc_curve(\n",
    "    y_test, # the true class\n",
    "    y_pred_proba[:, 1], # the second column, the probability of being positive\n",
    "    pos_label = 1 # the positive class is labeled as 1\n",
    ")\n",
    "\n",
    "# plot ROC curve\n",
    "plt.figure(figsize = [5, 4])\n",
    "plt.plot(fpr, tpr, '-')\n",
    "plt.xlabel('False Positive Rate')\n",
    "plt.ylabel('True Positive Rate')\n",
    "plt.show()"
   ]
  },
  {
   "cell_type": "code",
   "execution_count": null,
   "id": "c6a2e9fa",
   "metadata": {},
   "outputs": [
    {
     "name": "stdout",
     "output_type": "stream",
     "text": [
      "AUC:\t 0.982363315696649\n"
     ]
    }
   ],
   "source": [
    "# calculate AUC\n",
    "auc_test = roc_auc_score(\n",
    "    y_test, # the true class\n",
    "    y_pred_proba[:, 1], # the second column, the probability of being positive\n",
    ")\n",
    "print(\"AUC:\\t\", auc_test)"
   ]
  },
  {
   "cell_type": "markdown",
   "id": "a6e9e12a",
   "metadata": {},
   "source": [
    "## Part 2. Hands-on exercise\n",
    "\n",
    "In this exercise, we will build a logistic regression model with the the [California Housing dataset](https://scikit-learn.org/stable/datasets/real_world.html#california-housing-dataset), the same one as Exercise 02 & 04.\n",
    "\n",
    "The goal of the logistic regression model is to perform a binary classification taks:\n",
    "- 0 represent 'Normal Price'\n",
    "- 1 represent 'Expensive Price'\n",
    "\n",
    "Since there is no such categorical columns in the dataset, we need to create the target labels according to the `MedHouseVal`, which used to be the target variable for regression problem.\n",
    "- `MedHouseVal` <= 2.5 $\\rightarrow$ 'Normal Price'\n",
    "- `MedHouseVal` > 2.5 $\\rightarrow$ 'Expensive Price'\n",
    "\n",
    "<span style=\"color:red\">**[TBC]**</span> Please complete the following tasks:\n",
    "- Load the California Housing Dataset\n",
    "- Create target labels\n",
    "- Split the dataset into the training and testing part\n",
    "- Train the logistic regression model\n",
    "- Evaluate the trained model with various metrics"
   ]
  },
  {
   "cell_type": "markdown",
   "id": "714e9a18",
   "metadata": {},
   "source": [
    "### Task 1. Load the California Housing Dataset\n",
    "\n",
    "<span style=\"color:red\">**[TBC]**</span> It can be downloaded/loaded using the `sklearn.datasets.fetch_california_housing()` function."
   ]
  },
  {
   "cell_type": "code",
   "execution_count": null,
   "id": "99acf043",
   "metadata": {},
   "outputs": [],
   "source": [
    "# [TBC] complete your code here with proper comments\n",
    "from sklearn.datasets import fetch_california_housing\n",
    "import pandas as pd\n",
    "import numpy as np\n",
    "import matplotlib.pyplot as plt\n",
    "from sklearn import datasets\n",
    "from sklearn.model_selection import train_test_split\n",
    "from sklearn.linear_model import LogisticRegression\n",
    "from sklearn.metrics import confusion_matrix\n",
    "from sklearn.metrics import ConfusionMatrixDisplay\n",
    "from sklearn.metrics import accuracy_score\n",
    "from sklearn.metrics import precision_score\n",
    "from sklearn.metrics import recall_score\n",
    "from sklearn.metrics import f1_score\n",
    "from sklearn.metrics import classification_report\n",
    "from sklearn.metrics import roc_curve\n",
    "from sklearn.metrics import roc_auc_score"
   ]
  },
  {
   "cell_type": "markdown",
   "id": "e5347f03",
   "metadata": {},
   "source": [
    "### Task 2. Create the target labels\n",
    "\n",
    "<span style=\"color:red\">**[TBC]**</span> Use `MedHouseVal` as the reference to create a pandas series as the new targel variable."
   ]
  },
  {
   "cell_type": "code",
   "execution_count": null,
   "id": "49e1b8a8",
   "metadata": {},
   "outputs": [],
   "source": [
    "# [TBC] complete your code here with proper comments\n",
    "feature_df, target_df = fetch_california_housing(\n",
    "    return_X_y = True, # return features and target separately\n",
    "    as_frame = True, # return features and target as pandas DataFrame or Series\n",
    "    # scaled = False # return raw values\n",
    ")\n",
    "target_df = pd.DataFrame(target_df, columns=['MedHouseVal'])\n",
    "target_df['MedHouseVal'] = (target_df['MedHouseVal'] > 2.5).astype(int)\n",
    "# target_df.head()\n",
    "\n"
   ]
  },
  {
   "cell_type": "markdown",
   "id": "e5869897",
   "metadata": {},
   "source": [
    "### Task 3. Split the dataset into the training and testing part\n",
    "<span style=\"color:red\">**[TBC]**</span> Please split the whold dataset into two parts: the training and testing set. Please use 70% of the data as the training dataset, and the rest as the testing dataset."
   ]
  },
  {
   "cell_type": "code",
   "execution_count": null,
   "id": "ec4680e9",
   "metadata": {},
   "outputs": [
    {
     "name": "stdout",
     "output_type": "stream",
     "text": [
      "Numver of negative class: 14858\n",
      "Numver of positive class: 5782\n"
     ]
    }
   ],
   "source": [
    "# [TBC] complete your code here with proper comments\n",
    " # Splitting dataset\n",
    "print(\"Numver of negative class:\", sum(target_df['MedHouseVal'] == 0))\n",
    "print(\"Numver of positive class:\", sum(target_df['MedHouseVal'] == 1))\n",
    "\n",
    "X_train, X_test, y_train, y_test = train_test_split(\n",
    "    feature_df.values,\n",
    "    target_df.values,\n",
    "    train_size = 0.7,\n",
    "    shuffle = True,\n",
    "    random_state = 0\n",
    ")"
   ]
  },
  {
   "cell_type": "markdown",
   "id": "e16e0f1d",
   "metadata": {},
   "source": [
    "### Task 4. Train the logistic regression model\n",
    "<span style=\"color:red\">**[TBC]**</span> Please use `sklearn.linear_regression.LogisticRegression` to implement logistic regression and train the binary classifier."
   ]
  },
  {
   "cell_type": "code",
   "execution_count": null,
   "id": "50457d4e",
   "metadata": {},
   "outputs": [
    {
     "name": "stderr",
     "output_type": "stream",
     "text": [
      "c:\\Users\\CristianMedina\\AppData\\Local\\Programs\\Python\\Python39\\lib\\site-packages\\sklearn\\utils\\validation.py:985: DataConversionWarning: A column-vector y was passed when a 1d array was expected. Please change the shape of y to (n_samples, ), for example using ravel().\n",
      "  y = column_or_1d(y, warn=True)\n"
     ]
    },
    {
     "data": {
      "text/plain": [
       "LogisticRegression(max_iter=1000)"
      ]
     },
     "execution_count": 25,
     "metadata": {},
     "output_type": "execute_result"
    }
   ],
   "source": [
    "# [TBC] complete your code here with proper comments\n",
    "\n",
    "#Use max iterations\n",
    "clf = LogisticRegression(max_iter=1000)\n",
    "clf.fit(X_train, y_train)\n",
    "\n"
   ]
  },
  {
   "cell_type": "markdown",
   "id": "4ea1a451",
   "metadata": {},
   "source": [
    "### Task 5. Evaluate the trained model with various metrics\n",
    "\n",
    "<span style=\"color:red\">**[TBC]**</span> Please complete the following steps:\n",
    "- make predictions for the testing dataset\n",
    "- compute and visualize the confusion matrix\n",
    "- calculate accuracy, precision, recall, and F1-score\n",
    "- compute the ROC curve and AUC\n",
    "- analysis the performance of this classifier"
   ]
  },
  {
   "cell_type": "code",
   "execution_count": null,
   "id": "b6cb82e3",
   "metadata": {},
   "outputs": [
    {
     "name": "stdout",
     "output_type": "stream",
     "text": [
      "[[4179  271]\n",
      " [ 673 1070]]\n"
     ]
    },
    {
     "data": {
      "image/png": "[encoded data removed]",
      "text/plain": [
       "<Figure size 432x288 with 2 Axes>"
      ]
     },
     "metadata": {
      "needs_background": "light"
     },
     "output_type": "display_data"
    },
    {
     "name": "stdout",
     "output_type": "stream",
     "text": [
      "Accuracy:\t 0.8475698369126433\n",
      "Precision:\t 0.7979120059656972\n",
      "Recall:\t\t 0.6138841078600115\n",
      "F1-score:\t 0.6939040207522698\n"
     ]
    },
    {
     "data": {
      "image/png": "[encoded data removed]",
      "text/plain": [
       "<Figure size 576x432 with 1 Axes>"
      ]
     },
     "metadata": {
      "needs_background": "light"
     },
     "output_type": "display_data"
    },
    {
     "name": "stdout",
     "output_type": "stream",
     "text": [
      "AUC:\t 0.8934152017379309\n"
     ]
    }
   ],
   "source": [
    "# [TBC] complete your code here with proper comments\n",
    "\n",
    "clf.predict_proba(X_test[:5, :])\n",
    "clf.predict(X_test[:5, :])\n",
    "y_pred_proba = clf.predict_proba(X_test)\n",
    "y_pred = clf.predict(X_test)\n",
    "cm = confusion_matrix(y_test, y_pred)\n",
    "print(cm)\n",
    "disp = ConfusionMatrixDisplay(\n",
    "    confusion_matrix = cm,\n",
    "    display_labels = ['Not Expensive', 'Expensive']\n",
    ")\n",
    "disp.plot(cmap='Greens')\n",
    "plt.show()\n",
    "\n",
    "print(\"Accuracy:\\t\", accuracy_score(y_test, y_pred))\n",
    "print(\"Precision:\\t\", precision_score(y_test, y_pred))\n",
    "print(\"Recall:\\t\\t\", recall_score(y_test, y_pred))\n",
    "print(\"F1-score:\\t\", f1_score(y_test, y_pred))\n",
    "\n",
    "fpr, tpr, thresholds = roc_curve(\n",
    "    y_test, # the true class\n",
    "    y_pred_proba[:, 1], # the second column, the probability of being positive\n",
    "    pos_label = 1 # the positive class is labeled as 1\n",
    ")\n",
    "\n",
    "# plot ROC curve\n",
    "plt.figure(figsize = [8, 6])\n",
    "plt.plot(fpr, tpr, '-')\n",
    "plt.xlabel('False Positive Rate')\n",
    "plt.ylabel('True Positive Rate')\n",
    "plt.show()\n",
    "\n",
    "auc_test = roc_auc_score(\n",
    "    y_test, # the true class\n",
    "    y_pred_proba[:, 1], # the second column, the probability of being positive\n",
    ")\n",
    "print(\"AUC:\\t\", auc_test)"
   ]
  },
  {
   "cell_type": "markdown",
   "id": "78aa5943",
   "metadata": {},
   "source": [
    "<span style=\"color:red\">**[TBC]**</span> Write your analysis here.\n"
   ]
  },
  {
   "cell_type": "markdown",
   "metadata": {},
   "source": [
    "The AUC value indicates that there is an approximately 89.34% chance that the classifier will assign a higher score to a randomly chosen positive instance than to a randomly chosen negative instance. This is a sign of good accuracy in the predictions made by the model\n",
    "\n",
    "The curve does not reach the perfect top-left corner, which would represent a 100% true positive rate and a 0% false positive rate. However, it does seem to approach that corner closely, indicating a high true positive rate for most thresholds, with a relatively low false positive rate."
   ]
  },
  {
   "cell_type": "markdown",
   "id": "be57713e",
   "metadata": {},
   "source": [
    "### Challenge. Build a multi-class classifier using Logistic Regression\n",
    "\n",
    "`sklearn.linear_model.LogisticRegression` can also be used to build a multi-class classifier.\n",
    "\n",
    "Instead of having binary class as the target, create the target labels as follows:\n",
    "- 0 represents 'Low Price', 'MedHouseVal' < 1\n",
    "- 1 represents 'Normal Price', 1 <= 'MedHouseVal' <= 2.5\n",
    "- 2 represents 'Expensive Price', 'MedHouseVal' > 2.5\n",
    "\n",
    "Read the [documentation](https://scikit-learn.org/stable/modules/generated/sklearn.linear_model.LogisticRegression.html) here and train a multi-class classifier following the one-vs-rest scheme.\n",
    "\n",
    "Compute the confusion matrix, accuracy, precision, recall, f1_score, ROC curve and AUC in the context of multi-class classification.\n",
    "\n",
    "If you get confused by the multi-class situation, read this [blog](https://www.v7labs.com/blog/confusion-matrix-guide) will help.\n",
    "\n",
    "<span style=\"color:red\">**[TBC]**</span> This challenge won't be evaluated and counted towards your grade. You may submit this assignment without solving this challenge. However, leaving this part blank is not allowed. Try to complete the code even if it doesn't meet the requirements."
   ]
  },
  {
   "cell_type": "code",
   "execution_count": 15,
   "id": "ff3929a5",
   "metadata": {},
   "outputs": [
    {
     "name": "stdout",
     "output_type": "stream",
     "text": [
      "0     3658\n",
      "2     5782\n",
      "1    11200\n",
      "Name: MedHouseVal, dtype: int64\n"
     ]
    },
    {
     "name": "stderr",
     "output_type": "stream",
     "text": [
      "c:\\Users\\CristianMedina\\AppData\\Local\\Programs\\Python\\Python39\\lib\\site-packages\\sklearn\\utils\\validation.py:985: DataConversionWarning: A column-vector y was passed when a 1d array was expected. Please change the shape of y to (n_samples, ), for example using ravel().\n",
      "  y = column_or_1d(y, warn=True)\n",
      "c:\\Users\\CristianMedina\\AppData\\Local\\Programs\\Python\\Python39\\lib\\site-packages\\sklearn\\linear_model\\_logistic.py:814: ConvergenceWarning: lbfgs failed to converge (status=1):\n",
      "STOP: TOTAL NO. of ITERATIONS REACHED LIMIT.\n",
      "\n",
      "Increase the number of iterations (max_iter) or scale the data as shown in:\n",
      "    https://scikit-learn.org/stable/modules/preprocessing.html\n",
      "Please also refer to the documentation for alternative solver options:\n",
      "    https://scikit-learn.org/stable/modules/linear_model.html#logistic-regression\n",
      "  n_iter_i = _check_optimize_result(\n"
     ]
    },
    {
     "name": "stdout",
     "output_type": "stream",
     "text": [
      "[[ 537  558    3]\n",
      " [ 230 2846  276]\n",
      " [  16  649 1078]]\n"
     ]
    },
    {
     "data": {
      "image/png": "[encoded data removed]",
      "text/plain": [
       "<Figure size 432x288 with 2 Axes>"
      ]
     },
     "metadata": {
      "needs_background": "light"
     },
     "output_type": "display_data"
    },
    {
     "name": "stdout",
     "output_type": "stream",
     "text": [
      "0.7203294041659939\n",
      "0.7252435534160578\n",
      "0.7203294041659939\n",
      "0.7130208050478345\n"
     ]
    },
    {
     "data": {
      "image/png": "[encoded data removed]",
      "text/plain": [
       "<Figure size 576x432 with 1 Axes>"
      ]
     },
     "metadata": {
      "needs_background": "light"
     },
     "output_type": "display_data"
    }
   ],
   "source": [
    "\n",
    "# [TBC] complete your code here with proper comments\n",
    "# [TBC] complete your code here with proper comments\n",
    "from sklearn.datasets import fetch_california_housing\n",
    "import pandas as pd\n",
    "import numpy as np\n",
    "import matplotlib.pyplot as plt\n",
    "from sklearn import datasets\n",
    "from sklearn.model_selection import train_test_split\n",
    "from sklearn.linear_model import LogisticRegression\n",
    "from sklearn.metrics import confusion_matrix\n",
    "from sklearn.metrics import ConfusionMatrixDisplay\n",
    "from sklearn.metrics import accuracy_score\n",
    "from sklearn.metrics import precision_score\n",
    "from sklearn.metrics import recall_score\n",
    "from sklearn.metrics import f1_score\n",
    "from sklearn.metrics import classification_report\n",
    "from sklearn.metrics import roc_curve, auc\n",
    "from sklearn.metrics import roc_auc_score\n",
    "\n",
    "feature_df, target_df = fetch_california_housing(return_X_y=True, as_frame=True)\n",
    "target_df = pd.DataFrame(target_df, columns=['MedHouseVal'])\n",
    "#Use pd.cut() function to segment and sort data values into bins or categories. \n",
    "# You use it to convert continuous variable into a categorical variable\n",
    "# bins=[-float('inf'), 1, 2.5, float('inf')]: (-infinity,1),[1, 2.5), and [2.5, infinity)\n",
    " \n",
    "target_df['MedHouseVal'] = pd.cut(target_df['MedHouseVal'], bins=[-float('inf'), 1, 2.5, float('inf')], labels=[0, 1, 2])\n",
    "target_df['MedHouseVal'].head()\n",
    "label_counts = target_df['MedHouseVal'].value_counts()\n",
    "print(label_counts.head().sort_values(ascending=True))\n",
    "\n",
    "# print(\"Number of normal class:\", sum((target_df['MedHouseVal'] == 1))\n",
    "# print(\"Number of expensive class:\", sum(target_df['MedHouseVal'] == 2))\n",
    "\n",
    "X_train, X_test, y_train, y_test = train_test_split(\n",
    "    feature_df.values,\n",
    "    target_df.values,\n",
    "    train_size = 0.7,\n",
    "    shuffle = True,\n",
    "    random_state = 0\n",
    ")\n",
    "\n",
    "clf = LogisticRegression(max_iter=3000, multi_class= 'auto')\n",
    "clf.fit(X_train, y_train)\n",
    "\n",
    "y_pred = clf.predict(X_test)\n",
    "cm = confusion_matrix(y_test, y_pred)\n",
    "\n",
    "\n",
    "accuracy = accuracy_score(y_test, y_pred)\n",
    "precision = precision_score(y_test, y_pred, average='weighted')\n",
    "recall = recall_score(y_test, y_pred, average='weighted')\n",
    "f1 = f1_score(y_test, y_pred, average='weighted')\n",
    "\n",
    "\n",
    "# # Output the calculated metrics\n",
    "print(cm)\n",
    "disp = ConfusionMatrixDisplay(\n",
    "    confusion_matrix = cm,\n",
    "    display_labels = ['Low Price', 'Normal Price', '2:Expensive Price']\n",
    ")\n",
    "disp.plot(cmap='Greens')\n",
    "plt.show()\n",
    "\n",
    "# accuracy, precision, recall, f1, roc_auc\n",
    "print(accuracy)\n",
    "print(precision)\n",
    "print(recall)\n",
    "print(f1)\n",
    "\n",
    "# ROC and AUC for multi-classq\n",
    "y_prob = clf.predict_proba(X_test)\n",
    "fpr, tpr, roc_auc = {}, {}, {}\n",
    "n_class = 3\n",
    "\n",
    "for i in range(n_class):    \n",
    "    fpr[i], tpr[i], _ = roc_curve(y_test, y_prob[:,i], pos_label=i)\n",
    "    roc_auc[i] = auc(fpr[i], tpr[i])\n",
    "\n",
    "\n",
    "plt.figure(figsize=(8, 6))\n",
    "for i in range(n_class):\n",
    "    plt.plot(fpr[i], tpr[i], label=f'ROC curve of class {i} (area = {roc_auc[i]:.2f})')\n",
    "    \n",
    "plt.plot([0, 1], [0, 1], 'k--')  # Dashed diagonal line\n",
    "plt.xlim([0.0, 1.0])\n",
    "plt.ylim([0.0, 1.05])\n",
    "plt.xlabel('False Positive Rate')\n",
    "plt.ylabel('True Positive Rate')\n",
    "plt.title('Receiver Operating Characteristic for Multi-Class')\n",
    "plt.legend(loc=\"lower right\")\n",
    "plt.show()\n"
   ]
  }
 ],
 "metadata": {
  "kernelspec": {
   "display_name": "Python 3 (ipykernel)",
   "language": "python",
   "name": "python3"
  },
  "language_info": {
   "codemirror_mode": {
    "name": "ipython",
    "version": 3
   },
   "file_extension": ".py",
   "mimetype": "text/x-python",
   "name": "python",
   "nbconvert_exporter": "python",
   "pygments_lexer": "ipython3",
   "version": "3.9.6"
  }
 },
 "nbformat": 4,
 "nbformat_minor": 5
}
