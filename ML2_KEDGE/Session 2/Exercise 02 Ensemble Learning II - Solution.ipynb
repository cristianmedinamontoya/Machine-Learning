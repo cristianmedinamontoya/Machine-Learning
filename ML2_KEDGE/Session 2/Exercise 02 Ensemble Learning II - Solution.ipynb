{
 "cells": [
  {
   "cell_type": "markdown",
   "id": "747fc603",
   "metadata": {},
   "source": [
    "# Exercise 02 Ensemble Learning II - Solution"
   ]
  },
  {
   "cell_type": "markdown",
   "id": "f8d4dac9",
   "metadata": {},
   "source": [
    "## Pedagogy\n",
    "\n",
    "This notebook contains both theoretical explanations and executable cells to execute your code.\n",
    "\n",
    "When you see the <span style=\"color:red\">**[TBC]**</span> (To Be Completed) sign, it means that you need to perform an action else besides executing the cells of code that already exist. These actions can be:\n",
    "- Complete the code with proper comments\n",
    "- Respond to a question\n",
    "- Write an analysis\n",
    "- etc."
   ]
  },
  {
   "cell_type": "markdown",
   "id": "783f50db",
   "metadata": {},
   "source": [
    "### Import libraries"
   ]
  },
  {
   "cell_type": "code",
   "execution_count": 1,
   "id": "97a01858",
   "metadata": {},
   "outputs": [],
   "source": [
    "# import all libraries used in this notebook here\n",
    "import warnings\n",
    "\n",
    "import numpy as np\n",
    "import pandas as pd\n",
    "import matplotlib.pyplot as plt\n",
    "\n",
    "from sklearn import datasets\n",
    "from sklearn.svm import SVC, SVR\n",
    "from sklearn.tree import DecisionTreeClassifier, DecisionTreeRegressor\n",
    "from sklearn.metrics import classification_report, f1_score, mean_squared_error, r2_score\n",
    "from sklearn.pipeline import Pipeline\n",
    "from sklearn.ensemble import AdaBoostClassifier, GradientBoostingClassifier, StackingClassifier\n",
    "from sklearn.ensemble import AdaBoostRegressor, GradientBoostingRegressor, StackingRegressor\n",
    "from sklearn.neighbors import KNeighborsClassifier, KNeighborsRegressor\n",
    "from sklearn.linear_model import LogisticRegression, LinearRegression\n",
    "from sklearn.preprocessing import StandardScaler, LabelEncoder\n",
    "from sklearn.model_selection import GridSearchCV\n",
    "from sklearn.model_selection import train_test_split"
   ]
  },
  {
   "cell_type": "code",
   "execution_count": 2,
   "id": "ee517054",
   "metadata": {},
   "outputs": [],
   "source": [
    "# suppress all warnings\n",
    "warnings.filterwarnings(\"ignore\")"
   ]
  },
  {
   "cell_type": "markdown",
   "id": "04990cf7",
   "metadata": {},
   "source": [
    "## Part 1. AdaBoost Classifier\n",
    "\n",
    "In this part, we will using AdaBoost algorithm to build a classifier with a toy dataset.\n",
    "\n",
    "We will ececute the following steps:\n",
    "\n",
    "- Load and explore dataset\n",
    "- Train test split\n",
    "- Build an AdaBoost classifier with default hyper-parameters\n",
    "- Evaluation the classifier using the test dataset\n",
    "- Obtain the byproduct feature importance\n",
    "- Test the effects of hyper-parameters on performance"
   ]
  },
  {
   "cell_type": "markdown",
   "id": "25d3b220",
   "metadata": {},
   "source": [
    "### 1.1 Load dataset\n",
    "\n",
    "We will use a toy dataset, the [wine recognition dataset](https://scikit-learn.org/stable/datasets/toy_dataset.html#wine-dataset), provided by `scikit-learn`.\n",
    "\n",
    "There are 13 feature variables in the dataset, which are the results of a chemical analysis of wines grown in the same region in Italy by three different cultivators.\n",
    "\n",
    "There are one target variable, with 3 unique categories, representing the 3 different cultivators.\n",
    "\n",
    "There are 178 instances in the dataset.\n",
    "\n",
    "We will use this dataset to build a multi-class classifier with AdaBoost.\n",
    "\n",
    "Use `sklearn.dataset.load_wine()` to get this dataset."
   ]
  },
  {
   "cell_type": "code",
   "execution_count": 3,
   "id": "1a87db13",
   "metadata": {},
   "outputs": [],
   "source": [
    "# load dataset\n",
    "feature_df, target_df = datasets.load_wine(\n",
    "    return_X_y = True, # If True, returns (data.data, data.target) instead of a Bunch object.\n",
    "    as_frame = True # If True, the data is a pandas DataFrame including columns with appropriate dtypes (numeric).\n",
    ")"
   ]
  },
  {
   "cell_type": "code",
   "execution_count": 4,
   "id": "f07c86ee",
   "metadata": {},
   "outputs": [
    {
     "data": {
      "text/html": [
       "<div>\n",
       "<style scoped>\n",
       "    .dataframe tbody tr th:only-of-type {\n",
       "        vertical-align: middle;\n",
       "    }\n",
       "\n",
       "    .dataframe tbody tr th {\n",
       "        vertical-align: top;\n",
       "    }\n",
       "\n",
       "    .dataframe thead th {\n",
       "        text-align: right;\n",
       "    }\n",
       "</style>\n",
       "<table border=\"1\" class=\"dataframe\">\n",
       "  <thead>\n",
       "    <tr style=\"text-align: right;\">\n",
       "      <th></th>\n",
       "      <th>alcohol</th>\n",
       "      <th>malic_acid</th>\n",
       "      <th>ash</th>\n",
       "      <th>alcalinity_of_ash</th>\n",
       "      <th>magnesium</th>\n",
       "      <th>total_phenols</th>\n",
       "      <th>flavanoids</th>\n",
       "      <th>nonflavanoid_phenols</th>\n",
       "      <th>proanthocyanins</th>\n",
       "      <th>color_intensity</th>\n",
       "      <th>hue</th>\n",
       "      <th>od280/od315_of_diluted_wines</th>\n",
       "      <th>proline</th>\n",
       "    </tr>\n",
       "  </thead>\n",
       "  <tbody>\n",
       "    <tr>\n",
       "      <th>0</th>\n",
       "      <td>14.23</td>\n",
       "      <td>1.71</td>\n",
       "      <td>2.43</td>\n",
       "      <td>15.6</td>\n",
       "      <td>127.0</td>\n",
       "      <td>2.80</td>\n",
       "      <td>3.06</td>\n",
       "      <td>0.28</td>\n",
       "      <td>2.29</td>\n",
       "      <td>5.64</td>\n",
       "      <td>1.04</td>\n",
       "      <td>3.92</td>\n",
       "      <td>1065.0</td>\n",
       "    </tr>\n",
       "    <tr>\n",
       "      <th>1</th>\n",
       "      <td>13.20</td>\n",
       "      <td>1.78</td>\n",
       "      <td>2.14</td>\n",
       "      <td>11.2</td>\n",
       "      <td>100.0</td>\n",
       "      <td>2.65</td>\n",
       "      <td>2.76</td>\n",
       "      <td>0.26</td>\n",
       "      <td>1.28</td>\n",
       "      <td>4.38</td>\n",
       "      <td>1.05</td>\n",
       "      <td>3.40</td>\n",
       "      <td>1050.0</td>\n",
       "    </tr>\n",
       "    <tr>\n",
       "      <th>2</th>\n",
       "      <td>13.16</td>\n",
       "      <td>2.36</td>\n",
       "      <td>2.67</td>\n",
       "      <td>18.6</td>\n",
       "      <td>101.0</td>\n",
       "      <td>2.80</td>\n",
       "      <td>3.24</td>\n",
       "      <td>0.30</td>\n",
       "      <td>2.81</td>\n",
       "      <td>5.68</td>\n",
       "      <td>1.03</td>\n",
       "      <td>3.17</td>\n",
       "      <td>1185.0</td>\n",
       "    </tr>\n",
       "    <tr>\n",
       "      <th>3</th>\n",
       "      <td>14.37</td>\n",
       "      <td>1.95</td>\n",
       "      <td>2.50</td>\n",
       "      <td>16.8</td>\n",
       "      <td>113.0</td>\n",
       "      <td>3.85</td>\n",
       "      <td>3.49</td>\n",
       "      <td>0.24</td>\n",
       "      <td>2.18</td>\n",
       "      <td>7.80</td>\n",
       "      <td>0.86</td>\n",
       "      <td>3.45</td>\n",
       "      <td>1480.0</td>\n",
       "    </tr>\n",
       "    <tr>\n",
       "      <th>4</th>\n",
       "      <td>13.24</td>\n",
       "      <td>2.59</td>\n",
       "      <td>2.87</td>\n",
       "      <td>21.0</td>\n",
       "      <td>118.0</td>\n",
       "      <td>2.80</td>\n",
       "      <td>2.69</td>\n",
       "      <td>0.39</td>\n",
       "      <td>1.82</td>\n",
       "      <td>4.32</td>\n",
       "      <td>1.04</td>\n",
       "      <td>2.93</td>\n",
       "      <td>735.0</td>\n",
       "    </tr>\n",
       "  </tbody>\n",
       "</table>\n",
       "</div>"
      ],
      "text/plain": [
       "   alcohol  malic_acid   ash  alcalinity_of_ash  magnesium  total_phenols  \\\n",
       "0    14.23        1.71  2.43               15.6      127.0           2.80   \n",
       "1    13.20        1.78  2.14               11.2      100.0           2.65   \n",
       "2    13.16        2.36  2.67               18.6      101.0           2.80   \n",
       "3    14.37        1.95  2.50               16.8      113.0           3.85   \n",
       "4    13.24        2.59  2.87               21.0      118.0           2.80   \n",
       "\n",
       "   flavanoids  nonflavanoid_phenols  proanthocyanins  color_intensity   hue  \\\n",
       "0        3.06                  0.28             2.29             5.64  1.04   \n",
       "1        2.76                  0.26             1.28             4.38  1.05   \n",
       "2        3.24                  0.30             2.81             5.68  1.03   \n",
       "3        3.49                  0.24             2.18             7.80  0.86   \n",
       "4        2.69                  0.39             1.82             4.32  1.04   \n",
       "\n",
       "   od280/od315_of_diluted_wines  proline  \n",
       "0                          3.92   1065.0  \n",
       "1                          3.40   1050.0  \n",
       "2                          3.17   1185.0  \n",
       "3                          3.45   1480.0  \n",
       "4                          2.93    735.0  "
      ]
     },
     "execution_count": 4,
     "metadata": {},
     "output_type": "execute_result"
    }
   ],
   "source": [
    "# display the first five rows of the features\n",
    "feature_df.head()"
   ]
  },
  {
   "cell_type": "code",
   "execution_count": 5,
   "id": "8fbb4a74",
   "metadata": {},
   "outputs": [
    {
     "data": {
      "text/plain": [
       "array([0, 1, 2])"
      ]
     },
     "execution_count": 5,
     "metadata": {},
     "output_type": "execute_result"
    }
   ],
   "source": [
    "# display the unique values of the target variable\n",
    "target_df.unique()"
   ]
  },
  {
   "cell_type": "markdown",
   "id": "e29f2bb0",
   "metadata": {},
   "source": [
    "### 1.2 Train test split\n",
    "\n",
    "We will split the whole dataset into two parts: the training and test dataset.\n",
    "- 70% for training\n",
    "- 30% for test\n",
    "\n",
    "Use `sklearn.model_selection.train_test_split()` to do this."
   ]
  },
  {
   "cell_type": "code",
   "execution_count": 6,
   "id": "59e9960a",
   "metadata": {},
   "outputs": [],
   "source": [
    "# train test split\n",
    "X_train, X_test, y_train, y_test = train_test_split(\n",
    "    feature_df.values, # call `.values` to convert the feature from pd.DataFrame to np.array\n",
    "    target_df.values, # ca;; `.values` to convert the target from pd.Series to np.array\n",
    "    train_size = 0.7, # 70% for training, 30% for test\n",
    "    random_state = 0 # controls the shuffling, set to zero for reproduciblillity\n",
    ")"
   ]
  },
  {
   "cell_type": "markdown",
   "id": "7d3f97b7",
   "metadata": {},
   "source": [
    "### 1.3 Build a classifier using AdaBoost\n",
    "\n",
    "Build a multi-class classifier using AdaBoost with default hyper-parameters.\n",
    "\n",
    "- `estimator = DecisionTreeClassifier(max_depth = 1)`\n",
    "- `n_estimators = 50`\n",
    "- `learning_rate = 1.0`"
   ]
  },
  {
   "cell_type": "code",
   "execution_count": 7,
   "id": "13cb19d3",
   "metadata": {},
   "outputs": [],
   "source": [
    "# create the AdaBoost classifier with default hyper-parameters\n",
    "clf = AdaBoostClassifier(\n",
    "    random_state = 0 # set random state to 0 for reproduciblity\n",
    ")"
   ]
  },
  {
   "cell_type": "code",
   "execution_count": 8,
   "id": "0c277a76",
   "metadata": {},
   "outputs": [
    {
     "data": {
      "text/html": [
       "<style>#sk-container-id-1 {color: black;}#sk-container-id-1 pre{padding: 0;}#sk-container-id-1 div.sk-toggleable {background-color: white;}#sk-container-id-1 label.sk-toggleable__label {cursor: pointer;display: block;width: 100%;margin-bottom: 0;padding: 0.3em;box-sizing: border-box;text-align: center;}#sk-container-id-1 label.sk-toggleable__label-arrow:before {content: \"▸\";float: left;margin-right: 0.25em;color: #696969;}#sk-container-id-1 label.sk-toggleable__label-arrow:hover:before {color: black;}#sk-container-id-1 div.sk-estimator:hover label.sk-toggleable__label-arrow:before {color: black;}#sk-container-id-1 div.sk-toggleable__content {max-height: 0;max-width: 0;overflow: hidden;text-align: left;background-color: #f0f8ff;}#sk-container-id-1 div.sk-toggleable__content pre {margin: 0.2em;color: black;border-radius: 0.25em;background-color: #f0f8ff;}#sk-container-id-1 input.sk-toggleable__control:checked~div.sk-toggleable__content {max-height: 200px;max-width: 100%;overflow: auto;}#sk-container-id-1 input.sk-toggleable__control:checked~label.sk-toggleable__label-arrow:before {content: \"▾\";}#sk-container-id-1 div.sk-estimator input.sk-toggleable__control:checked~label.sk-toggleable__label {background-color: #d4ebff;}#sk-container-id-1 div.sk-label input.sk-toggleable__control:checked~label.sk-toggleable__label {background-color: #d4ebff;}#sk-container-id-1 input.sk-hidden--visually {border: 0;clip: rect(1px 1px 1px 1px);clip: rect(1px, 1px, 1px, 1px);height: 1px;margin: -1px;overflow: hidden;padding: 0;position: absolute;width: 1px;}#sk-container-id-1 div.sk-estimator {font-family: monospace;background-color: #f0f8ff;border: 1px dotted black;border-radius: 0.25em;box-sizing: border-box;margin-bottom: 0.5em;}#sk-container-id-1 div.sk-estimator:hover {background-color: #d4ebff;}#sk-container-id-1 div.sk-parallel-item::after {content: \"\";width: 100%;border-bottom: 1px solid gray;flex-grow: 1;}#sk-container-id-1 div.sk-label:hover label.sk-toggleable__label {background-color: #d4ebff;}#sk-container-id-1 div.sk-serial::before {content: \"\";position: absolute;border-left: 1px solid gray;box-sizing: border-box;top: 0;bottom: 0;left: 50%;z-index: 0;}#sk-container-id-1 div.sk-serial {display: flex;flex-direction: column;align-items: center;background-color: white;padding-right: 0.2em;padding-left: 0.2em;position: relative;}#sk-container-id-1 div.sk-item {position: relative;z-index: 1;}#sk-container-id-1 div.sk-parallel {display: flex;align-items: stretch;justify-content: center;background-color: white;position: relative;}#sk-container-id-1 div.sk-item::before, #sk-container-id-1 div.sk-parallel-item::before {content: \"\";position: absolute;border-left: 1px solid gray;box-sizing: border-box;top: 0;bottom: 0;left: 50%;z-index: -1;}#sk-container-id-1 div.sk-parallel-item {display: flex;flex-direction: column;z-index: 1;position: relative;background-color: white;}#sk-container-id-1 div.sk-parallel-item:first-child::after {align-self: flex-end;width: 50%;}#sk-container-id-1 div.sk-parallel-item:last-child::after {align-self: flex-start;width: 50%;}#sk-container-id-1 div.sk-parallel-item:only-child::after {width: 0;}#sk-container-id-1 div.sk-dashed-wrapped {border: 1px dashed gray;margin: 0 0.4em 0.5em 0.4em;box-sizing: border-box;padding-bottom: 0.4em;background-color: white;}#sk-container-id-1 div.sk-label label {font-family: monospace;font-weight: bold;display: inline-block;line-height: 1.2em;}#sk-container-id-1 div.sk-label-container {text-align: center;}#sk-container-id-1 div.sk-container {/* jupyter's `normalize.less` sets `[hidden] { display: none; }` but bootstrap.min.css set `[hidden] { display: none !important; }` so we also need the `!important` here to be able to override the default hidden behavior on the sphinx rendered scikit-learn.org. See: https://github.com/scikit-learn/scikit-learn/issues/21755 */display: inline-block !important;position: relative;}#sk-container-id-1 div.sk-text-repr-fallback {display: none;}</style><div id=\"sk-container-id-1\" class=\"sk-top-container\"><div class=\"sk-text-repr-fallback\"><pre>AdaBoostClassifier(random_state=0)</pre><b>In a Jupyter environment, please rerun this cell to show the HTML representation or trust the notebook. <br />On GitHub, the HTML representation is unable to render, please try loading this page with nbviewer.org.</b></div><div class=\"sk-container\" hidden><div class=\"sk-item\"><div class=\"sk-estimator sk-toggleable\"><input class=\"sk-toggleable__control sk-hidden--visually\" id=\"sk-estimator-id-1\" type=\"checkbox\" checked><label for=\"sk-estimator-id-1\" class=\"sk-toggleable__label sk-toggleable__label-arrow\">AdaBoostClassifier</label><div class=\"sk-toggleable__content\"><pre>AdaBoostClassifier(random_state=0)</pre></div></div></div></div></div>"
      ],
      "text/plain": [
       "AdaBoostClassifier(random_state=0)"
      ]
     },
     "execution_count": 8,
     "metadata": {},
     "output_type": "execute_result"
    }
   ],
   "source": [
    "# fit the model to the training dataset\n",
    "clf.fit(X_train, y_train)"
   ]
  },
  {
   "cell_type": "markdown",
   "id": "a243d93e",
   "metadata": {},
   "source": [
    "### 1.4 Evaluation using the test dataset\n",
    "\n",
    "Evaluate the performance of the classifier using the test dataset.\n",
    "\n",
    "Use `sklearn.metrics.classification_report()` to get the evaluation metrics."
   ]
  },
  {
   "cell_type": "code",
   "execution_count": 9,
   "id": "fd41b0df",
   "metadata": {},
   "outputs": [],
   "source": [
    "# predict categories for test dataset\n",
    "y_pred = clf.predict(X_test)"
   ]
  },
  {
   "cell_type": "code",
   "execution_count": 10,
   "id": "e95eec82",
   "metadata": {},
   "outputs": [
    {
     "name": "stdout",
     "output_type": "stream",
     "text": [
      "              precision    recall  f1-score   support\n",
      "\n",
      "           0       0.90      0.95      0.92        19\n",
      "           1       0.90      0.82      0.86        22\n",
      "           2       0.86      0.92      0.89        13\n",
      "\n",
      "    accuracy                           0.89        54\n",
      "   macro avg       0.89      0.90      0.89        54\n",
      "weighted avg       0.89      0.89      0.89        54\n",
      "\n"
     ]
    }
   ],
   "source": [
    "# obtain classification metrics using `classification_report`\n",
    "print(classification_report(y_test, y_pred))"
   ]
  },
  {
   "cell_type": "markdown",
   "id": "b5103ef4",
   "metadata": {},
   "source": [
    "### 1.6 Obtain feature importances\n",
    "\n",
    "Feature importance is a byproduct provided by AdaBoost algorithm when the weak learner is tree-based.\n",
    "\n",
    "The feature importance is the weighted average of feature importance across all trees in the ensemble.\n",
    "\n",
    "The weights here refer to the weights of different learners, which are the same as the weights to aggregate the base predictions into the final prediction."
   ]
  },
  {
   "cell_type": "code",
   "execution_count": 11,
   "id": "3e1e625c",
   "metadata": {},
   "outputs": [
    {
     "data": {
      "text/plain": [
       "alcohol                         0.00\n",
       "malic_acid                      0.00\n",
       "ash                             0.00\n",
       "alcalinity_of_ash               0.00\n",
       "magnesium                       0.00\n",
       "total_phenols                   0.02\n",
       "flavanoids                      0.46\n",
       "nonflavanoid_phenols            0.00\n",
       "proanthocyanins                 0.00\n",
       "color_intensity                 0.02\n",
       "hue                             0.02\n",
       "od280/od315_of_diluted_wines    0.42\n",
       "proline                         0.06\n",
       "dtype: float64"
      ]
     },
     "execution_count": 11,
     "metadata": {},
     "output_type": "execute_result"
    }
   ],
   "source": [
    "# obtain feature importances\n",
    "feature_importances = pd.Series(\n",
    "    data = clf.feature_importances_,\n",
    "    index = feature_df.columns\n",
    ")\n",
    "feature_importances"
   ]
  },
  {
   "cell_type": "markdown",
   "id": "163b5d4d",
   "metadata": {},
   "source": [
    "We can find, unlike random forests that most of the features have importance greater than 0, the feature importance from AdaBoost has a lot of 0 values.\n",
    "\n",
    "This is because the default weak learner in AdaBoost is a decision stump (a decision tree with depth = 1).\n",
    "\n",
    "It means, each weak learner only uses one feature. And there are a lot of features that are never used.\n",
    "\n",
    "So AdaBoost only use a limited number of features to achieve good performance. When the number of features is limited, consider to use AdaBoost."
   ]
  },
  {
   "cell_type": "markdown",
   "id": "523f79d6",
   "metadata": {},
   "source": [
    "### 1.7 Test with other hyper-parameter values\n",
    "\n",
    "The three key hyper-parameters will affect the performance of the ensemble.\n",
    "\n",
    "Let's test these effects by varying one hyper-parameter and keeping the rest unchanged."
   ]
  },
  {
   "cell_type": "code",
   "execution_count": 12,
   "id": "849b6d1c",
   "metadata": {},
   "outputs": [
    {
     "data": {
      "image/png": "[encoded data removed]",
      "text/plain": [
       "<Figure size 640x480 with 1 Axes>"
      ]
     },
     "metadata": {},
     "output_type": "display_data"
    }
   ],
   "source": [
    "# test the effect of n_estimators on performance\n",
    "n_estimators = [2, 5, 10, 25, 50, 75, 100]\n",
    "f1_weighted = []\n",
    "for item in n_estimators:\n",
    "    clf = AdaBoostClassifier(\n",
    "        n_estimators = item,\n",
    "        random_state = 0\n",
    "    )\n",
    "    clf.fit(X_train, y_train)\n",
    "    y_pred = clf.predict(X_test)\n",
    "    f1_weighted.append(f1_score(y_test, y_pred, average = 'weighted'))\n",
    "\n",
    "plt.figure()\n",
    "plt.plot(n_estimators, f1_weighted, '.-')\n",
    "plt.xlabel('n_estimators')\n",
    "plt.ylabel('f1_weighted')\n",
    "plt.show()"
   ]
  },
  {
   "cell_type": "markdown",
   "id": "ed1876bd",
   "metadata": {},
   "source": [
    "- If `n_estimators` is too low\n",
    "    - There won't be enough weak learners in the ensemble to correct the high bias.\n",
    "    - The ensemble might be to simple and underfit the data.\n",
    "- If `n_estimators` is too high\n",
    "    - Increase `n_estimator` have a diminishing effect on performance\n",
    "    - Too many weak learners might lead to over-fitting, which down-grades the performance\n",
    "    - More estimators increase the training time and require more computational resource\n",
    "- We can select an optimal value of `n_estimators` through hyper-parameter tuning"
   ]
  },
  {
   "cell_type": "code",
   "execution_count": 13,
   "id": "9e8dcaf6",
   "metadata": {},
   "outputs": [
    {
     "data": {
      "image/png": "[encoded data removed]",
      "text/plain": [
       "<Figure size 640x480 with 1 Axes>"
      ]
     },
     "metadata": {},
     "output_type": "display_data"
    }
   ],
   "source": [
    "# test the effect of learning_rate on performance\n",
    "learning_rate = [0.1, 0.2, 0.3, 0.4, 0.5, 0.6, 0.7, 0.8, 0.9, 1.0]\n",
    "f1_weighted = []\n",
    "for item in learning_rate:\n",
    "    clf = AdaBoostClassifier(\n",
    "        learning_rate = item,\n",
    "        random_state = 0\n",
    "    )\n",
    "    clf.fit(X_train, y_train)\n",
    "    y_pred = clf.predict(X_test)\n",
    "    f1_weighted.append(f1_score(y_test, y_pred, average = 'weighted'))\n",
    "\n",
    "plt.figure()\n",
    "plt.plot(learning_rate, f1_weighted, '.-')\n",
    "plt.xlabel('learning_rate')\n",
    "plt.ylabel('f1_weighted')\n",
    "plt.show()"
   ]
  },
  {
   "cell_type": "markdown",
   "id": "c83a4154",
   "metadata": {},
   "source": [
    "- If `learning_rate` is too low\n",
    "    - A low `learning_rate` makes the ensemble more conservative, requiring more estimators to achieve good performance.\n",
    "    - In general, a low `learning_rate` with enough weak learners can lead to a robust ensemble with good performance.\n",
    "- If `learning_rate` is too high\n",
    "    - A high `learning_rate` allows each weak learner to contribute more to the final ensemble.\n",
    "    - This can speed up training process and reduce the number of required weak learners.\n",
    "    - But it also increase the risk of over-fitting, which might not be able to obtain the best performance.\n",
    "- We can make the trade-off between `learning_rate` and `n_estimators` through hyper-parameter tuning"
   ]
  },
  {
   "cell_type": "code",
   "execution_count": 14,
   "id": "75fe9939",
   "metadata": {},
   "outputs": [
    {
     "data": {
      "image/png": "[encoded data removed]",
      "text/plain": [
       "<Figure size 640x480 with 1 Axes>"
      ]
     },
     "metadata": {},
     "output_type": "display_data"
    }
   ],
   "source": [
    "# test the effect of the complexity of base estimators on performance\n",
    "max_depth = [1, 2, 3, 4, 5, 6, 7, 8, 9, 10]\n",
    "f1_weighted = []\n",
    "for item in max_depth:\n",
    "    clf = AdaBoostClassifier(\n",
    "        estimator = DecisionTreeClassifier(max_depth = item),\n",
    "        random_state = 0\n",
    "    )\n",
    "    clf.fit(X_train, y_train)\n",
    "    y_pred = clf.predict(X_test)\n",
    "    f1_weighted.append(f1_score(y_test, y_pred, average = 'weighted'))\n",
    "\n",
    "plt.figure()\n",
    "plt.plot(max_depth, f1_weighted, '.-')\n",
    "plt.xlabel('max_depth')\n",
    "plt.ylabel('f1_weighted')\n",
    "plt.show()"
   ]
  },
  {
   "cell_type": "markdown",
   "id": "98395690",
   "metadata": {},
   "source": [
    "- If `max_depth` of the base tree is too low\n",
    "    - The base tree might be too simple, and the resulting ensemble is also too simple for complex problems\n",
    "- If `max_depth` of the base tree is too high\n",
    "    - The base tree is too complex with low bias and high variance\n",
    "    - Cannot meet the prerequistes of Boosting method\n",
    "    - Might be over-fitted and the performance can be down-graded\n",
    "- We should select a low `max_depth` to keep the base tree shallow"
   ]
  },
  {
   "cell_type": "markdown",
   "id": "ecbf1206",
   "metadata": {},
   "source": [
    "## Part 2. Gradient Boosting Classifier\n",
    "\n",
    "In this part, we will using Gradient Boosting algorithm to solve the same problem.\n",
    "\n",
    "We will ececute the following steps:\n",
    "\n",
    "- Build a Gradient Boosting classifier with default hyper-parameters\n",
    "    - Implement early stopping or not\n",
    "- Obtain the byproduct feature importance\n",
    "- Test the effects of hyper-parameters on performance\n",
    "- Hyper-parameter tuning through cross-validation"
   ]
  },
  {
   "cell_type": "markdown",
   "id": "57c20a8c",
   "metadata": {},
   "source": [
    "### 2.1 Build and evaluate a classifier using Gradient Boosting\n",
    "\n",
    "Build and evaluate a multi-class classifier using Gradient Boosting with default hyper-parameters.\n",
    "\n",
    "- `learning_rate = 0.1`\n",
    "- `n_estimators = 100`\n",
    "- `max_depth = 3`"
   ]
  },
  {
   "cell_type": "code",
   "execution_count": 15,
   "id": "cf1e9055",
   "metadata": {},
   "outputs": [],
   "source": [
    "# create the AdaBoost classifier with default hyper-parameters\n",
    "clf = GradientBoostingClassifier(\n",
    "    n_iter_no_change = 5, # set to None to unable early stopping\n",
    "    random_state = 0, # set random state to 0 for reproduciblity\n",
    "    verbose = 3 # set the verbose level for printing progress and performance\n",
    ")"
   ]
  },
  {
   "cell_type": "code",
   "execution_count": 16,
   "id": "11138c27",
   "metadata": {
    "scrolled": true
   },
   "outputs": [
    {
     "name": "stdout",
     "output_type": "stream",
     "text": [
      "      Iter       Train Loss   Remaining Time \n",
      "         1           0.9014            0.20s\n",
      "         2           0.7570            0.17s\n",
      "         3           0.6417            0.15s\n",
      "         4           0.5477            0.14s\n",
      "         5           0.4699            0.13s\n",
      "         6           0.4048            0.13s\n",
      "         7           0.3499            0.13s\n",
      "         8           0.3033            0.12s\n",
      "         9           0.2631            0.12s\n",
      "        10           0.2283            0.12s\n",
      "        11           0.1984            0.11s\n",
      "        12           0.1727            0.11s\n",
      "        13           0.1504            0.11s\n",
      "        14           0.1313            0.10s\n",
      "        15           0.1146            0.10s\n",
      "        16           0.1002            0.10s\n",
      "        17           0.0876            0.10s\n",
      "        18           0.0769            0.10s\n",
      "        19           0.0673            0.10s\n",
      "        20           0.0590            0.09s\n",
      "        21           0.0519            0.09s\n",
      "        22           0.0454            0.09s\n",
      "        23           0.0398            0.09s\n",
      "        24           0.0351            0.09s\n",
      "        25           0.0307            0.09s\n",
      "        26           0.0269            0.08s\n",
      "        27           0.0235            0.08s\n",
      "        28           0.0206            0.08s\n",
      "        29           0.0180            0.08s\n",
      "        30           0.0157            0.08s\n",
      "        31           0.0137            0.08s\n",
      "        32           0.0120            0.08s\n",
      "        33           0.0105            0.08s\n",
      "        34           0.0092            0.07s\n",
      "        35           0.0080            0.07s\n",
      "        36           0.0070            0.07s\n",
      "        37           0.0062            0.07s\n",
      "        38           0.0054            0.07s\n",
      "        39           0.0047            0.07s\n",
      "        40           0.0041            0.07s\n",
      "        41           0.0036            0.07s\n",
      "        42           0.0032            0.06s\n",
      "        43           0.0028            0.06s\n",
      "        44           0.0024            0.06s\n",
      "        45           0.0021            0.06s\n",
      "        46           0.0019            0.06s\n",
      "        47           0.0016            0.06s\n",
      "        48           0.0014            0.06s\n",
      "        49           0.0012            0.06s\n",
      "        50           0.0011            0.06s\n",
      "        51           0.0010            0.05s\n",
      "        52           0.0008            0.05s\n",
      "        53           0.0007            0.05s\n",
      "        54           0.0006            0.05s\n",
      "        55           0.0006            0.05s\n",
      "        56           0.0005            0.05s\n",
      "        57           0.0004            0.05s\n",
      "        58           0.0004            0.05s\n",
      "        59           0.0003            0.05s\n",
      "        60           0.0003            0.04s\n",
      "        61           0.0003            0.04s\n",
      "        62           0.0002            0.04s\n",
      "        63           0.0002            0.04s\n",
      "        64           0.0002            0.04s\n",
      "        65           0.0001            0.04s\n",
      "        66           0.0001            0.04s\n",
      "        67           0.0001            0.04s\n",
      "        68           0.0001            0.04s\n"
     ]
    },
    {
     "data": {
      "text/html": [
       "<style>#sk-container-id-2 {color: black;}#sk-container-id-2 pre{padding: 0;}#sk-container-id-2 div.sk-toggleable {background-color: white;}#sk-container-id-2 label.sk-toggleable__label {cursor: pointer;display: block;width: 100%;margin-bottom: 0;padding: 0.3em;box-sizing: border-box;text-align: center;}#sk-container-id-2 label.sk-toggleable__label-arrow:before {content: \"▸\";float: left;margin-right: 0.25em;color: #696969;}#sk-container-id-2 label.sk-toggleable__label-arrow:hover:before {color: black;}#sk-container-id-2 div.sk-estimator:hover label.sk-toggleable__label-arrow:before {color: black;}#sk-container-id-2 div.sk-toggleable__content {max-height: 0;max-width: 0;overflow: hidden;text-align: left;background-color: #f0f8ff;}#sk-container-id-2 div.sk-toggleable__content pre {margin: 0.2em;color: black;border-radius: 0.25em;background-color: #f0f8ff;}#sk-container-id-2 input.sk-toggleable__control:checked~div.sk-toggleable__content {max-height: 200px;max-width: 100%;overflow: auto;}#sk-container-id-2 input.sk-toggleable__control:checked~label.sk-toggleable__label-arrow:before {content: \"▾\";}#sk-container-id-2 div.sk-estimator input.sk-toggleable__control:checked~label.sk-toggleable__label {background-color: #d4ebff;}#sk-container-id-2 div.sk-label input.sk-toggleable__control:checked~label.sk-toggleable__label {background-color: #d4ebff;}#sk-container-id-2 input.sk-hidden--visually {border: 0;clip: rect(1px 1px 1px 1px);clip: rect(1px, 1px, 1px, 1px);height: 1px;margin: -1px;overflow: hidden;padding: 0;position: absolute;width: 1px;}#sk-container-id-2 div.sk-estimator {font-family: monospace;background-color: #f0f8ff;border: 1px dotted black;border-radius: 0.25em;box-sizing: border-box;margin-bottom: 0.5em;}#sk-container-id-2 div.sk-estimator:hover {background-color: #d4ebff;}#sk-container-id-2 div.sk-parallel-item::after {content: \"\";width: 100%;border-bottom: 1px solid gray;flex-grow: 1;}#sk-container-id-2 div.sk-label:hover label.sk-toggleable__label {background-color: #d4ebff;}#sk-container-id-2 div.sk-serial::before {content: \"\";position: absolute;border-left: 1px solid gray;box-sizing: border-box;top: 0;bottom: 0;left: 50%;z-index: 0;}#sk-container-id-2 div.sk-serial {display: flex;flex-direction: column;align-items: center;background-color: white;padding-right: 0.2em;padding-left: 0.2em;position: relative;}#sk-container-id-2 div.sk-item {position: relative;z-index: 1;}#sk-container-id-2 div.sk-parallel {display: flex;align-items: stretch;justify-content: center;background-color: white;position: relative;}#sk-container-id-2 div.sk-item::before, #sk-container-id-2 div.sk-parallel-item::before {content: \"\";position: absolute;border-left: 1px solid gray;box-sizing: border-box;top: 0;bottom: 0;left: 50%;z-index: -1;}#sk-container-id-2 div.sk-parallel-item {display: flex;flex-direction: column;z-index: 1;position: relative;background-color: white;}#sk-container-id-2 div.sk-parallel-item:first-child::after {align-self: flex-end;width: 50%;}#sk-container-id-2 div.sk-parallel-item:last-child::after {align-self: flex-start;width: 50%;}#sk-container-id-2 div.sk-parallel-item:only-child::after {width: 0;}#sk-container-id-2 div.sk-dashed-wrapped {border: 1px dashed gray;margin: 0 0.4em 0.5em 0.4em;box-sizing: border-box;padding-bottom: 0.4em;background-color: white;}#sk-container-id-2 div.sk-label label {font-family: monospace;font-weight: bold;display: inline-block;line-height: 1.2em;}#sk-container-id-2 div.sk-label-container {text-align: center;}#sk-container-id-2 div.sk-container {/* jupyter's `normalize.less` sets `[hidden] { display: none; }` but bootstrap.min.css set `[hidden] { display: none !important; }` so we also need the `!important` here to be able to override the default hidden behavior on the sphinx rendered scikit-learn.org. See: https://github.com/scikit-learn/scikit-learn/issues/21755 */display: inline-block !important;position: relative;}#sk-container-id-2 div.sk-text-repr-fallback {display: none;}</style><div id=\"sk-container-id-2\" class=\"sk-top-container\"><div class=\"sk-text-repr-fallback\"><pre>GradientBoostingClassifier(n_iter_no_change=5, random_state=0, verbose=3)</pre><b>In a Jupyter environment, please rerun this cell to show the HTML representation or trust the notebook. <br />On GitHub, the HTML representation is unable to render, please try loading this page with nbviewer.org.</b></div><div class=\"sk-container\" hidden><div class=\"sk-item\"><div class=\"sk-estimator sk-toggleable\"><input class=\"sk-toggleable__control sk-hidden--visually\" id=\"sk-estimator-id-2\" type=\"checkbox\" checked><label for=\"sk-estimator-id-2\" class=\"sk-toggleable__label sk-toggleable__label-arrow\">GradientBoostingClassifier</label><div class=\"sk-toggleable__content\"><pre>GradientBoostingClassifier(n_iter_no_change=5, random_state=0, verbose=3)</pre></div></div></div></div></div>"
      ],
      "text/plain": [
       "GradientBoostingClassifier(n_iter_no_change=5, random_state=0, verbose=3)"
      ]
     },
     "execution_count": 16,
     "metadata": {},
     "output_type": "execute_result"
    }
   ],
   "source": [
    "# fit the model to the training dataset\n",
    "clf.fit(X_train, y_train)"
   ]
  },
  {
   "cell_type": "code",
   "execution_count": 17,
   "id": "75cb0245",
   "metadata": {},
   "outputs": [],
   "source": [
    "# predict categories for test dataset\n",
    "y_pred = clf.predict(X_test)"
   ]
  },
  {
   "cell_type": "code",
   "execution_count": 18,
   "id": "e7010fa8",
   "metadata": {},
   "outputs": [
    {
     "name": "stdout",
     "output_type": "stream",
     "text": [
      "              precision    recall  f1-score   support\n",
      "\n",
      "           0       1.00      0.95      0.97        19\n",
      "           1       0.95      0.95      0.95        22\n",
      "           2       0.93      1.00      0.96        13\n",
      "\n",
      "    accuracy                           0.96        54\n",
      "   macro avg       0.96      0.97      0.96        54\n",
      "weighted avg       0.96      0.96      0.96        54\n",
      "\n"
     ]
    }
   ],
   "source": [
    "# obtain classification metrics using `classification_report`\n",
    "print(classification_report(y_test, y_pred))"
   ]
  },
  {
   "cell_type": "markdown",
   "id": "d0684ea9",
   "metadata": {},
   "source": [
    "### 2.2 Obtain feature importances\n",
    "\n",
    "As `GradientBoostingClassifier()` is also tree-based, we can obtain the feature importance as a by product."
   ]
  },
  {
   "cell_type": "code",
   "execution_count": 19,
   "id": "3be33979",
   "metadata": {},
   "outputs": [
    {
     "data": {
      "text/plain": [
       "alcohol                         0.006145\n",
       "malic_acid                      0.036701\n",
       "ash                             0.011100\n",
       "alcalinity_of_ash               0.000059\n",
       "magnesium                       0.011025\n",
       "total_phenols                   0.000539\n",
       "flavanoids                      0.057584\n",
       "nonflavanoid_phenols            0.009696\n",
       "proanthocyanins                 0.000062\n",
       "color_intensity                 0.309069\n",
       "hue                             0.000124\n",
       "od280/od315_of_diluted_wines    0.267056\n",
       "proline                         0.290839\n",
       "dtype: float64"
      ]
     },
     "execution_count": 19,
     "metadata": {},
     "output_type": "execute_result"
    }
   ],
   "source": [
    "# obtain feature importances\n",
    "feature_importances = pd.Series(\n",
    "    data = clf.feature_importances_,\n",
    "    index = feature_df.columns\n",
    ")\n",
    "feature_importances"
   ]
  },
  {
   "cell_type": "markdown",
   "id": "a584300c",
   "metadata": {},
   "source": [
    "We can see there is no zero value in the feature importance.\n",
    "\n",
    "This is because the default depth of the base tree in `GradientBoostingClassifier()` is 3, thus more features involved than using the decision stump."
   ]
  },
  {
   "cell_type": "markdown",
   "id": "b48f2c6c",
   "metadata": {},
   "source": [
    "### 2.3 Test with other hyper-parameter values\n",
    "\n",
    "The three key hyper-parameters will affect the performance of the ensemble.\n",
    "\n",
    "Let's test these effects by varying one hyper-parameter and keeping the rest unchanged."
   ]
  },
  {
   "cell_type": "code",
   "execution_count": 20,
   "id": "caefc65e",
   "metadata": {},
   "outputs": [
    {
     "data": {
      "image/png": "[encoded data removed]",
      "text/plain": [
       "<Figure size 640x480 with 1 Axes>"
      ]
     },
     "metadata": {},
     "output_type": "display_data"
    }
   ],
   "source": [
    "# test the effect of n_estimators on performance\n",
    "n_estimators = [2, 5, 10, 25, 50, 75, 100]\n",
    "f1_weighted = []\n",
    "for item in n_estimators:\n",
    "    clf = GradientBoostingClassifier(\n",
    "        n_estimators = item,\n",
    "        random_state = 0\n",
    "    )\n",
    "    clf.fit(X_train, y_train)\n",
    "    y_pred = clf.predict(X_test)\n",
    "    f1_weighted.append(f1_score(y_test, y_pred, average = 'weighted'))\n",
    "\n",
    "plt.figure()\n",
    "plt.plot(n_estimators, f1_weighted, '.-')\n",
    "plt.xlabel('n_estimators')\n",
    "plt.ylabel('f1_weighted')\n",
    "plt.show()"
   ]
  },
  {
   "cell_type": "markdown",
   "id": "58d6e1c7",
   "metadata": {},
   "source": [
    "- If `n_estimators` is too low\n",
    "    - There won't be enough weak learners in the ensemble to correct the remaining residuals.\n",
    "    - The ensemble might be to simple and underfit the data.\n",
    "- If `n_estimators` is too high\n",
    "    - Too many weak learners might lead to over-fitting, which down-grades the performance\n",
    "    - We can use early stopping to prevent the ensemble from over-fitting\n",
    "- We can select an optimal value of `n_estimators` through hyper-parameter tuning\n",
    "- Or we can set `n_estimators` to a large value and adopt early stopping at the same time"
   ]
  },
  {
   "cell_type": "code",
   "execution_count": 21,
   "id": "60eea388",
   "metadata": {},
   "outputs": [
    {
     "data": {
      "image/png": "[encoded data removed]",
      "text/plain": [
       "<Figure size 640x480 with 1 Axes>"
      ]
     },
     "metadata": {},
     "output_type": "display_data"
    }
   ],
   "source": [
    "# test the effect of learning_rate on performance\n",
    "learning_rate = [0.1, 0.2, 0.3, 0.4, 0.5, 0.6, 0.7, 0.8, 0.9, 1.0]\n",
    "f1_weighted = []\n",
    "for item in learning_rate:\n",
    "    clf = GradientBoostingClassifier(\n",
    "        learning_rate = item,\n",
    "        random_state = 0\n",
    "    )\n",
    "    clf.fit(X_train, y_train)\n",
    "    y_pred = clf.predict(X_test)\n",
    "    f1_weighted.append(f1_score(y_test, y_pred, average = 'weighted'))\n",
    "\n",
    "plt.figure()\n",
    "plt.plot(learning_rate, f1_weighted, '.-')\n",
    "plt.xlabel('learning_rate')\n",
    "plt.ylabel('f1_weighted')\n",
    "plt.show()"
   ]
  },
  {
   "cell_type": "markdown",
   "id": "60d97487",
   "metadata": {},
   "source": [
    "- If `learning_rate` is too low\n",
    "    - A low `learning_rate` makes the ensemble more conservative, requiring more estimators to achieve good performance.\n",
    "    - In general, a low `learning_rate` with enough weak learners can lead to a robust ensemble with good performance.\n",
    "- If `learning_rate` is too high\n",
    "    - A high `learning_rate` allows each weak learner to contribute more to the final ensemble.\n",
    "    - This can speed up training process and reduce the number of required weak learners.\n",
    "    - But it also increase the risk of over-fitting, which might not be able to obtain the best performance.\n",
    "- We can find an optimal `learning_rate` through hyper-parameter tuning"
   ]
  },
  {
   "cell_type": "code",
   "execution_count": 22,
   "id": "dabcdec9",
   "metadata": {},
   "outputs": [
    {
     "data": {
      "image/png": "[encoded data removed]",
      "text/plain": [
       "<Figure size 640x480 with 1 Axes>"
      ]
     },
     "metadata": {},
     "output_type": "display_data"
    }
   ],
   "source": [
    "# test the effect of the complexity of base estimators on performance\n",
    "max_depth = [1, 2, 3, 4, 5, 6, 7, 8, 9, 10]\n",
    "f1_weighted = []\n",
    "for item in max_depth:\n",
    "    clf = GradientBoostingClassifier(\n",
    "        max_depth = item,\n",
    "        random_state = 0\n",
    "    )\n",
    "    clf.fit(X_train, y_train)\n",
    "    y_pred = clf.predict(X_test)\n",
    "    f1_weighted.append(f1_score(y_test, y_pred, average = 'weighted'))\n",
    "\n",
    "plt.figure()\n",
    "plt.plot(max_depth, f1_weighted, '.-')\n",
    "plt.xlabel('max_depth')\n",
    "plt.ylabel('f1_weighted')\n",
    "plt.show()"
   ]
  },
  {
   "cell_type": "markdown",
   "id": "8855d78d",
   "metadata": {},
   "source": [
    "- If `max_depth` of the base tree is too low\n",
    "    - The base tree might be too simple, and the resulting ensemble is also too simple for complex problems\n",
    "- If `max_depth` of the base tree is too high\n",
    "    - The base tree is too complex, and the resulting ensemble is also too complex and over-fitted\n",
    "- Gradient Boosting doesn't require the base tree to be shallow\n",
    "- We need to select a proper `max_depth` according to the complexity of the problem"
   ]
  },
  {
   "cell_type": "markdown",
   "id": "c0860907",
   "metadata": {},
   "source": [
    "### 2.4 Hyper-parameter tuning through cross-validation\n",
    "\n",
    "Considering the interaction between `n_estimators`, `learning_rate`, `max_depth`, and whether to adopt early stopping or not, we can use hyper-parameter tuning to find the best combination of the hyper-parameter values."
   ]
  },
  {
   "cell_type": "code",
   "execution_count": 23,
   "id": "ea02c415",
   "metadata": {},
   "outputs": [],
   "source": [
    "# define the hyper-parameters to search\n",
    "param_dict = {\n",
    "    'learning_rate': [1e-2, 1e-1, 1.0, 1e1, 1e2],\n",
    "    'n_estimators': [10, 50, 100, 200, 500],\n",
    "    'max_depth': [1, 3, 5, 7, 9, None],\n",
    "    'n_iter_no_change': [None, 1, 5, 10]\n",
    "}"
   ]
  },
  {
   "cell_type": "code",
   "execution_count": 24,
   "id": "3d47dfd0",
   "metadata": {},
   "outputs": [
    {
     "name": "stdout",
     "output_type": "stream",
     "text": [
      "Fitting 5 folds for each of 600 candidates, totalling 3000 fits\n"
     ]
    },
    {
     "data": {
      "text/html": [
       "<style>#sk-container-id-3 {color: black;}#sk-container-id-3 pre{padding: 0;}#sk-container-id-3 div.sk-toggleable {background-color: white;}#sk-container-id-3 label.sk-toggleable__label {cursor: pointer;display: block;width: 100%;margin-bottom: 0;padding: 0.3em;box-sizing: border-box;text-align: center;}#sk-container-id-3 label.sk-toggleable__label-arrow:before {content: \"▸\";float: left;margin-right: 0.25em;color: #696969;}#sk-container-id-3 label.sk-toggleable__label-arrow:hover:before {color: black;}#sk-container-id-3 div.sk-estimator:hover label.sk-toggleable__label-arrow:before {color: black;}#sk-container-id-3 div.sk-toggleable__content {max-height: 0;max-width: 0;overflow: hidden;text-align: left;background-color: #f0f8ff;}#sk-container-id-3 div.sk-toggleable__content pre {margin: 0.2em;color: black;border-radius: 0.25em;background-color: #f0f8ff;}#sk-container-id-3 input.sk-toggleable__control:checked~div.sk-toggleable__content {max-height: 200px;max-width: 100%;overflow: auto;}#sk-container-id-3 input.sk-toggleable__control:checked~label.sk-toggleable__label-arrow:before {content: \"▾\";}#sk-container-id-3 div.sk-estimator input.sk-toggleable__control:checked~label.sk-toggleable__label {background-color: #d4ebff;}#sk-container-id-3 div.sk-label input.sk-toggleable__control:checked~label.sk-toggleable__label {background-color: #d4ebff;}#sk-container-id-3 input.sk-hidden--visually {border: 0;clip: rect(1px 1px 1px 1px);clip: rect(1px, 1px, 1px, 1px);height: 1px;margin: -1px;overflow: hidden;padding: 0;position: absolute;width: 1px;}#sk-container-id-3 div.sk-estimator {font-family: monospace;background-color: #f0f8ff;border: 1px dotted black;border-radius: 0.25em;box-sizing: border-box;margin-bottom: 0.5em;}#sk-container-id-3 div.sk-estimator:hover {background-color: #d4ebff;}#sk-container-id-3 div.sk-parallel-item::after {content: \"\";width: 100%;border-bottom: 1px solid gray;flex-grow: 1;}#sk-container-id-3 div.sk-label:hover label.sk-toggleable__label {background-color: #d4ebff;}#sk-container-id-3 div.sk-serial::before {content: \"\";position: absolute;border-left: 1px solid gray;box-sizing: border-box;top: 0;bottom: 0;left: 50%;z-index: 0;}#sk-container-id-3 div.sk-serial {display: flex;flex-direction: column;align-items: center;background-color: white;padding-right: 0.2em;padding-left: 0.2em;position: relative;}#sk-container-id-3 div.sk-item {position: relative;z-index: 1;}#sk-container-id-3 div.sk-parallel {display: flex;align-items: stretch;justify-content: center;background-color: white;position: relative;}#sk-container-id-3 div.sk-item::before, #sk-container-id-3 div.sk-parallel-item::before {content: \"\";position: absolute;border-left: 1px solid gray;box-sizing: border-box;top: 0;bottom: 0;left: 50%;z-index: -1;}#sk-container-id-3 div.sk-parallel-item {display: flex;flex-direction: column;z-index: 1;position: relative;background-color: white;}#sk-container-id-3 div.sk-parallel-item:first-child::after {align-self: flex-end;width: 50%;}#sk-container-id-3 div.sk-parallel-item:last-child::after {align-self: flex-start;width: 50%;}#sk-container-id-3 div.sk-parallel-item:only-child::after {width: 0;}#sk-container-id-3 div.sk-dashed-wrapped {border: 1px dashed gray;margin: 0 0.4em 0.5em 0.4em;box-sizing: border-box;padding-bottom: 0.4em;background-color: white;}#sk-container-id-3 div.sk-label label {font-family: monospace;font-weight: bold;display: inline-block;line-height: 1.2em;}#sk-container-id-3 div.sk-label-container {text-align: center;}#sk-container-id-3 div.sk-container {/* jupyter's `normalize.less` sets `[hidden] { display: none; }` but bootstrap.min.css set `[hidden] { display: none !important; }` so we also need the `!important` here to be able to override the default hidden behavior on the sphinx rendered scikit-learn.org. See: https://github.com/scikit-learn/scikit-learn/issues/21755 */display: inline-block !important;position: relative;}#sk-container-id-3 div.sk-text-repr-fallback {display: none;}</style><div id=\"sk-container-id-3\" class=\"sk-top-container\"><div class=\"sk-text-repr-fallback\"><pre>GridSearchCV(cv=5, estimator=GradientBoostingClassifier(random_state=0),\n",
       "             n_jobs=-1,\n",
       "             param_grid={&#x27;learning_rate&#x27;: [0.01, 0.1, 1.0, 10.0, 100.0],\n",
       "                         &#x27;max_depth&#x27;: [1, 3, 5, 7, 9, None],\n",
       "                         &#x27;n_estimators&#x27;: [10, 50, 100, 200, 500],\n",
       "                         &#x27;n_iter_no_change&#x27;: [None, 1, 5, 10]},\n",
       "             scoring=&#x27;f1_weighted&#x27;, verbose=1)</pre><b>In a Jupyter environment, please rerun this cell to show the HTML representation or trust the notebook. <br />On GitHub, the HTML representation is unable to render, please try loading this page with nbviewer.org.</b></div><div class=\"sk-container\" hidden><div class=\"sk-item sk-dashed-wrapped\"><div class=\"sk-label-container\"><div class=\"sk-label sk-toggleable\"><input class=\"sk-toggleable__control sk-hidden--visually\" id=\"sk-estimator-id-3\" type=\"checkbox\" ><label for=\"sk-estimator-id-3\" class=\"sk-toggleable__label sk-toggleable__label-arrow\">GridSearchCV</label><div class=\"sk-toggleable__content\"><pre>GridSearchCV(cv=5, estimator=GradientBoostingClassifier(random_state=0),\n",
       "             n_jobs=-1,\n",
       "             param_grid={&#x27;learning_rate&#x27;: [0.01, 0.1, 1.0, 10.0, 100.0],\n",
       "                         &#x27;max_depth&#x27;: [1, 3, 5, 7, 9, None],\n",
       "                         &#x27;n_estimators&#x27;: [10, 50, 100, 200, 500],\n",
       "                         &#x27;n_iter_no_change&#x27;: [None, 1, 5, 10]},\n",
       "             scoring=&#x27;f1_weighted&#x27;, verbose=1)</pre></div></div></div><div class=\"sk-parallel\"><div class=\"sk-parallel-item\"><div class=\"sk-item\"><div class=\"sk-label-container\"><div class=\"sk-label sk-toggleable\"><input class=\"sk-toggleable__control sk-hidden--visually\" id=\"sk-estimator-id-4\" type=\"checkbox\" ><label for=\"sk-estimator-id-4\" class=\"sk-toggleable__label sk-toggleable__label-arrow\">estimator: GradientBoostingClassifier</label><div class=\"sk-toggleable__content\"><pre>GradientBoostingClassifier(random_state=0)</pre></div></div></div><div class=\"sk-serial\"><div class=\"sk-item\"><div class=\"sk-estimator sk-toggleable\"><input class=\"sk-toggleable__control sk-hidden--visually\" id=\"sk-estimator-id-5\" type=\"checkbox\" ><label for=\"sk-estimator-id-5\" class=\"sk-toggleable__label sk-toggleable__label-arrow\">GradientBoostingClassifier</label><div class=\"sk-toggleable__content\"><pre>GradientBoostingClassifier(random_state=0)</pre></div></div></div></div></div></div></div></div></div></div>"
      ],
      "text/plain": [
       "GridSearchCV(cv=5, estimator=GradientBoostingClassifier(random_state=0),\n",
       "             n_jobs=-1,\n",
       "             param_grid={'learning_rate': [0.01, 0.1, 1.0, 10.0, 100.0],\n",
       "                         'max_depth': [1, 3, 5, 7, 9, None],\n",
       "                         'n_estimators': [10, 50, 100, 200, 500],\n",
       "                         'n_iter_no_change': [None, 1, 5, 10]},\n",
       "             scoring='f1_weighted', verbose=1)"
      ]
     },
     "execution_count": 24,
     "metadata": {},
     "output_type": "execute_result"
    }
   ],
   "source": [
    "# hyper-parameter tuning through cross-validation\n",
    "grid_clf = GridSearchCV(\n",
    "    estimator = GradientBoostingClassifier(random_state = 0),\n",
    "    param_grid = param_dict,\n",
    "    scoring = 'f1_weighted',\n",
    "    refit = True,\n",
    "    cv = 5,\n",
    "    verbose = 1,\n",
    "    n_jobs = -1\n",
    ")\n",
    "grid_clf.fit(X_train, y_train)"
   ]
  },
  {
   "cell_type": "code",
   "execution_count": 25,
   "id": "0d07e091",
   "metadata": {},
   "outputs": [
    {
     "name": "stdout",
     "output_type": "stream",
     "text": [
      "Best hyper-parameters: {'learning_rate': 1.0, 'max_depth': 1, 'n_estimators': 10, 'n_iter_no_change': None}\n",
      "Best score: 0.9597688338493293\n"
     ]
    }
   ],
   "source": [
    "# obtain the best hyper-parameters and the best score\n",
    "print('Best hyper-parameters:', grid_clf.best_params_)\n",
    "print('Best score:', grid_clf.best_score_)"
   ]
  },
  {
   "cell_type": "code",
   "execution_count": 26,
   "id": "6fc5186c",
   "metadata": {},
   "outputs": [],
   "source": [
    "# predict categories for test dataset\n",
    "y_pred = grid_clf.predict(X_test)"
   ]
  },
  {
   "cell_type": "code",
   "execution_count": 27,
   "id": "818ce264",
   "metadata": {},
   "outputs": [
    {
     "name": "stdout",
     "output_type": "stream",
     "text": [
      "              precision    recall  f1-score   support\n",
      "\n",
      "           0       0.95      1.00      0.97        19\n",
      "           1       1.00      0.91      0.95        22\n",
      "           2       0.93      1.00      0.96        13\n",
      "\n",
      "    accuracy                           0.96        54\n",
      "   macro avg       0.96      0.97      0.96        54\n",
      "weighted avg       0.97      0.96      0.96        54\n",
      "\n"
     ]
    }
   ],
   "source": [
    "# obtain classification metrics using `classification_report`\n",
    "print(classification_report(y_test, y_pred))"
   ]
  },
  {
   "cell_type": "markdown",
   "id": "9d2f91d3",
   "metadata": {},
   "source": [
    "## Part 3. Stacking Classifier\n",
    "\n",
    "In this part, we will using Stacking algorithm to solve the same problem.\n",
    "\n",
    "We will ececute the following steps:\n",
    "\n",
    "- Declare the base estimators\n",
    "- Train the stacking classifer\n",
    "- Evaluate the stacking classifer"
   ]
  },
  {
   "cell_type": "markdown",
   "id": "e7c9798d",
   "metadata": {},
   "source": [
    "### 3.1 Declare base estimators\n",
    "\n",
    "To be noted, the base estimators can be built using different algorithms, or the same algorithm with different hyper-parameters.\n",
    "\n",
    "For some algorithms that require the specific data pre-processing steps, like feature scaling for KNN and SVM, don't forget to embed the pre-processing steps as a pipeline."
   ]
  },
  {
   "cell_type": "code",
   "execution_count": 28,
   "id": "5580bd02",
   "metadata": {},
   "outputs": [],
   "source": [
    "# declare a list of base estimators to be stacked together\n",
    "estimators = [\n",
    "    ('decision tree', DecisionTreeClassifier(\n",
    "        max_depth = 5,\n",
    "        random_state = 0\n",
    "    )),\n",
    "    ('KNN', Pipeline([\n",
    "        ('standard scaler', StandardScaler()),\n",
    "        ('knn', KNeighborsClassifier())\n",
    "    ])),\n",
    "    ('SVC', Pipeline([\n",
    "        ('standard scaler', StandardScaler()),\n",
    "        ('svc', SVC())\n",
    "    ]))\n",
    "]"
   ]
  },
  {
   "cell_type": "markdown",
   "id": "d4509ebc",
   "metadata": {},
   "source": [
    "### 3.2 Build the stacked classifier\n",
    "\n",
    "Here, we use the default algorithm (logistic regression) as the meta learner."
   ]
  },
  {
   "cell_type": "code",
   "execution_count": 29,
   "id": "3e130a2c",
   "metadata": {},
   "outputs": [],
   "source": [
    "# create the stacked classifier with logistic regression as the final estimator\n",
    "clf = StackingClassifier(\n",
    "    estimators = estimators,\n",
    "    final_estimator = LogisticRegression(),\n",
    "    n_jobs = -1,\n",
    "    verbose = 1\n",
    ")"
   ]
  },
  {
   "cell_type": "code",
   "execution_count": 30,
   "id": "9554161f",
   "metadata": {},
   "outputs": [
    {
     "name": "stderr",
     "output_type": "stream",
     "text": [
      "[Parallel(n_jobs=-1)]: Using backend ThreadingBackend with 16 concurrent workers.\n",
      "[Parallel(n_jobs=-1)]: Using backend ThreadingBackend with 16 concurrent workers.\n",
      "[Parallel(n_jobs=-1)]: Using backend ThreadingBackend with 16 concurrent workers.\n",
      "[Parallel(n_jobs=-1)]: Done   5 out of   5 | elapsed:    0.0s finished\n",
      "[Parallel(n_jobs=-1)]: Done   5 out of   5 | elapsed:    0.0s finished\n",
      "[Parallel(n_jobs=-1)]: Done   5 out of   5 | elapsed:    0.0s finished\n"
     ]
    },
    {
     "data": {
      "text/html": [
       "<style>#sk-container-id-4 {color: black;}#sk-container-id-4 pre{padding: 0;}#sk-container-id-4 div.sk-toggleable {background-color: white;}#sk-container-id-4 label.sk-toggleable__label {cursor: pointer;display: block;width: 100%;margin-bottom: 0;padding: 0.3em;box-sizing: border-box;text-align: center;}#sk-container-id-4 label.sk-toggleable__label-arrow:before {content: \"▸\";float: left;margin-right: 0.25em;color: #696969;}#sk-container-id-4 label.sk-toggleable__label-arrow:hover:before {color: black;}#sk-container-id-4 div.sk-estimator:hover label.sk-toggleable__label-arrow:before {color: black;}#sk-container-id-4 div.sk-toggleable__content {max-height: 0;max-width: 0;overflow: hidden;text-align: left;background-color: #f0f8ff;}#sk-container-id-4 div.sk-toggleable__content pre {margin: 0.2em;color: black;border-radius: 0.25em;background-color: #f0f8ff;}#sk-container-id-4 input.sk-toggleable__control:checked~div.sk-toggleable__content {max-height: 200px;max-width: 100%;overflow: auto;}#sk-container-id-4 input.sk-toggleable__control:checked~label.sk-toggleable__label-arrow:before {content: \"▾\";}#sk-container-id-4 div.sk-estimator input.sk-toggleable__control:checked~label.sk-toggleable__label {background-color: #d4ebff;}#sk-container-id-4 div.sk-label input.sk-toggleable__control:checked~label.sk-toggleable__label {background-color: #d4ebff;}#sk-container-id-4 input.sk-hidden--visually {border: 0;clip: rect(1px 1px 1px 1px);clip: rect(1px, 1px, 1px, 1px);height: 1px;margin: -1px;overflow: hidden;padding: 0;position: absolute;width: 1px;}#sk-container-id-4 div.sk-estimator {font-family: monospace;background-color: #f0f8ff;border: 1px dotted black;border-radius: 0.25em;box-sizing: border-box;margin-bottom: 0.5em;}#sk-container-id-4 div.sk-estimator:hover {background-color: #d4ebff;}#sk-container-id-4 div.sk-parallel-item::after {content: \"\";width: 100%;border-bottom: 1px solid gray;flex-grow: 1;}#sk-container-id-4 div.sk-label:hover label.sk-toggleable__label {background-color: #d4ebff;}#sk-container-id-4 div.sk-serial::before {content: \"\";position: absolute;border-left: 1px solid gray;box-sizing: border-box;top: 0;bottom: 0;left: 50%;z-index: 0;}#sk-container-id-4 div.sk-serial {display: flex;flex-direction: column;align-items: center;background-color: white;padding-right: 0.2em;padding-left: 0.2em;position: relative;}#sk-container-id-4 div.sk-item {position: relative;z-index: 1;}#sk-container-id-4 div.sk-parallel {display: flex;align-items: stretch;justify-content: center;background-color: white;position: relative;}#sk-container-id-4 div.sk-item::before, #sk-container-id-4 div.sk-parallel-item::before {content: \"\";position: absolute;border-left: 1px solid gray;box-sizing: border-box;top: 0;bottom: 0;left: 50%;z-index: -1;}#sk-container-id-4 div.sk-parallel-item {display: flex;flex-direction: column;z-index: 1;position: relative;background-color: white;}#sk-container-id-4 div.sk-parallel-item:first-child::after {align-self: flex-end;width: 50%;}#sk-container-id-4 div.sk-parallel-item:last-child::after {align-self: flex-start;width: 50%;}#sk-container-id-4 div.sk-parallel-item:only-child::after {width: 0;}#sk-container-id-4 div.sk-dashed-wrapped {border: 1px dashed gray;margin: 0 0.4em 0.5em 0.4em;box-sizing: border-box;padding-bottom: 0.4em;background-color: white;}#sk-container-id-4 div.sk-label label {font-family: monospace;font-weight: bold;display: inline-block;line-height: 1.2em;}#sk-container-id-4 div.sk-label-container {text-align: center;}#sk-container-id-4 div.sk-container {/* jupyter's `normalize.less` sets `[hidden] { display: none; }` but bootstrap.min.css set `[hidden] { display: none !important; }` so we also need the `!important` here to be able to override the default hidden behavior on the sphinx rendered scikit-learn.org. See: https://github.com/scikit-learn/scikit-learn/issues/21755 */display: inline-block !important;position: relative;}#sk-container-id-4 div.sk-text-repr-fallback {display: none;}</style><div id=\"sk-container-id-4\" class=\"sk-top-container\"><div class=\"sk-text-repr-fallback\"><pre>StackingClassifier(estimators=[(&#x27;decision tree&#x27;,\n",
       "                                DecisionTreeClassifier(max_depth=5,\n",
       "                                                       random_state=0)),\n",
       "                               (&#x27;KNN&#x27;,\n",
       "                                Pipeline(steps=[(&#x27;standard scaler&#x27;,\n",
       "                                                 StandardScaler()),\n",
       "                                                (&#x27;knn&#x27;,\n",
       "                                                 KNeighborsClassifier())])),\n",
       "                               (&#x27;SVC&#x27;,\n",
       "                                Pipeline(steps=[(&#x27;standard scaler&#x27;,\n",
       "                                                 StandardScaler()),\n",
       "                                                (&#x27;svc&#x27;, SVC())]))],\n",
       "                   final_estimator=LogisticRegression(), n_jobs=-1, verbose=1)</pre><b>In a Jupyter environment, please rerun this cell to show the HTML representation or trust the notebook. <br />On GitHub, the HTML representation is unable to render, please try loading this page with nbviewer.org.</b></div><div class=\"sk-container\" hidden><div class=\"sk-item sk-dashed-wrapped\"><div class=\"sk-label-container\"><div class=\"sk-label sk-toggleable\"><input class=\"sk-toggleable__control sk-hidden--visually\" id=\"sk-estimator-id-6\" type=\"checkbox\" ><label for=\"sk-estimator-id-6\" class=\"sk-toggleable__label sk-toggleable__label-arrow\">StackingClassifier</label><div class=\"sk-toggleable__content\"><pre>StackingClassifier(estimators=[(&#x27;decision tree&#x27;,\n",
       "                                DecisionTreeClassifier(max_depth=5,\n",
       "                                                       random_state=0)),\n",
       "                               (&#x27;KNN&#x27;,\n",
       "                                Pipeline(steps=[(&#x27;standard scaler&#x27;,\n",
       "                                                 StandardScaler()),\n",
       "                                                (&#x27;knn&#x27;,\n",
       "                                                 KNeighborsClassifier())])),\n",
       "                               (&#x27;SVC&#x27;,\n",
       "                                Pipeline(steps=[(&#x27;standard scaler&#x27;,\n",
       "                                                 StandardScaler()),\n",
       "                                                (&#x27;svc&#x27;, SVC())]))],\n",
       "                   final_estimator=LogisticRegression(), n_jobs=-1, verbose=1)</pre></div></div></div><div class=\"sk-serial\"><div class=\"sk-item\"><div class=\"sk-parallel\"><div class=\"sk-parallel-item\"><div class=\"sk-item\"><div class=\"sk-label-container\"><div class=\"sk-label sk-toggleable\"><label>decision tree</label></div></div><div class=\"sk-serial\"><div class=\"sk-item\"><div class=\"sk-estimator sk-toggleable\"><input class=\"sk-toggleable__control sk-hidden--visually\" id=\"sk-estimator-id-7\" type=\"checkbox\" ><label for=\"sk-estimator-id-7\" class=\"sk-toggleable__label sk-toggleable__label-arrow\">DecisionTreeClassifier</label><div class=\"sk-toggleable__content\"><pre>DecisionTreeClassifier(max_depth=5, random_state=0)</pre></div></div></div></div></div></div><div class=\"sk-parallel-item\"><div class=\"sk-item\"><div class=\"sk-label-container\"><div class=\"sk-label sk-toggleable\"><label>KNN</label></div></div><div class=\"sk-serial\"><div class=\"sk-item\"><div class=\"sk-serial\"><div class=\"sk-item\"><div class=\"sk-estimator sk-toggleable\"><input class=\"sk-toggleable__control sk-hidden--visually\" id=\"sk-estimator-id-8\" type=\"checkbox\" ><label for=\"sk-estimator-id-8\" class=\"sk-toggleable__label sk-toggleable__label-arrow\">StandardScaler</label><div class=\"sk-toggleable__content\"><pre>StandardScaler()</pre></div></div></div><div class=\"sk-item\"><div class=\"sk-estimator sk-toggleable\"><input class=\"sk-toggleable__control sk-hidden--visually\" id=\"sk-estimator-id-9\" type=\"checkbox\" ><label for=\"sk-estimator-id-9\" class=\"sk-toggleable__label sk-toggleable__label-arrow\">KNeighborsClassifier</label><div class=\"sk-toggleable__content\"><pre>KNeighborsClassifier()</pre></div></div></div></div></div></div></div></div><div class=\"sk-parallel-item\"><div class=\"sk-item\"><div class=\"sk-label-container\"><div class=\"sk-label sk-toggleable\"><label>SVC</label></div></div><div class=\"sk-serial\"><div class=\"sk-item\"><div class=\"sk-serial\"><div class=\"sk-item\"><div class=\"sk-estimator sk-toggleable\"><input class=\"sk-toggleable__control sk-hidden--visually\" id=\"sk-estimator-id-10\" type=\"checkbox\" ><label for=\"sk-estimator-id-10\" class=\"sk-toggleable__label sk-toggleable__label-arrow\">StandardScaler</label><div class=\"sk-toggleable__content\"><pre>StandardScaler()</pre></div></div></div><div class=\"sk-item\"><div class=\"sk-estimator sk-toggleable\"><input class=\"sk-toggleable__control sk-hidden--visually\" id=\"sk-estimator-id-11\" type=\"checkbox\" ><label for=\"sk-estimator-id-11\" class=\"sk-toggleable__label sk-toggleable__label-arrow\">SVC</label><div class=\"sk-toggleable__content\"><pre>SVC()</pre></div></div></div></div></div></div></div></div></div></div><div class=\"sk-item\"><div class=\"sk-parallel\"><div class=\"sk-parallel-item\"><div class=\"sk-item\"><div class=\"sk-label-container\"><div class=\"sk-label sk-toggleable\"><label>final_estimator</label></div></div><div class=\"sk-serial\"><div class=\"sk-item\"><div class=\"sk-estimator sk-toggleable\"><input class=\"sk-toggleable__control sk-hidden--visually\" id=\"sk-estimator-id-12\" type=\"checkbox\" ><label for=\"sk-estimator-id-12\" class=\"sk-toggleable__label sk-toggleable__label-arrow\">LogisticRegression</label><div class=\"sk-toggleable__content\"><pre>LogisticRegression()</pre></div></div></div></div></div></div></div></div></div></div></div></div>"
      ],
      "text/plain": [
       "StackingClassifier(estimators=[('decision tree',\n",
       "                                DecisionTreeClassifier(max_depth=5,\n",
       "                                                       random_state=0)),\n",
       "                               ('KNN',\n",
       "                                Pipeline(steps=[('standard scaler',\n",
       "                                                 StandardScaler()),\n",
       "                                                ('knn',\n",
       "                                                 KNeighborsClassifier())])),\n",
       "                               ('SVC',\n",
       "                                Pipeline(steps=[('standard scaler',\n",
       "                                                 StandardScaler()),\n",
       "                                                ('svc', SVC())]))],\n",
       "                   final_estimator=LogisticRegression(), n_jobs=-1, verbose=1)"
      ]
     },
     "execution_count": 30,
     "metadata": {},
     "output_type": "execute_result"
    }
   ],
   "source": [
    "# fit the model to the training dataset\n",
    "clf.fit(X_train, y_train)"
   ]
  },
  {
   "cell_type": "markdown",
   "id": "4959d4e7",
   "metadata": {},
   "source": [
    "### 3.3 Evaluation using the test dataset"
   ]
  },
  {
   "cell_type": "code",
   "execution_count": 31,
   "id": "11cedb28",
   "metadata": {},
   "outputs": [],
   "source": [
    "# predict categories for test dataset\n",
    "y_pred = clf.predict(X_test)"
   ]
  },
  {
   "cell_type": "code",
   "execution_count": 32,
   "id": "75dbf804",
   "metadata": {},
   "outputs": [
    {
     "name": "stdout",
     "output_type": "stream",
     "text": [
      "              precision    recall  f1-score   support\n",
      "\n",
      "           0       1.00      1.00      1.00        19\n",
      "           1       1.00      1.00      1.00        22\n",
      "           2       1.00      1.00      1.00        13\n",
      "\n",
      "    accuracy                           1.00        54\n",
      "   macro avg       1.00      1.00      1.00        54\n",
      "weighted avg       1.00      1.00      1.00        54\n",
      "\n"
     ]
    }
   ],
   "source": [
    "# obtain classification metrics using `classification_report`\n",
    "print(classification_report(y_test, y_pred))"
   ]
  },
  {
   "cell_type": "markdown",
   "id": "22f0a77e",
   "metadata": {},
   "source": [
    "## Part 4. Hands-on exercise\n",
    "\n",
    "<span style=\"color:red\">**This exercise is an assignment, the submission deadline on Learn of this assignment is 25/03/2024 23:59.**</span>\n",
    "\n",
    "In this exercise, you are required to build a regression model using the three ensemble learning methods we've learned today.\n",
    "\n",
    "The problem to be solved is predicting the price of flights.\n",
    "\n",
    "Please download the flight price dataset from Learn.\n",
    "\n",
    "<span style=\"color:red\">**[TBC]**</span> Please complete the following tasks:\n",
    "\n",
    "- Load and pre-process the dataset\n",
    "- Build and evaluate a regression model using:\n",
    "    - AdaBoost\n",
    "    - Gradient Boosting\n",
    "    - Stacking\n",
    "\n",
    "<span style=\"color:red\">**Warning**</span>: Be aware of the size of the dataset, make sure:\n",
    "\n",
    "- The scripts are executable on your device (whether your computer or Google Colab)\n",
    "- The submitted jupyter notebook has been already executed and contains all the outputs."
   ]
  },
  {
   "cell_type": "markdown",
   "id": "570dd804",
   "metadata": {},
   "source": [
    "### Task 1. Load and pre-process the dataset\n",
    "\n",
    "You need to load the dataset and perform necessary pre-processing steps.\n",
    "\n",
    "<span style=\"color:red\">**[TBC]**</span> Please complete the following tasks:\n",
    "\n",
    "- Load the dataset\n",
    "- Encode categorical features\n",
    "- Train test split"
   ]
  },
  {
   "cell_type": "code",
   "execution_count": 33,
   "id": "bbd31243",
   "metadata": {},
   "outputs": [
    {
     "data": {
      "text/html": [
       "<div>\n",
       "<style scoped>\n",
       "    .dataframe tbody tr th:only-of-type {\n",
       "        vertical-align: middle;\n",
       "    }\n",
       "\n",
       "    .dataframe tbody tr th {\n",
       "        vertical-align: top;\n",
       "    }\n",
       "\n",
       "    .dataframe thead th {\n",
       "        text-align: right;\n",
       "    }\n",
       "</style>\n",
       "<table border=\"1\" class=\"dataframe\">\n",
       "  <thead>\n",
       "    <tr style=\"text-align: right;\">\n",
       "      <th></th>\n",
       "      <th>airline</th>\n",
       "      <th>flight</th>\n",
       "      <th>source_city</th>\n",
       "      <th>departure_time</th>\n",
       "      <th>stops</th>\n",
       "      <th>arrival_time</th>\n",
       "      <th>destination_city</th>\n",
       "      <th>class</th>\n",
       "      <th>duration</th>\n",
       "      <th>days_left</th>\n",
       "      <th>price</th>\n",
       "    </tr>\n",
       "  </thead>\n",
       "  <tbody>\n",
       "    <tr>\n",
       "      <th>0</th>\n",
       "      <td>SpiceJet</td>\n",
       "      <td>SG-8709</td>\n",
       "      <td>Delhi</td>\n",
       "      <td>Evening</td>\n",
       "      <td>zero</td>\n",
       "      <td>Night</td>\n",
       "      <td>Mumbai</td>\n",
       "      <td>Economy</td>\n",
       "      <td>2.17</td>\n",
       "      <td>1</td>\n",
       "      <td>5953</td>\n",
       "    </tr>\n",
       "    <tr>\n",
       "      <th>1</th>\n",
       "      <td>SpiceJet</td>\n",
       "      <td>SG-8157</td>\n",
       "      <td>Delhi</td>\n",
       "      <td>Early_Morning</td>\n",
       "      <td>zero</td>\n",
       "      <td>Morning</td>\n",
       "      <td>Mumbai</td>\n",
       "      <td>Economy</td>\n",
       "      <td>2.33</td>\n",
       "      <td>1</td>\n",
       "      <td>5953</td>\n",
       "    </tr>\n",
       "    <tr>\n",
       "      <th>2</th>\n",
       "      <td>AirAsia</td>\n",
       "      <td>I5-764</td>\n",
       "      <td>Delhi</td>\n",
       "      <td>Early_Morning</td>\n",
       "      <td>zero</td>\n",
       "      <td>Early_Morning</td>\n",
       "      <td>Mumbai</td>\n",
       "      <td>Economy</td>\n",
       "      <td>2.17</td>\n",
       "      <td>1</td>\n",
       "      <td>5956</td>\n",
       "    </tr>\n",
       "    <tr>\n",
       "      <th>3</th>\n",
       "      <td>Vistara</td>\n",
       "      <td>UK-995</td>\n",
       "      <td>Delhi</td>\n",
       "      <td>Morning</td>\n",
       "      <td>zero</td>\n",
       "      <td>Afternoon</td>\n",
       "      <td>Mumbai</td>\n",
       "      <td>Economy</td>\n",
       "      <td>2.25</td>\n",
       "      <td>1</td>\n",
       "      <td>5955</td>\n",
       "    </tr>\n",
       "    <tr>\n",
       "      <th>4</th>\n",
       "      <td>Vistara</td>\n",
       "      <td>UK-963</td>\n",
       "      <td>Delhi</td>\n",
       "      <td>Morning</td>\n",
       "      <td>zero</td>\n",
       "      <td>Morning</td>\n",
       "      <td>Mumbai</td>\n",
       "      <td>Economy</td>\n",
       "      <td>2.33</td>\n",
       "      <td>1</td>\n",
       "      <td>5955</td>\n",
       "    </tr>\n",
       "  </tbody>\n",
       "</table>\n",
       "</div>"
      ],
      "text/plain": [
       "    airline   flight source_city departure_time stops   arrival_time  \\\n",
       "0  SpiceJet  SG-8709       Delhi        Evening  zero          Night   \n",
       "1  SpiceJet  SG-8157       Delhi  Early_Morning  zero        Morning   \n",
       "2   AirAsia   I5-764       Delhi  Early_Morning  zero  Early_Morning   \n",
       "3   Vistara   UK-995       Delhi        Morning  zero      Afternoon   \n",
       "4   Vistara   UK-963       Delhi        Morning  zero        Morning   \n",
       "\n",
       "  destination_city    class  duration  days_left  price  \n",
       "0           Mumbai  Economy      2.17          1   5953  \n",
       "1           Mumbai  Economy      2.33          1   5953  \n",
       "2           Mumbai  Economy      2.17          1   5956  \n",
       "3           Mumbai  Economy      2.25          1   5955  \n",
       "4           Mumbai  Economy      2.33          1   5955  "
      ]
     },
     "execution_count": 33,
     "metadata": {},
     "output_type": "execute_result"
    }
   ],
   "source": [
    "# [TBC] complete your code here with proper comments\n",
    "# load the dataset\n",
    "# hint: pandas.read_csv()\n",
    "df = pd.read_csv('flight_price_dataset.csv', index_col = 0)\n",
    "df.head()"
   ]
  },
  {
   "cell_type": "code",
   "execution_count": 34,
   "id": "d49077e6",
   "metadata": {},
   "outputs": [
    {
     "data": {
      "text/html": [
       "<div>\n",
       "<style scoped>\n",
       "    .dataframe tbody tr th:only-of-type {\n",
       "        vertical-align: middle;\n",
       "    }\n",
       "\n",
       "    .dataframe tbody tr th {\n",
       "        vertical-align: top;\n",
       "    }\n",
       "\n",
       "    .dataframe thead th {\n",
       "        text-align: right;\n",
       "    }\n",
       "</style>\n",
       "<table border=\"1\" class=\"dataframe\">\n",
       "  <thead>\n",
       "    <tr style=\"text-align: right;\">\n",
       "      <th></th>\n",
       "      <th>airline</th>\n",
       "      <th>flight</th>\n",
       "      <th>source_city</th>\n",
       "      <th>departure_time</th>\n",
       "      <th>stops</th>\n",
       "      <th>arrival_time</th>\n",
       "      <th>destination_city</th>\n",
       "      <th>class</th>\n",
       "      <th>duration</th>\n",
       "      <th>days_left</th>\n",
       "      <th>price</th>\n",
       "    </tr>\n",
       "  </thead>\n",
       "  <tbody>\n",
       "    <tr>\n",
       "      <th>0</th>\n",
       "      <td>4</td>\n",
       "      <td>1408</td>\n",
       "      <td>2</td>\n",
       "      <td>2</td>\n",
       "      <td>2</td>\n",
       "      <td>5</td>\n",
       "      <td>5</td>\n",
       "      <td>1</td>\n",
       "      <td>2.17</td>\n",
       "      <td>1</td>\n",
       "      <td>5953</td>\n",
       "    </tr>\n",
       "    <tr>\n",
       "      <th>1</th>\n",
       "      <td>4</td>\n",
       "      <td>1387</td>\n",
       "      <td>2</td>\n",
       "      <td>1</td>\n",
       "      <td>2</td>\n",
       "      <td>4</td>\n",
       "      <td>5</td>\n",
       "      <td>1</td>\n",
       "      <td>2.33</td>\n",
       "      <td>1</td>\n",
       "      <td>5953</td>\n",
       "    </tr>\n",
       "    <tr>\n",
       "      <th>2</th>\n",
       "      <td>0</td>\n",
       "      <td>1213</td>\n",
       "      <td>2</td>\n",
       "      <td>1</td>\n",
       "      <td>2</td>\n",
       "      <td>1</td>\n",
       "      <td>5</td>\n",
       "      <td>1</td>\n",
       "      <td>2.17</td>\n",
       "      <td>1</td>\n",
       "      <td>5956</td>\n",
       "    </tr>\n",
       "    <tr>\n",
       "      <th>3</th>\n",
       "      <td>5</td>\n",
       "      <td>1559</td>\n",
       "      <td>2</td>\n",
       "      <td>4</td>\n",
       "      <td>2</td>\n",
       "      <td>0</td>\n",
       "      <td>5</td>\n",
       "      <td>1</td>\n",
       "      <td>2.25</td>\n",
       "      <td>1</td>\n",
       "      <td>5955</td>\n",
       "    </tr>\n",
       "    <tr>\n",
       "      <th>4</th>\n",
       "      <td>5</td>\n",
       "      <td>1549</td>\n",
       "      <td>2</td>\n",
       "      <td>4</td>\n",
       "      <td>2</td>\n",
       "      <td>4</td>\n",
       "      <td>5</td>\n",
       "      <td>1</td>\n",
       "      <td>2.33</td>\n",
       "      <td>1</td>\n",
       "      <td>5955</td>\n",
       "    </tr>\n",
       "  </tbody>\n",
       "</table>\n",
       "</div>"
      ],
      "text/plain": [
       "   airline  flight  source_city  departure_time  stops  arrival_time  \\\n",
       "0        4    1408            2               2      2             5   \n",
       "1        4    1387            2               1      2             4   \n",
       "2        0    1213            2               1      2             1   \n",
       "3        5    1559            2               4      2             0   \n",
       "4        5    1549            2               4      2             4   \n",
       "\n",
       "   destination_city  class  duration  days_left  price  \n",
       "0                 5      1      2.17          1   5953  \n",
       "1                 5      1      2.33          1   5953  \n",
       "2                 5      1      2.17          1   5956  \n",
       "3                 5      1      2.25          1   5955  \n",
       "4                 5      1      2.33          1   5955  "
      ]
     },
     "execution_count": 34,
     "metadata": {},
     "output_type": "execute_result"
    }
   ],
   "source": [
    "# [TBC] complete your code here with proper comments\n",
    "# Encode categorical features\n",
    "# hint: sklearn.preprocessing.LabelEncoder()\n",
    "\n",
    "# List of categorical columns to encode\n",
    "categorical_cols = ['airline', 'flight', 'source_city', 'departure_time', 'stops', 'arrival_time', 'destination_city', 'class']\n",
    "\n",
    "# Dictionary to keep track of LabelEncoders for each column\n",
    "le_dict = {}\n",
    "\n",
    "# Loop through each categorical column, create a LabelEncoder, fit and transform the data\n",
    "df_encoded = df.copy()\n",
    "for col in categorical_cols:\n",
    "    le = LabelEncoder()\n",
    "    df_encoded[col] = le.fit_transform(df_encoded[col])\n",
    "    # Store the LabelEncoder in dictionary\n",
    "    le_dict[col] = le\n",
    "\n",
    "# display the first five rows of the encoded dataset\n",
    "df_encoded.head()"
   ]
  },
  {
   "cell_type": "code",
   "execution_count": 35,
   "id": "a7a096dc",
   "metadata": {},
   "outputs": [],
   "source": [
    "# [TBC] complete your code here with proper comments\n",
    "# Train test split\n",
    "# hint: sklearn.model_selection.train_test_split()\n",
    "# hint: first divide the encoded dataset into features and target, then perform train test split\n",
    "\n",
    "# extract feature\n",
    "feature_df = df_encoded.copy().drop(columns = ['price'])\n",
    "\n",
    "# extract target\n",
    "target_df = df_encoded.copy()['price']\n",
    "\n",
    "# train test split\n",
    "X_train, X_test, y_train, y_test = train_test_split(\n",
    "    feature_df.values, # call `.values` to convert the feature from pd.DataFrame to np.array\n",
    "    target_df.values, # call `.values` to convert the target from pd.Series to np.array\n",
    "    train_size = 0.7, # 70% for training, 30% for test\n",
    "    random_state = 0 # controls the shuffling, set to zero for reproduciblillity\n",
    ")"
   ]
  },
  {
   "cell_type": "markdown",
   "id": "3b3d62f6",
   "metadata": {},
   "source": [
    "### Task 2. AdaBoost Regressor\n",
    "\n",
    "You need to build and evaluate a regression model using AdaBoost algorithm.\n",
    "\n",
    "<span style=\"color:red\">**[TBC]**</span> Please complete the following tasks:\n",
    "\n",
    "- Hyper-parameter-tuning through cross validation\n",
    "- Evaluate the performance on test dataset\n",
    "    - Calculate RMSE and R2 score\n",
    "    - Visualize the prediction results of the test dataset"
   ]
  },
  {
   "cell_type": "code",
   "execution_count": 36,
   "id": "f0d12957",
   "metadata": {},
   "outputs": [
    {
     "name": "stdout",
     "output_type": "stream",
     "text": [
      "Best hyper-parameters: {'estimator': DecisionTreeRegressor(max_depth=50, random_state=0), 'learning_rate': 1.0, 'n_estimators': 100}\n",
      "Best score: -2734.1607251358896\n",
      "RMSE test: 2596.689755386611\n",
      "R2 test: 0.9869187401752229\n"
     ]
    },
    {
     "data": {
      "image/png": "[encoded data removed]",
      "text/plain": [
       "<Figure size 640x480 with 1 Axes>"
      ]
     },
     "metadata": {},
     "output_type": "display_data"
    }
   ],
   "source": [
    "# [TBC] complete your code here with proper comments\n",
    "# AdaBoost Regressor\n",
    "\n",
    "# define the hyper-parameters to search\n",
    "param_dict = {\n",
    "    'estimator': [\n",
    "        DecisionTreeRegressor(max_depth = 1, random_state = 0),\n",
    "        DecisionTreeRegressor(max_depth = 10, random_state = 0),\n",
    "        DecisionTreeRegressor(max_depth = 50, random_state = 0)\n",
    "    ],\n",
    "    'n_estimators': [10, 50, 100],\n",
    "    'learning_rate': [1e-1, 1.0, 1e1]\n",
    "}\n",
    "\n",
    "# hyper-parameter tuning through cross-validation\n",
    "grid_regr = GridSearchCV(\n",
    "    estimator = AdaBoostRegressor(random_state = 0),\n",
    "    param_grid = param_dict,\n",
    "    scoring = 'neg_root_mean_squared_error',\n",
    "    refit = True,\n",
    "    cv = 3,\n",
    "    verbose = 0,\n",
    "    n_jobs = -1\n",
    ")\n",
    "grid_regr.fit(X_train, y_train)\n",
    "\n",
    "# obtain the best hyper-parameters and the best score\n",
    "print('Best hyper-parameters:', grid_regr.best_params_)\n",
    "print('Best score:', grid_regr.best_score_)\n",
    "\n",
    "# predict categories for test dataset\n",
    "y_pred = grid_regr.predict(X_test)\n",
    "\n",
    "# model performance on the testing dataset\n",
    "rmse_test = mean_squared_error(y_test, y_pred, squared = False)\n",
    "r2_test = r2_score(y_test, y_pred)\n",
    "\n",
    "# print RMSE and r2 score\n",
    "print(\"RMSE test:\", rmse_test)\n",
    "print(\"R2 test:\", r2_test)\n",
    "\n",
    "# visualization\n",
    "plt.figure()\n",
    "plt.plot(y_test, y_pred, '.')\n",
    "plt.show()"
   ]
  },
  {
   "cell_type": "markdown",
   "id": "84d9b802",
   "metadata": {},
   "source": [
    "### Task 3. Gradient Boosting Regressor\n",
    "\n",
    "You need to build and evaluate a regression model using Gradient Boosting algorithm.\n",
    "\n",
    "<span style=\"color:red\">**[TBC]**</span> Please complete the following tasks:\n",
    "\n",
    "- Hyper-parameter-tuning through cross validation\n",
    "- Evaluate the performance on test dataset\n",
    "    - Calculate RMSE and R2 score\n",
    "    - Visualize the prediction results of the test dataset"
   ]
  },
  {
   "cell_type": "code",
   "execution_count": 39,
   "id": "a3a5e5a0",
   "metadata": {},
   "outputs": [
    {
     "name": "stdout",
     "output_type": "stream",
     "text": [
      "Best hyper-parameters: {'learning_rate': 0.1, 'max_depth': 10, 'n_estimators': 200, 'n_iter_no_change': None}\n",
      "Best score: -2315.898016396046\n",
      "RMSE test: 2201.593716672351\n",
      "R2 test: 0.9905966241093227\n"
     ]
    },
    {
     "data": {
      "image/png": "[encoded data removed]",
      "text/plain": [
       "<Figure size 640x480 with 1 Axes>"
      ]
     },
     "metadata": {},
     "output_type": "display_data"
    }
   ],
   "source": [
    "# [TBC] complete your code here with proper comments\n",
    "# Gradient Boosting Regressor\n",
    "\n",
    "# define the hyper-parameters to search\n",
    "param_dict = {\n",
    "    'learning_rate': [1e-2, 1e-1, 1.0],\n",
    "    'n_estimators': [10, 100, 200],\n",
    "    'max_depth': [1, 10, 50],\n",
    "    'n_iter_no_change': [None, 3, 5]\n",
    "}\n",
    "\n",
    "# hyper-parameter tuning through cross-validation\n",
    "grid_regr = GridSearchCV(\n",
    "    estimator = GradientBoostingRegressor(random_state = 0),\n",
    "    param_grid = param_dict,\n",
    "    scoring = 'neg_root_mean_squared_error',\n",
    "    refit = True,\n",
    "    cv = 3,\n",
    "    verbose = 0,\n",
    "    n_jobs = -1\n",
    ")\n",
    "grid_regr.fit(X_train, y_train)\n",
    "\n",
    "# obtain the best hyper-parameters and the best score\n",
    "print('Best hyper-parameters:', grid_regr.best_params_)\n",
    "print('Best score:', grid_regr.best_score_)\n",
    "\n",
    "# predict categories for test dataset\n",
    "y_pred = grid_regr.predict(X_test)\n",
    "\n",
    "# model performance on the testing dataset\n",
    "rmse_test = mean_squared_error(y_test, y_pred, squared = False)\n",
    "r2_test = r2_score(y_test, y_pred)\n",
    "\n",
    "# print RMSE and r2 score\n",
    "print(\"RMSE test:\", rmse_test)\n",
    "print(\"R2 test:\", r2_test)\n",
    "\n",
    "# visualization\n",
    "plt.figure()\n",
    "plt.plot(y_test, y_pred, '.')\n",
    "plt.show()"
   ]
  },
  {
   "cell_type": "markdown",
   "id": "3701dff7",
   "metadata": {},
   "source": [
    "### Task 4. Stacking Regressor\n",
    "\n",
    "You need to build and evaluate a regression model using Stacking algorithm.\n",
    "\n",
    "<span style=\"color:red\">**[TBC]**</span> Please complete the following tasks:\n",
    "\n",
    "- Train a stacking regressor on training dataset\n",
    "    - Select a list of base learner\n",
    "        - Choose proper regression algorithms\n",
    "        - If the algorithm needs specific pre-processing steps, embed the steps as a pipeline\n",
    "    - Select the meta-learner\n",
    "        - Choose proper regression algorithm\n",
    "- Evaluate the performance on test dataset\n",
    "    - Calculate RMSE and R2 score\n",
    "    - Visualize the prediction results of the test dataset"
   ]
  },
  {
   "cell_type": "code",
   "execution_count": 38,
   "id": "5f6c55d2",
   "metadata": {},
   "outputs": [
    {
     "name": "stderr",
     "output_type": "stream",
     "text": [
      "/Users/tzhang/.conda/envs/ml-course/lib/python3.11/site-packages/sklearn/svm/_base.py:297: ConvergenceWarning: Solver terminated early (max_iter=1000).  Consider pre-processing your data with StandardScaler or MinMaxScaler.\n",
      "  warnings.warn(\n",
      "[Parallel(n_jobs=-1)]: Using backend ThreadingBackend with 16 concurrent workers.\n",
      "[Parallel(n_jobs=-1)]: Using backend ThreadingBackend with 16 concurrent workers.\n",
      "[Parallel(n_jobs=-1)]: Using backend ThreadingBackend with 16 concurrent workers.\n",
      "[Parallel(n_jobs=-1)]: Done   2 out of   5 | elapsed:    0.1s remaining:    0.1s\n",
      "[Parallel(n_jobs=-1)]: Done   3 out of   5 | elapsed:    0.1s remaining:    0.0s\n",
      "[Parallel(n_jobs=-1)]: Done   5 out of   5 | elapsed:    0.1s remaining:    0.0s\n",
      "[Parallel(n_jobs=-1)]: Done   5 out of   5 | elapsed:    0.1s finished\n",
      "[Parallel(n_jobs=-1)]: Using backend ThreadingBackend with 16 concurrent workers.\n",
      "[Parallel(n_jobs=-1)]: Done   2 out of   5 | elapsed:    0.3s remaining:    0.4s\n",
      "[Parallel(n_jobs=-1)]: Done   3 out of   5 | elapsed:    0.3s remaining:    0.2s\n",
      "[Parallel(n_jobs=-1)]: Done   5 out of   5 | elapsed:    0.3s remaining:    0.0s\n",
      "[Parallel(n_jobs=-1)]: Done   5 out of   5 | elapsed:    0.3s finished\n",
      "[Parallel(n_jobs=-1)]: Done   2 out of   5 | elapsed:    1.3s remaining:    2.0s\n",
      "[Parallel(n_jobs=-1)]: Done   3 out of   5 | elapsed:    1.4s remaining:    0.9s\n",
      "[Parallel(n_jobs=-1)]: Done   5 out of   5 | elapsed:    1.4s remaining:    0.0s\n",
      "[Parallel(n_jobs=-1)]: Done   5 out of   5 | elapsed:    1.4s finished\n",
      "/Users/tzhang/.conda/envs/ml-course/lib/python3.11/site-packages/sklearn/svm/_base.py:297: ConvergenceWarning: Solver terminated early (max_iter=1000).  Consider pre-processing your data with StandardScaler or MinMaxScaler.\n",
      "  warnings.warn(\n",
      "/Users/tzhang/.conda/envs/ml-course/lib/python3.11/site-packages/sklearn/svm/_base.py:297: ConvergenceWarning: Solver terminated early (max_iter=1000).  Consider pre-processing your data with StandardScaler or MinMaxScaler.\n",
      "  warnings.warn(\n",
      "/Users/tzhang/.conda/envs/ml-course/lib/python3.11/site-packages/sklearn/svm/_base.py:297: ConvergenceWarning: Solver terminated early (max_iter=1000).  Consider pre-processing your data with StandardScaler or MinMaxScaler.\n",
      "  warnings.warn(\n",
      "/Users/tzhang/.conda/envs/ml-course/lib/python3.11/site-packages/sklearn/svm/_base.py:297: ConvergenceWarning: Solver terminated early (max_iter=1000).  Consider pre-processing your data with StandardScaler or MinMaxScaler.\n",
      "  warnings.warn(\n",
      "/Users/tzhang/.conda/envs/ml-course/lib/python3.11/site-packages/sklearn/svm/_base.py:297: ConvergenceWarning: Solver terminated early (max_iter=1000).  Consider pre-processing your data with StandardScaler or MinMaxScaler.\n",
      "  warnings.warn(\n",
      "[Parallel(n_jobs=-1)]: Done   2 out of   5 | elapsed:    6.4s remaining:    9.6s\n",
      "[Parallel(n_jobs=-1)]: Done   3 out of   5 | elapsed:    6.5s remaining:    4.3s\n",
      "[Parallel(n_jobs=-1)]: Done   5 out of   5 | elapsed:    6.5s remaining:    0.0s\n",
      "[Parallel(n_jobs=-1)]: Done   5 out of   5 | elapsed:    6.5s finished\n"
     ]
    },
    {
     "name": "stdout",
     "output_type": "stream",
     "text": [
      "RMSE test: 4786.976005095569\n",
      "R2 test: 0.955543840297895\n"
     ]
    },
    {
     "data": {
      "image/png": "[encoded data removed]",
      "text/plain": [
       "<Figure size 640x480 with 1 Axes>"
      ]
     },
     "metadata": {},
     "output_type": "display_data"
    }
   ],
   "source": [
    "# [TBC] complete your code here with proper comments\n",
    "# Stacking Regressor\n",
    "\n",
    "# declare a list of base estimators to be stacked together\n",
    "estimators = [\n",
    "    ('linear regression', LinearRegression()),\n",
    "    ('decision tree', DecisionTreeRegressor(\n",
    "        max_depth = 10,\n",
    "        random_state = 0\n",
    "    )),\n",
    "    ('KNN', Pipeline([\n",
    "        ('standard scaler', StandardScaler()),\n",
    "        ('knn', KNeighborsRegressor())\n",
    "    ])),\n",
    "    ('SVR', Pipeline([\n",
    "        ('standard scaler', StandardScaler()),\n",
    "        ('svr', SVR(max_iter = 1000))\n",
    "    ]))\n",
    "]\n",
    "\n",
    "# create the stacked regressor with RidgeCV as the final estimator\n",
    "regr = StackingRegressor(\n",
    "    estimators = estimators,\n",
    "    n_jobs = -1,\n",
    "    verbose = 10\n",
    ")\n",
    "\n",
    "# fit the model to the training dataset\n",
    "regr.fit(X_train, y_train)\n",
    "\n",
    "# predict categories for test dataset\n",
    "y_pred = regr.predict(X_test)\n",
    "\n",
    "# model performance on the testing dataset\n",
    "rmse_test = mean_squared_error(y_test, y_pred, squared = False)\n",
    "r2_test = r2_score(y_test, y_pred)\n",
    "\n",
    "# print RMSE and r2 score\n",
    "print(\"RMSE test:\", rmse_test)\n",
    "print(\"R2 test:\", r2_test)\n",
    "\n",
    "# visualization\n",
    "plt.figure()\n",
    "plt.plot(y_test, y_pred, '.')\n",
    "plt.show()"
   ]
  }
 ],
 "metadata": {
  "kernelspec": {
   "display_name": "Python 3 (ipykernel)",
   "language": "python",
   "name": "python3"
  },
  "language_info": {
   "codemirror_mode": {
    "name": "ipython",
    "version": 3
   },
   "file_extension": ".py",
   "mimetype": "text/x-python",
   "name": "python",
   "nbconvert_exporter": "python",
   "pygments_lexer": "ipython3",
   "version": "3.11.8"
  }
 },
 "nbformat": 4,
 "nbformat_minor": 5
}
