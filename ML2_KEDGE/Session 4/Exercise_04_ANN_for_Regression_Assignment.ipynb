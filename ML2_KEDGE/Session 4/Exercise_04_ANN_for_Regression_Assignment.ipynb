{
  "cells": [
    {
      "cell_type": "markdown",
      "id": "c3aac1f3-e0ab-4a46-9826-69ca6e338ecc",
      "metadata": {
        "id": "c3aac1f3-e0ab-4a46-9826-69ca6e338ecc"
      },
      "source": [
        "# Exercise 04 ANN for Regression - Assignment\n",
        "\n",
        "<span style=\"color:red\">**The submission deadline of this assignment is 09/04/2024 23:59. In addition to the executed Jupyter Notebook, please also submit the saved `.pth` file of the trained ANN on Learn.**</span>\n",
        "\n",
        "## Pedagogy\n",
        "\n",
        "This notebook contains both theoretical explanations and executable cells to execute your code.\n",
        "\n",
        "When you see the <span style=\"color:red\">**[TBC]**</span> (To Be Completed) sign, it means that you need to perform an action else besides executing the cells of code that already exist. These actions can be:\n",
        "- Complete the code with proper comments\n",
        "- Respond to a question\n",
        "- Write an analysis\n",
        "- etc.\n",
        "\n",
        "## Requirement\n",
        "\n",
        "In this assignment, you are required to build a regression model using ANN.\n",
        "\n",
        "The problem to be solved is predicting the price of houses in California.\n",
        "\n",
        "<span style=\"color:red\">**[TBC]**</span> Please complete the following tasks:\n",
        "- Build the data pipeline\n",
        "- Create a non-linear multi-layer ANN\n",
        "- Train the ANN\n",
        "- Save and load the trained model\n",
        "- Make predictions and evaluation"
      ]
    },
    {
      "cell_type": "markdown",
      "id": "0eb21d37-dff1-48e0-92c3-b58539252a7f",
      "metadata": {
        "id": "0eb21d37-dff1-48e0-92c3-b58539252a7f"
      },
      "source": [
        "### Import libraries"
      ]
    },
    {
      "cell_type": "code",
      "execution_count": 1,
      "id": "41ab7646-9697-4109-bb28-efdf1d59afe8",
      "metadata": {
        "id": "41ab7646-9697-4109-bb28-efdf1d59afe8"
      },
      "outputs": [],
      "source": [
        "# [TBC] complete your code here with proper comments\n",
        "# import the necessary libraries\n",
        "import warnings\n",
        "\n",
        "import torch\n",
        "import numpy as np\n",
        "import pandas as pd\n",
        "import matplotlib.pyplot as plt\n",
        "\n",
        "from sklearn import datasets\n",
        "from sklearn.metrics import mean_squared_error, r2_score\n",
        "from sklearn.preprocessing import MinMaxScaler\n",
        "from sklearn.model_selection import train_test_split\n",
        "\n",
        "from torch import nn\n",
        "from torch.utils.data import TensorDataset, DataLoader"
      ]
    },
    {
      "cell_type": "code",
      "execution_count": 2,
      "id": "40739356-dc0f-4edd-842a-8e63d1d03f36",
      "metadata": {
        "id": "40739356-dc0f-4edd-842a-8e63d1d03f36"
      },
      "outputs": [],
      "source": [
        "# [TBC] complete your code here with proper comments\n",
        "# suppress all warnings\n",
        "warnings.filterwarnings(\"ignore\")"
      ]
    },
    {
      "cell_type": "markdown",
      "id": "bd77e66d-e6b7-49bd-808a-711d10ee463d",
      "metadata": {
        "id": "bd77e66d-e6b7-49bd-808a-711d10ee463d"
      },
      "source": [
        "## Task 1. Build the data pipeline\n",
        "\n",
        "<span style=\"color:red\">**[TBC]**</span> You need to:\n",
        "- Use `sklearn.datasets.fetch_california_housing()` to load California Housing dataset\n",
        "- Pre-process the dataset\n",
        "    - Scale numerical features with [min-max scaling](https://scikit-learn.org/stable/modules/generated/sklearn.preprocessing.MinMaxScaler.html)\n",
        "- Divide the dataset into the training and test set\n",
        "- Create `TensorDataset` instances to store the dataset\n",
        "- Create `DataLoader` instance to wrap the dataset as iterable objects\n",
        "    - Decide a proper batch size considering\n",
        "        - The available memory of your computer\n",
        "        - The desired number of batches in each epoch"
      ]
    },
    {
      "cell_type": "code",
      "execution_count": 3,
      "id": "299f1dff-757c-47be-8928-95aa30eac0d6",
      "metadata": {
        "id": "299f1dff-757c-47be-8928-95aa30eac0d6"
      },
      "outputs": [],
      "source": [
        "# [TBC] complete your code here with proper comments\n",
        "from sklearn.datasets import fetch_california_housing\n",
        "# Load the dataset\n",
        "data = fetch_california_housing(as_frame=True)\n",
        "features = data.data\n",
        "labels = data.target\n"
      ]
    },
    {
      "cell_type": "code",
      "execution_count": 4,
      "id": "t4G0m76-8O8X",
      "metadata": {
        "id": "t4G0m76-8O8X"
      },
      "outputs": [],
      "source": [
        "# Scale the numerical features\n",
        "scaler = MinMaxScaler()\n",
        "features_scaled = scaler.fit_transform(features)\n",
        "\n"
      ]
    },
    {
      "cell_type": "code",
      "execution_count": 5,
      "id": "I0o-edOM8lm-",
      "metadata": {
        "id": "I0o-edOM8lm-"
      },
      "outputs": [],
      "source": [
        "# Train Test split\n",
        "train_features, test_features, train_labels, test_labels = train_test_split(\n",
        "    features_scaled, labels, train_size=0.7, random_state=42, shuffle=True)\n"
      ]
    },
    {
      "cell_type": "code",
      "execution_count": 6,
      "id": "MFbpeIuf80r5",
      "metadata": {
        "id": "MFbpeIuf80r5"
      },
      "outputs": [],
      "source": [
        "# Convert numpy arrays to torch tensors\n",
        "train_dataset = TensorDataset(torch.tensor(train_features, dtype=torch.float32),\n",
        "                              torch.tensor(train_labels.to_numpy(), dtype=torch.float32))\n",
        "test_dataset = TensorDataset(torch.tensor(test_features, dtype=torch.float32),\n",
        "                             torch.tensor(test_labels.to_numpy(), dtype=torch.float32))\n"
      ]
    },
    {
      "cell_type": "code",
      "execution_count": 7,
      "id": "jFnvmH7v9Cl5",
      "metadata": {
        "id": "jFnvmH7v9Cl5"
      },
      "outputs": [],
      "source": [
        "# Create DataLoader instances\n",
        "batch_size = 16\n",
        "train_loader = DataLoader(train_dataset, batch_size=batch_size, shuffle=True)\n",
        "test_loader = DataLoader(test_dataset, batch_size=batch_size, shuffle=False)\n",
        "\n"
      ]
    },
    {
      "cell_type": "code",
      "execution_count": 8,
      "id": "cYWxCVIjKF97",
      "metadata": {
        "colab": {
          "base_uri": "https://localhost:8080/"
        },
        "id": "cYWxCVIjKF97",
        "outputId": "e1a52d8d-8116-4545-fad2-a64194749e43"
      },
      "outputs": [
        {
          "name": "stdout",
          "output_type": "stream",
          "text": [
            "Features batch shape: torch.Size([16, 8])\n",
            "Labels batch shape: torch.Size([16])\n"
          ]
        }
      ],
      "source": [
        "# Example: Iterate over the train_loader and print the shapes of features and labels\n",
        "for X, y in train_loader:\n",
        "    print(\"Features batch shape:\", X.shape)\n",
        "    print(\"Labels batch shape:\", y.shape)\n",
        "    break"
      ]
    },
    {
      "cell_type": "markdown",
      "id": "29d54728-ac94-49f3-a93f-6df997efb9af",
      "metadata": {
        "id": "29d54728-ac94-49f3-a93f-6df997efb9af"
      },
      "source": [
        "## Task 2. Create a non-linear multi-layer ANN\n",
        "\n",
        "<span style=\"color:red\">**[TBC]**</span> You need to:\n",
        "- Create a custom class to define the structure of the network\n",
        "- Create an instance of this class as the ANN"
      ]
    },
    {
      "cell_type": "code",
      "execution_count": 9,
      "id": "b4e21472-93c4-4b52-abbb-31f6f584e592",
      "metadata": {
        "id": "b4e21472-93c4-4b52-abbb-31f6f584e592"
      },
      "outputs": [],
      "source": [
        "# [TBC] complete your code here with proper comments\n",
        "# define a custom neural network class\n",
        "class HousePricePredictor(nn.Module):\n",
        "    def __init__(self):\n",
        "        super(HousePricePredictor, self).__init__()\n",
        "        self.fc1 = nn.Linear(8, 128)\n",
        "        self.fc2 = nn.Linear(128, 64)\n",
        "        self.fc3 = nn.Linear(64, 32)\n",
        "        self.fc4 = nn.Linear(32, 1)\n",
        "\n",
        "    def forward(self, x):\n",
        "        # Forward pass through the network\n",
        "        x = F.relu(self.fc1(x))  # Activation function ReLU for non-linearity\n",
        "        x = F.relu(self.fc2(x))\n",
        "        x = F.relu(self.fc3(x))\n",
        "        x = self.fc4(x)  # No activation function here as we need a linear output for regression\n",
        "        return x"
      ]
    },
    {
      "cell_type": "code",
      "execution_count": 10,
      "id": "k4gjj7Fi-SW_",
      "metadata": {
        "colab": {
          "base_uri": "https://localhost:8080/"
        },
        "id": "k4gjj7Fi-SW_",
        "outputId": "a0331e82-90f9-419d-a104-547f5e3b9e1b"
      },
      "outputs": [
        {
          "name": "stdout",
          "output_type": "stream",
          "text": [
            "HousePricePredictor(\n",
            "  (fc1): Linear(in_features=8, out_features=128, bias=True)\n",
            "  (fc2): Linear(in_features=128, out_features=64, bias=True)\n",
            "  (fc3): Linear(in_features=64, out_features=32, bias=True)\n",
            "  (fc4): Linear(in_features=32, out_features=1, bias=True)\n",
            ")\n"
          ]
        }
      ],
      "source": [
        "# Create the model instance\n",
        "model = HousePricePredictor()\n",
        "\n",
        "# Check if a GPU is available and move the model to GPU if possible\n",
        "device = torch.device(\"cuda\" if torch.cuda.is_available() else \"cpu\")\n",
        "model.to(device)\n",
        "\n",
        "print(model)"
      ]
    },
    {
      "cell_type": "markdown",
      "id": "3099e79b-bfeb-4053-b12e-39973d3c483d",
      "metadata": {
        "id": "3099e79b-bfeb-4053-b12e-39973d3c483d"
      },
      "source": [
        "## Task 3. Train the ANN\n",
        "\n",
        "<span style=\"color:red\">**[TBC]**</span> You need to:\n",
        "- Define a `train()` function\n",
        "- Specify traing hyper-parameters:\n",
        "    - the loss function\n",
        "    - the optimizer\n",
        "    - the learning rate\n",
        "    - the number of epoches to train\n",
        "- Train the ANN\n",
        "    - Adjust the training hyper-parameters if necessary to get a good result\n",
        "- Plot the loss history of the training process"
      ]
    },
    {
      "cell_type": "code",
      "execution_count": 11,
      "id": "53de4eb6-cfca-4da0-a68d-51dd991d63bd",
      "metadata": {
        "id": "53de4eb6-cfca-4da0-a68d-51dd991d63bd"
      },
      "outputs": [],
      "source": [
        "# [TBC] complete your code here with proper comments\n",
        "# Define the training function\n",
        "def train(dataloader, model, loss_fn, optimizer, epochs):\n",
        "    batch_loss_history = []  # for recording the average loss of a batch\n",
        "    epoch_loss_history = []  # for recording the average loss of an epoch\n",
        "    model.train()  # set the model in training mode\n",
        "\n",
        "    for epoch in range(epochs):  # iterate pre-defined number of epochs\n",
        "        epoch_loss = 0.0  # initial epoch loss is set to zero\n",
        "\n",
        "        for X, y in dataloader:  # get a batch of training samples\n",
        "            X, y = X.to(device), y.to(device)\n",
        "            pred = model(X).squeeze()  # make predictions, squeeze() reduce `pred` to 1D tensor\n",
        "            batch_loss = loss_fn(pred, y)  # compute the current batch loss\n",
        "\n",
        "            optimizer.zero_grad()  # reset the gradients to zero\n",
        "            batch_loss.backward()  # compute gradients by backpropagation\n",
        "            optimizer.step()  # update learning parameters according to gradients\n",
        "\n",
        "            batch_loss_history.append(batch_loss.item())  # record current batch loss\n",
        "            epoch_loss += batch_loss.item() * X.size(0)  # accumulate batch losses for compute epoch loss\n",
        "\n",
        "        epoch_loss /= len(dataloader.dataset)  # compute current epoch loss\n",
        "        epoch_loss_history.append(epoch_loss)  # record current epoch loss\n",
        "        print(f\"Epoch {epoch + 1}: train loss = {epoch_loss:.4f}\")  # print log\n",
        "\n",
        "    return batch_loss_history, epoch_loss_history"
      ]
    },
    {
      "cell_type": "code",
      "execution_count": 13,
      "id": "6BOh_ZZ5_zfz",
      "metadata": {
        "colab": {
          "base_uri": "https://localhost:8080/"
        },
        "id": "6BOh_ZZ5_zfz",
        "outputId": "d4076ba9-591d-4e92-c1f4-fd7fa3c4c1f1"
      },
      "outputs": [
        {
          "name": "stdout",
          "output_type": "stream",
          "text": [
            "Epoch 1: train loss = 0.3278\n",
            "Epoch 2: train loss = 0.3267\n",
            "Epoch 3: train loss = 0.3235\n",
            "Epoch 4: train loss = 0.3236\n",
            "Epoch 5: train loss = 0.3267\n",
            "Epoch 6: train loss = 0.3241\n",
            "Epoch 7: train loss = 0.3250\n",
            "Epoch 8: train loss = 0.3250\n",
            "Epoch 9: train loss = 0.3224\n",
            "Epoch 10: train loss = 0.3269\n",
            "Epoch 11: train loss = 0.3238\n",
            "Epoch 12: train loss = 0.3235\n",
            "Epoch 13: train loss = 0.3238\n",
            "Epoch 14: train loss = 0.3215\n",
            "Epoch 15: train loss = 0.3215\n",
            "Epoch 16: train loss = 0.3216\n",
            "Epoch 17: train loss = 0.3202\n",
            "Epoch 18: train loss = 0.3230\n",
            "Epoch 19: train loss = 0.3209\n",
            "Epoch 20: train loss = 0.3215\n",
            "Epoch 21: train loss = 0.3179\n",
            "Epoch 22: train loss = 0.3189\n",
            "Epoch 23: train loss = 0.3164\n",
            "Epoch 24: train loss = 0.3202\n",
            "Epoch 25: train loss = 0.3216\n",
            "Epoch 26: train loss = 0.3173\n",
            "Epoch 27: train loss = 0.3179\n",
            "Epoch 28: train loss = 0.3184\n",
            "Epoch 29: train loss = 0.3185\n",
            "Epoch 30: train loss = 0.3192\n",
            "Epoch 31: train loss = 0.3174\n",
            "Epoch 32: train loss = 0.3174\n",
            "Epoch 33: train loss = 0.3167\n",
            "Epoch 34: train loss = 0.3172\n",
            "Epoch 35: train loss = 0.3186\n",
            "Epoch 36: train loss = 0.3148\n",
            "Epoch 37: train loss = 0.3146\n",
            "Epoch 38: train loss = 0.3155\n",
            "Epoch 39: train loss = 0.3190\n",
            "Epoch 40: train loss = 0.3117\n",
            "Epoch 41: train loss = 0.3126\n",
            "Epoch 42: train loss = 0.3193\n",
            "Epoch 43: train loss = 0.3147\n",
            "Epoch 44: train loss = 0.3122\n",
            "Epoch 45: train loss = 0.3168\n",
            "Epoch 46: train loss = 0.3162\n",
            "Epoch 47: train loss = 0.3144\n",
            "Epoch 48: train loss = 0.3123\n",
            "Epoch 49: train loss = 0.3125\n",
            "Epoch 50: train loss = 0.3111\n",
            "Epoch 51: train loss = 0.3131\n"
          ]
        }
      ],
      "source": [
        "import torch.nn.functional as F\n",
        "\n",
        "# Define the loss function and optimizer\n",
        "loss_fn = nn.MSELoss()\n",
        "learning_rate = 0.01\n",
        "optimizer = torch.optim.SGD(model.parameters(), lr=learning_rate)\n",
        "epochs = 100\n",
        "\n",
        "# Check device and move model to device\n",
        "device = torch.device(\"cuda\" if torch.cuda.is_available() else \"cpu\")\n",
        "model.to(device)\n",
        "\n",
        "# Train the neural network\n",
        "batch_loss_history, epoch_loss_history = train(train_loader, model, loss_fn, optimizer, epochs)\n"
      ]
    },
    {
      "cell_type": "code",
      "execution_count": null,
      "id": "r5_bXkdv_8w1",
      "metadata": {
        "colab": {
          "base_uri": "https://localhost:8080/",
          "height": 487
        },
        "id": "r5_bXkdv_8w1",
        "outputId": "920a0f72-d940-4da8-b957-c1c5690a0173"
      },
      "outputs": [
        {
          "data": {
            "image/png": "[encoded data removed]",
            "text/plain": [
              "<Figure size 1000x500 with 1 Axes>"
            ]
          },
          "metadata": {},
          "output_type": "display_data"
        }
      ],
      "source": [
        "# Plot the training loss history\n",
        "plt.figure(figsize=(10, 5))\n",
        "batch = np.arange(len(batch_loss_history))\n",
        "epoch = np.arange(len(epoch_loss_history))\n",
        "batches_per_epoch = len(train_loader)\n",
        "plt.plot(batch, batch_loss_history, '-', label='Batch loss')\n",
        "plt.plot(epoch * batches_per_epoch, epoch_loss_history, 'r-', label='Epoch loss')\n",
        "plt.title('Train Loss History')\n",
        "plt.xlabel('Batch')\n",
        "plt.ylabel('Train Loss')\n",
        "plt.legend()\n",
        "plt.grid(True)\n",
        "plt.show()\n"
      ]
    },
    {
      "cell_type": "markdown",
      "id": "d71b1b2f-a2df-49ea-a44b-792b31a4642b",
      "metadata": {
        "id": "d71b1b2f-a2df-49ea-a44b-792b31a4642b"
      },
      "source": [
        "## Task 4. Save and load the trained model\n",
        "\n",
        "<span style=\"color:red\">**[TBC]**</span> You need to:\n",
        "- Save the trained model\n",
        "    - <span style=\"color:red\">**Don't forget to include the saved file in your submission.**</span>\n",
        "- Re-create the neural network and load the saved model"
      ]
    },
    {
      "cell_type": "code",
      "execution_count": null,
      "id": "d59b07da-22b6-4cdb-9278-6a1fbe20544f",
      "metadata": {
        "colab": {
          "base_uri": "https://localhost:8080/"
        },
        "id": "d59b07da-22b6-4cdb-9278-6a1fbe20544f",
        "outputId": "028570c3-071e-48c0-85ef-d8561f53ee34"
      },
      "outputs": [
        {
          "name": "stdout",
          "output_type": "stream",
          "text": [
            "Saved PyTorch Model State to house_price_predictor.pth\n"
          ]
        }
      ],
      "source": [
        "# [TBC] complete your code here with proper comments\n",
        "# Save model state dictionary\n",
        "file_name = 'house_price_predictor.pth'\n",
        "torch.save(model.state_dict(), file_name)\n",
        "print('Saved PyTorch Model State to ' + file_name)\n"
      ]
    },
    {
      "cell_type": "code",
      "execution_count": null,
      "id": "FRfcHFb7H6ZB",
      "metadata": {
        "colab": {
          "base_uri": "https://localhost:8080/"
        },
        "id": "FRfcHFb7H6ZB",
        "outputId": "b165f92f-550b-4cbb-f24d-40c98acc74a8"
      },
      "outputs": [
        {
          "data": {
            "text/plain": [
              "HousePricePredictor(\n",
              "  (fc1): Linear(in_features=8, out_features=128, bias=True)\n",
              "  (fc2): Linear(in_features=128, out_features=64, bias=True)\n",
              "  (fc3): Linear(in_features=64, out_features=32, bias=True)\n",
              "  (fc4): Linear(in_features=32, out_features=1, bias=True)\n",
              ")"
            ]
          },
          "execution_count": 22,
          "metadata": {},
          "output_type": "execute_result"
        }
      ],
      "source": [
        "# Re-create the neural network\n",
        "model = HousePricePredictor()  # Assuming HousePricePredictor is the class of your model\n",
        "\n",
        "# Load the saved state dict\n",
        "model.load_state_dict(torch.load('house_price_predictor.pth'))\n",
        "\n",
        "# If you need to use the model for inference on CPU\n",
        "model.to('cpu')\n",
        "model.eval()  # Set the model to evaluation mode\n"
      ]
    },
    {
      "cell_type": "markdown",
      "id": "91827ed2-5354-46a5-b4e4-e50914a0dbf6",
      "metadata": {
        "id": "91827ed2-5354-46a5-b4e4-e50914a0dbf6"
      },
      "source": [
        "## Task 5. Make predictions and evaluation\n",
        "\n",
        "<span style=\"color:red\">**[TBC]**</span> You need to:\n",
        "- Define the `test()` function\n",
        "- Make predictions on the test dataset\n",
        "- Evaluate the performance\n",
        "    - Compute RMSE and print it\n",
        "    - Compute &R^2& score and print it\n",
        "- Plot the predictions vs. target values"
      ]
    },
    {
      "cell_type": "code",
      "execution_count": null,
      "id": "64485944-63a6-4414-aaf0-35428ef42d6f",
      "metadata": {
        "id": "64485944-63a6-4414-aaf0-35428ef42d6f"
      },
      "outputs": [],
      "source": [
        "# [TBC] complete your code here with proper comments\n",
        "import torch\n",
        "import numpy as np\n",
        "import matplotlib.pyplot as plt\n",
        "from sklearn.metrics import mean_squared_error, r2_score\n",
        "\n",
        "def test(model, test_loader, device):\n",
        "    model.eval()  # Set the model to evaluation mode\n",
        "    predictions = []\n",
        "    actuals = []\n",
        "\n",
        "    with torch.no_grad():  # No need to track gradients for testing\n",
        "        for X, y in test_loader:\n",
        "            X, y = X.to(device), y.to(device)\n",
        "            output = model(X)\n",
        "            predictions.extend(output.view(-1).tolist())\n",
        "            actuals.extend(y.view(-1).tolist())\n",
        "\n",
        "    # Compute RMSE\n",
        "    predictions = np.array(predictions)\n",
        "    actuals = np.array(actuals)\n",
        "    rmse = np.sqrt(mean_squared_error(actuals, predictions))\n",
        "    r2 = r2_score(actuals, predictions)\n",
        "\n",
        "    print(f'RMSE: {rmse:.4f}')\n",
        "    print(f'R^2 Score: {r2:.4f}')\n",
        "\n",
        "    # Plotting predictions vs actuals\n",
        "    plt.figure(figsize=(10, 5))\n",
        "    plt.scatter(actuals, predictions, alpha=0.5)\n",
        "    plt.title('Predictions vs. Actuals')\n",
        "    plt.xlabel('Actual Prices')\n",
        "    plt.ylabel('Predicted Prices')\n",
        "    plt.plot([actuals.min(), actuals.max()], [actuals.min(), actuals.max()], 'k--', lw=4)  # Diagonal line\n",
        "    plt.show()\n",
        "\n",
        "    return rmse, r2\n"
      ]
    },
    {
      "cell_type": "code",
      "execution_count": null,
      "id": "rRLoDNlUNMiS",
      "metadata": {
        "colab": {
          "base_uri": "https://localhost:8080/",
          "height": 521
        },
        "id": "rRLoDNlUNMiS",
        "outputId": "15fe53b3-3ba4-40fa-fede-01201e56acc2"
      },
      "outputs": [
        {
          "name": "stdout",
          "output_type": "stream",
          "text": [
            "RMSE: 1.1027\n",
            "R^2 Score: 0.0735\n"
          ]
        },
        {
          "data": {
            "image/png": "[encoded data removed]",
            "text/plain": [
              "<Figure size 1000x500 with 1 Axes>"
            ]
          },
          "metadata": {},
          "output_type": "display_data"
        }
      ],
      "source": [
        "# Assuming 'device' is defined (either 'cuda' or 'cpu')\n",
        "device = torch.device(\"cuda\" if torch.cuda.is_available() else \"cpu\")\n",
        "\n",
        "# Call the test function\n",
        "rmse, r2 = test(model, test_loader, device)\n"
      ]
    },
    {
      "cell_type": "code",
      "execution_count": null,
      "id": "gxcYSIXBMo8a",
      "metadata": {
        "colab": {
          "base_uri": "https://localhost:8080/",
          "height": 105
        },
        "id": "gxcYSIXBMo8a",
        "outputId": "2b886a2a-e4e8-43ea-dcc7-a3fdfcea015d"
      },
      "outputs": [
        {
          "ename": "SyntaxError",
          "evalue": "invalid syntax (<ipython-input-24-d0071abd8bdc>, line 2)",
          "output_type": "error",
          "traceback": [
            "\u001b[0;36m  File \u001b[0;32m\"<ipython-input-24-d0071abd8bdc>\"\u001b[0;36m, line \u001b[0;32m2\u001b[0m\n\u001b[0;31m    test_dl = DataLoader(test_dataset, batch_size=64, shuffle=False)  d\u001b[0m\n\u001b[0m                                                                      ^\u001b[0m\n\u001b[0;31mSyntaxError\u001b[0m\u001b[0;31m:\u001b[0m invalid syntax\n"
          ]
        }
      ],
      "source": [
        "loss_fn = torch.nn.MSELoss()  # Define the loss function as MSE\n",
        "test_dl = DataLoader(test_dataset, batch_size=64, shuffle=False)  d\n"
      ]
    },
    {
      "cell_type": "code",
      "execution_count": null,
      "id": "IDsXqt7sMx83",
      "metadata": {
        "id": "IDsXqt7sMx83"
      },
      "outputs": [],
      "source": [
        "test_pred, test_loss = test(test_dl, model, loss_fn)\n",
        "\n",
        "# Assuming `test_label` is a numpy array or can be extracted from the test dataset\n",
        "# You might need to collect these from the test DataLoader if not readily available\n",
        "test_labels = [y for _, y in test_dl]  # Example to extract test labels if not directly available\n",
        "test_labels = np.concatenate(test_labels)\n",
        "\n",
        "# Plot the prediction results of the test dataset\n",
        "plt.figure(figsize=(8, 6))\n",
        "plt.scatter(test_labels, test_pred, alpha=0.5)\n",
        "plt.plot([test_labels.min(), test_labels.max()], [test_labels.min(), test_labels.max()], 'r--')\n",
        "plt.xlabel('Target Value')\n",
        "plt.ylabel('Predicted Value')\n",
        "plt.title('Test Predictions vs. Actual Values')\n",
        "plt.grid(True)\n",
        "plt.show()\n"
      ]
    }
  ],
  "metadata": {
    "colab": {
      "provenance": []
    },
    "kernelspec": {
      "display_name": "Python 3 (ipykernel)",
      "language": "python",
      "name": "python3"
    },
    "language_info": {
      "codemirror_mode": {
        "name": "ipython",
        "version": 3
      },
      "file_extension": ".py",
      "mimetype": "text/x-python",
      "name": "python",
      "nbconvert_exporter": "python",
      "pygments_lexer": "ipython3",
      "version": "3.9.6"
    }
  },
  "nbformat": 4,
  "nbformat_minor": 5
}
