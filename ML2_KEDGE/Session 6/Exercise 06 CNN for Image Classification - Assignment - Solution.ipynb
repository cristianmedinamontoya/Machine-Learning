{
 "cells": [
  {
   "cell_type": "markdown",
   "id": "ab0a4a0f-a930-4933-b183-2ab1a7af475a",
   "metadata": {},
   "source": [
    "# Exercise 06 CNN for Image Classification - Assignment - Solution\n",
    "\n",
    "<span style=\"color:red\">**The submission deadline of this assignment is 15/04/2024 23:59. In addition to the executed Jupyter Notebook, please also submit the saved `.pth` file of the trained CNN on Learn.**</span>\n",
    "\n",
    "## Pedagogy\n",
    "\n",
    "This notebook contains both theoretical explanations and executable cells to execute your code.\n",
    "\n",
    "When you see the <span style=\"color:red\">**[TBC]**</span> (To Be Completed) sign, it means that you need to perform an action else besides executing the cells of code that already exist. These actions can be:\n",
    "- Complete the code with proper comments\n",
    "- Respond to a question\n",
    "- Write an analysis\n",
    "- etc.\n",
    "\n",
    "## Requirement\n",
    "\n",
    "In this assignment, you are required to build a multi-class image classification model using CNN.\n",
    "\n",
    "The problem to be solved is to classify RGB images into one of the 10 pre-defined classes:\n",
    "\n",
    "![](https://production-media.paperswithcode.com/datasets/4fdf2b82-2bc3-4f97-ba51-400322b228b1.png)\n",
    "\n",
    "<span style=\"color:red\">**[TBC]**</span> Please complete the following tasks:\n",
    "- Build the data pipeline\n",
    "- Create a CNN-based image classifier\n",
    "- Train the network, save and reload the best one\n",
    "- Test and evaluation"
   ]
  },
  {
   "cell_type": "markdown",
   "id": "e160814a-c20e-4985-a43d-9d590aaf7b76",
   "metadata": {},
   "source": [
    "### Import libraries"
   ]
  },
  {
   "cell_type": "code",
   "execution_count": 1,
   "id": "a7256ea5-29a5-47d5-a5d9-499751e7eebb",
   "metadata": {},
   "outputs": [],
   "source": [
    "# [TBC] complete your code here with proper comments\n",
    "# import libraries\n",
    "import os\n",
    "import datetime\n",
    "import warnings\n",
    "\n",
    "import torch\n",
    "import numpy as np\n",
    "import matplotlib.pyplot as plt\n",
    "\n",
    "from sklearn.metrics import classification_report\n",
    "\n",
    "from torch import nn\n",
    "from torchvision import datasets, transforms\n",
    "from torch.utils.data import TensorDataset, DataLoader, random_split"
   ]
  },
  {
   "cell_type": "code",
   "execution_count": 2,
   "id": "3c594d9e-c289-4532-9448-0b695f4c7f08",
   "metadata": {},
   "outputs": [],
   "source": [
    "# [TBC] complete your code here with proper comments\n",
    "# suppress all warnings\n",
    "warnings.filterwarnings(\"ignore\")"
   ]
  },
  {
   "cell_type": "markdown",
   "id": "8b8ef19f-67f0-430e-b661-ddf8287edd4c",
   "metadata": {},
   "source": [
    "## Task 1. Build the data pipeline\n",
    "\n",
    "You are required to use the PyTorch built-in CIFAR10 dataset, consists of 60,000 $32\\times32$ RGB images in 10 classes, with 6,000 images per class. You can find more information about this dataset from the [PyTorch documentation](https://www.tensorflow.org/datasets/catalog/cifar10) and the [original source](https://www.cs.toronto.edu/~kriz/cifar.html).\n",
    "\n",
    "<span style=\"color:red\">**[TBC]**</span> You need to:\n",
    "- Use `torchvision.datasets.CIFAR10()` to load the CIFAR10 dataset\n",
    "- Divide the dataset into the training, valiation, and test set\n",
    "- Create `DataLoader` instance to wrap the dataset as iterable objects\n",
    "    - Decide a proper batch size considering\n",
    "        - The available memory of your computer\n",
    "        - The desired number of batches in each epoch"
   ]
  },
  {
   "cell_type": "code",
   "execution_count": 3,
   "id": "6862c5b0-22ce-4836-90bc-dbb071868422",
   "metadata": {},
   "outputs": [
    {
     "name": "stdout",
     "output_type": "stream",
     "text": [
      "Files already downloaded and verified\n",
      "Files already downloaded and verified\n"
     ]
    }
   ],
   "source": [
    "# [TBC] complete your code here with proper comments\n",
    "# load CIFAR-10 dataset\n",
    "train_val_ds = datasets.CIFAR10(\n",
    "    root = 'data',\n",
    "    train = True,\n",
    "    download = True,\n",
    "    transform = transforms.ToTensor()\n",
    ")\n",
    "test_ds = datasets.CIFAR10(\n",
    "    root = 'data',\n",
    "    train = False,\n",
    "    download = True,\n",
    "    transform = transforms.ToTensor()\n",
    ")\n",
    "train_ds, val_ds = random_split(\n",
    "    train_val_ds,\n",
    "    [0.8, 0.2]\n",
    ")"
   ]
  },
  {
   "cell_type": "code",
   "execution_count": 4,
   "id": "8f63ef30-bcc4-4936-9281-ce4bc19ff722",
   "metadata": {},
   "outputs": [],
   "source": [
    "# [TBC] complete your code here with proper comments\n",
    "# create the train and test data loaders\n",
    "batch_size = 8192 # usually set to 2 to the nth power\n",
    "train_dl = DataLoader(train_ds, batch_size = batch_size, shuffle = True)\n",
    "val_dl = DataLoader(val_ds, batch_size = batch_size, shuffle = False)\n",
    "test_dl = DataLoader(test_ds, batch_size = batch_size, shuffle = False)"
   ]
  },
  {
   "cell_type": "code",
   "execution_count": 16,
   "id": "3e804ac0-7801-465b-b76b-e655dac30938",
   "metadata": {},
   "outputs": [
    {
     "name": "stdout",
     "output_type": "stream",
     "text": [
      "The label of this image is: dog\n"
     ]
    },
    {
     "data": {
      "image/png": "[encoded data removed]",
      "text/plain": [
       "<Figure size 640x480 with 1 Axes>"
      ]
     },
     "metadata": {},
     "output_type": "display_data"
    }
   ],
   "source": [
    "# [TBC] complete your code here with proper comments\n",
    "# display an example\n",
    "classes = ('plane', 'car', 'bird', 'cat',\n",
    "           'deer', 'dog', 'frog', 'horse', 'ship', 'truck')\n",
    "plt.imshow(train_ds[0][0].numpy().transpose(1, 2, 0))\n",
    "print('The label of this image is:', classes[train_ds[0][1]])"
   ]
  },
  {
   "cell_type": "markdown",
   "id": "6ba6abf0-8b81-4b16-86c2-0d0f47e3c877",
   "metadata": {},
   "source": [
    "## Task 2. Create a CNN-based image classifier\n",
    "\n",
    "<span style=\"color:red\">**[TBC]**</span> You need to:\n",
    "- Define a custom class to specify the structure of the network\n",
    "    - You are required to use at least one convolutional layer in the network\n",
    "- Specify the device used for computation\n",
    "- Create an instance of the network and move it to the corresponding device"
   ]
  },
  {
   "cell_type": "code",
   "execution_count": 6,
   "id": "6051ada2-ebd5-4d7f-903a-fbd944590032",
   "metadata": {},
   "outputs": [],
   "source": [
    "# [TBC] complete your code here with proper comments\n",
    "# define a custom neural network class\n",
    "class ImageClassifier(nn.Module):\n",
    "    def __init__(self, in_channels, n_labels):\n",
    "        super().__init__()\n",
    "        self.net = nn.Sequential(\n",
    "            nn.LazyConv2d(out_channels = 3, kernel_size = 3, stride = 1, padding = 1),\n",
    "            nn.LazyBatchNorm2d(), nn.ReLU(), nn.MaxPool2d(kernel_size = 2),\n",
    "            nn.LazyConv2d(out_channels = 9, kernel_size = 3, stride = 1, padding = 1),\n",
    "            nn.LazyBatchNorm2d(), nn.ReLU(), nn.MaxPool2d(kernel_size = 2),\n",
    "            nn.LazyConv2d(out_channels = 27, kernel_size = 3, stride = 1, padding = 1),\n",
    "            nn.LazyBatchNorm2d(), nn.ReLU(), nn.MaxPool2d(kernel_size = 2),\n",
    "            nn.Flatten(),\n",
    "            nn.LazyLinear(1000), nn.LazyBatchNorm1d(), nn.ReLU(), nn.Dropout(p = 0.5),\n",
    "            nn.LazyLinear(100), nn.LazyBatchNorm1d(), nn.ReLU(), nn.Dropout(p = 0.5),\n",
    "            nn.LazyLinear(10)\n",
    "        )\n",
    "\n",
    "    def forward(self, x):\n",
    "        return self.net(x)"
   ]
  },
  {
   "cell_type": "code",
   "execution_count": 7,
   "id": "865f1a1b-0159-4d0f-b596-0f4b76a2efe6",
   "metadata": {},
   "outputs": [
    {
     "name": "stdout",
     "output_type": "stream",
     "text": [
      "Using mps device\n"
     ]
    }
   ],
   "source": [
    "# [TBC] complete your code here with proper comments\n",
    "# get cpu, gpu or mps device for training.\n",
    "device = (\n",
    "    \"cuda\"\n",
    "    if torch.cuda.is_available()\n",
    "    else \"mps\"\n",
    "    if torch.backends.mps.is_available()\n",
    "    else \"cpu\"\n",
    ")\n",
    "print(f\"Using {device} device\")"
   ]
  },
  {
   "cell_type": "code",
   "execution_count": 8,
   "id": "37e61e66-be32-4ab3-b124-87a3b562bbef",
   "metadata": {},
   "outputs": [],
   "source": [
    "# [TBC] complete your code here with proper comments\n",
    "# create the neural network\n",
    "cifar_10_model = ImageClassifier(\n",
    "    in_channels = train_ds[0][0].shape[0],\n",
    "    n_labels = 10\n",
    ").to(device)"
   ]
  },
  {
   "cell_type": "markdown",
   "id": "e4136c1a-862a-4983-a864-36cd00cf2cd9",
   "metadata": {},
   "source": [
    "## Task 3. Train the network, save and reload the best one\n",
    "\n",
    "<span style=\"color:red\">**[TBC]**</span> You need to:\n",
    "- Define a `train()` function\n",
    "    - Embed automatic model saving in the training process\n",
    "    - <span style=\"color:red\">**Don't forget to include the saved file in your submission.**</span>\n",
    "- Train the network\n",
    "    - Adjust the training hyper-parameters if necessary to get a good result\n",
    "- Reload the best model after training\n",
    "- Plot the loss history of the training process"
   ]
  },
  {
   "cell_type": "code",
   "execution_count": 9,
   "id": "88f8917d-b918-411f-918d-3e8f026250ee",
   "metadata": {},
   "outputs": [],
   "source": [
    "# [TBC] complete your code here with proper comments\n",
    "# define the training function\n",
    "def train(train_dl, val_dl, model, loss_fn, optimizer, epochs, early_stopping_patience, lr_scheduler):\n",
    "    # initialization\n",
    "    min_val_loss, patience_counter = np.inf, 0\n",
    "    saved_path, start_time = '', datetime.datetime.now()\n",
    "    histories = {'train_batch': [], 'train_epoch': [], 'val_batch': [], 'val_epoch': []}\n",
    "\n",
    "    for epoch in range(epochs):\n",
    "        # train\n",
    "        model.train()\n",
    "        train_epoch_loss = 0.0\n",
    "        for X, y in train_dl:\n",
    "            X, y = X.to(device), y.to(device)\n",
    "            optimizer.zero_grad()\n",
    "            train_batch_loss = loss_fn(model(X), y)\n",
    "            train_batch_loss.backward()\n",
    "            optimizer.step()\n",
    "            train_epoch_loss += train_batch_loss.item()\n",
    "            histories['train_batch'].append(train_batch_loss.item())\n",
    "        train_epoch_loss /= len(train_dl)\n",
    "        histories['train_epoch'].append(train_epoch_loss)\n",
    "\n",
    "        # validation\n",
    "        model.eval()\n",
    "        val_epoch_loss = 0.0\n",
    "        with torch.no_grad():\n",
    "            for X, y in val_dl:\n",
    "                X, y = X.to(device), y.to(device)\n",
    "                val_batch_loss = loss_fn(model(X), y)\n",
    "                val_epoch_loss += val_batch_loss.item()\n",
    "                histories['val_batch'].append(val_batch_loss.item())\n",
    "            val_epoch_loss /= len(val_dl)\n",
    "            histories['val_epoch'].append(val_epoch_loss)\n",
    "\n",
    "        # print log\n",
    "        end_time = datetime.datetime.now()\n",
    "        time_consumed = str(end_time - start_time).split('.')[0]\n",
    "        print(f\"Epoch {epoch + 1}: train loss = {train_epoch_loss:>5f}, val loss = {val_epoch_loss:>5f}, time consumed = {time_consumed}\")\n",
    "\n",
    "        # learning rate decay\n",
    "        current_lr = optimizer.param_groups[0]['lr']\n",
    "        lr_scheduler.step(val_epoch_loss)\n",
    "        if current_lr != optimizer.param_groups[0]['lr']:\n",
    "            print(f'Learning rate reduced after epoch {epoch+1}')\n",
    "\n",
    "        # early stopping\n",
    "        if val_epoch_loss < min_val_loss:\n",
    "            min_val_loss, patience_counter = val_epoch_loss, 0\n",
    "            if os.path.exists(saved_path):\n",
    "                os.remove(saved_path)\n",
    "            time_str = end_time.strftime(\"%Y-%m-%d_%H-%M-%S\")\n",
    "            saved_path = f'epoch_{epoch+1}_val_loss_{val_epoch_loss:>4f}_{time_str}.pth'\n",
    "            torch.save(model.state_dict(), saved_path)\n",
    "            print(f'Model saved after epoch {epoch+1}')\n",
    "        else:\n",
    "            patience_counter += 1\n",
    "            if patience_counter >= early_stopping_patience:\n",
    "                print('Early stopping!')\n",
    "                break\n",
    "                \n",
    "    return histories, saved_path"
   ]
  },
  {
   "cell_type": "code",
   "execution_count": 10,
   "id": "c36917f8-50f2-49ab-befd-e98425c53acc",
   "metadata": {},
   "outputs": [],
   "source": [
    "# [TBC] complete your code here with proper comments\n",
    "# define the training hyper-parameters\n",
    "loss_fn = nn.CrossEntropyLoss()\n",
    "learning_rate = 1e-1\n",
    "weight_decay = 1e-5\n",
    "optimizer = torch.optim.Adam(\n",
    "    cifar_10_model.parameters(),\n",
    "    lr = learning_rate,\n",
    "    weight_decay = weight_decay\n",
    ")\n",
    "epochs = 1000\n",
    "early_stopping_patience = 20\n",
    "lr_scheduler = torch.optim.lr_scheduler.ReduceLROnPlateau(\n",
    "    optimizer,\n",
    "    mode = 'min',\n",
    "    factor = 0.1,\n",
    "    patience = 10\n",
    ")"
   ]
  },
  {
   "cell_type": "code",
   "execution_count": 11,
   "id": "d115eba2-08b2-4078-8c5c-29e68bc199cd",
   "metadata": {
    "scrolled": true
   },
   "outputs": [
    {
     "name": "stdout",
     "output_type": "stream",
     "text": [
      "Epoch 1: train loss = 2.859061, val loss = 158.968887, time consumed = 0:00:04\n",
      "Model saved after epoch 1\n",
      "Epoch 2: train loss = 2.308731, val loss = 15.594210, time consumed = 0:00:06\n",
      "Model saved after epoch 2\n",
      "Epoch 3: train loss = 2.212097, val loss = 3.200036, time consumed = 0:00:08\n",
      "Model saved after epoch 3\n",
      "Epoch 4: train loss = 2.149504, val loss = 2.287549, time consumed = 0:00:10\n",
      "Model saved after epoch 4\n",
      "Epoch 5: train loss = 2.084253, val loss = 2.160551, time consumed = 0:00:12\n",
      "Model saved after epoch 5\n",
      "Epoch 6: train loss = 2.018496, val loss = 2.342367, time consumed = 0:00:14\n",
      "Epoch 7: train loss = 1.946984, val loss = 2.535865, time consumed = 0:00:16\n",
      "Epoch 8: train loss = 1.897088, val loss = 3.313349, time consumed = 0:00:18\n",
      "Epoch 9: train loss = 1.847501, val loss = 2.847108, time consumed = 0:00:20\n",
      "Epoch 10: train loss = 1.821473, val loss = 1.970591, time consumed = 0:00:21\n",
      "Model saved after epoch 10\n",
      "Epoch 11: train loss = 1.783423, val loss = 1.792415, time consumed = 0:00:23\n",
      "Model saved after epoch 11\n",
      "Epoch 12: train loss = 1.743806, val loss = 1.762774, time consumed = 0:00:25\n",
      "Model saved after epoch 12\n",
      "Epoch 13: train loss = 1.712008, val loss = 1.729651, time consumed = 0:00:27\n",
      "Model saved after epoch 13\n",
      "Epoch 14: train loss = 1.682407, val loss = 1.693288, time consumed = 0:00:29\n",
      "Model saved after epoch 14\n",
      "Epoch 15: train loss = 1.652082, val loss = 1.678482, time consumed = 0:00:31\n",
      "Model saved after epoch 15\n",
      "Epoch 16: train loss = 1.618677, val loss = 1.703032, time consumed = 0:00:33\n",
      "Epoch 17: train loss = 1.592715, val loss = 1.766001, time consumed = 0:00:35\n",
      "Epoch 18: train loss = 1.568057, val loss = 1.886383, time consumed = 0:00:37\n",
      "Epoch 19: train loss = 1.533746, val loss = 2.308311, time consumed = 0:00:39\n",
      "Epoch 20: train loss = 1.512137, val loss = 1.990229, time consumed = 0:00:41\n",
      "Epoch 21: train loss = 1.488759, val loss = 1.986977, time consumed = 0:00:43\n",
      "Epoch 22: train loss = 1.460494, val loss = 1.631279, time consumed = 0:00:45\n",
      "Model saved after epoch 22\n",
      "Epoch 23: train loss = 1.441298, val loss = 1.760979, time consumed = 0:00:47\n",
      "Epoch 24: train loss = 1.410268, val loss = 1.792273, time consumed = 0:00:49\n",
      "Epoch 25: train loss = 1.398168, val loss = 1.593887, time consumed = 0:00:51\n",
      "Model saved after epoch 25\n",
      "Epoch 26: train loss = 1.379394, val loss = 1.718827, time consumed = 0:00:53\n",
      "Epoch 27: train loss = 1.358877, val loss = 1.615251, time consumed = 0:00:55\n",
      "Epoch 28: train loss = 1.347601, val loss = 1.534106, time consumed = 0:00:57\n",
      "Model saved after epoch 28\n",
      "Epoch 29: train loss = 1.334170, val loss = 1.634300, time consumed = 0:00:59\n",
      "Epoch 30: train loss = 1.309754, val loss = 1.934105, time consumed = 0:01:01\n",
      "Epoch 31: train loss = 1.295844, val loss = 1.530568, time consumed = 0:01:03\n",
      "Model saved after epoch 31\n",
      "Epoch 32: train loss = 1.268430, val loss = 1.609355, time consumed = 0:01:05\n",
      "Epoch 33: train loss = 1.253155, val loss = 1.480798, time consumed = 0:01:07\n",
      "Model saved after epoch 33\n",
      "Epoch 34: train loss = 1.239397, val loss = 1.405815, time consumed = 0:01:09\n",
      "Model saved after epoch 34\n",
      "Epoch 35: train loss = 1.236820, val loss = 1.408275, time consumed = 0:01:11\n",
      "Epoch 36: train loss = 1.213701, val loss = 1.477761, time consumed = 0:01:13\n",
      "Epoch 37: train loss = 1.209562, val loss = 1.611161, time consumed = 0:01:15\n",
      "Epoch 38: train loss = 1.190299, val loss = 1.536720, time consumed = 0:01:17\n",
      "Epoch 39: train loss = 1.183598, val loss = 2.072391, time consumed = 0:01:19\n",
      "Epoch 40: train loss = 1.168865, val loss = 1.261276, time consumed = 0:01:21\n",
      "Model saved after epoch 40\n",
      "Epoch 41: train loss = 1.143583, val loss = 1.278002, time consumed = 0:01:23\n",
      "Epoch 42: train loss = 1.128910, val loss = 1.267603, time consumed = 0:01:25\n",
      "Epoch 43: train loss = 1.121634, val loss = 1.237527, time consumed = 0:01:27\n",
      "Model saved after epoch 43\n",
      "Epoch 44: train loss = 1.109962, val loss = 1.193372, time consumed = 0:01:29\n",
      "Model saved after epoch 44\n",
      "Epoch 45: train loss = 1.104333, val loss = 1.209312, time consumed = 0:01:31\n",
      "Epoch 46: train loss = 1.083192, val loss = 1.373233, time consumed = 0:01:33\n",
      "Epoch 47: train loss = 1.085804, val loss = 1.495988, time consumed = 0:01:35\n",
      "Epoch 48: train loss = 1.067315, val loss = 1.356580, time consumed = 0:01:37\n",
      "Epoch 49: train loss = 1.058682, val loss = 1.374693, time consumed = 0:01:39\n",
      "Epoch 50: train loss = 1.053638, val loss = 1.253872, time consumed = 0:01:41\n",
      "Epoch 51: train loss = 1.045142, val loss = 1.265542, time consumed = 0:01:43\n",
      "Epoch 52: train loss = 1.030172, val loss = 1.316673, time consumed = 0:01:45\n",
      "Epoch 53: train loss = 1.020195, val loss = 1.376706, time consumed = 0:01:47\n",
      "Epoch 54: train loss = 1.006774, val loss = 1.247499, time consumed = 0:01:48\n",
      "Epoch 55: train loss = 0.995411, val loss = 1.352639, time consumed = 0:01:50\n",
      "Learning rate reduced after epoch 55\n",
      "Epoch 56: train loss = 0.963571, val loss = 1.102789, time consumed = 0:01:52\n",
      "Model saved after epoch 56\n",
      "Epoch 57: train loss = 0.932520, val loss = 1.133891, time consumed = 0:01:54\n",
      "Epoch 58: train loss = 0.894071, val loss = 1.064270, time consumed = 0:01:56\n",
      "Model saved after epoch 58\n",
      "Epoch 59: train loss = 0.869707, val loss = 1.048570, time consumed = 0:01:58\n",
      "Model saved after epoch 59\n",
      "Epoch 60: train loss = 0.850488, val loss = 1.041390, time consumed = 0:02:00\n",
      "Model saved after epoch 60\n",
      "Epoch 61: train loss = 0.831603, val loss = 1.046599, time consumed = 0:02:02\n",
      "Epoch 62: train loss = 0.822709, val loss = 1.046712, time consumed = 0:02:04\n",
      "Epoch 63: train loss = 0.800384, val loss = 1.057686, time consumed = 0:02:06\n",
      "Epoch 64: train loss = 0.784518, val loss = 1.073920, time consumed = 0:02:08\n",
      "Epoch 65: train loss = 0.767497, val loss = 1.051270, time consumed = 0:02:10\n",
      "Epoch 66: train loss = 0.758584, val loss = 1.060201, time consumed = 0:02:12\n",
      "Epoch 67: train loss = 0.751451, val loss = 1.061853, time consumed = 0:02:14\n",
      "Epoch 68: train loss = 0.733217, val loss = 1.073756, time consumed = 0:02:16\n",
      "Epoch 69: train loss = 0.723278, val loss = 1.086542, time consumed = 0:02:18\n",
      "Epoch 70: train loss = 0.708108, val loss = 1.097374, time consumed = 0:02:20\n",
      "Epoch 71: train loss = 0.702280, val loss = 1.128882, time consumed = 0:02:22\n",
      "Learning rate reduced after epoch 71\n",
      "Epoch 72: train loss = 0.693069, val loss = 1.103026, time consumed = 0:02:24\n",
      "Epoch 73: train loss = 0.686127, val loss = 1.094251, time consumed = 0:02:26\n",
      "Epoch 74: train loss = 0.689925, val loss = 1.093486, time consumed = 0:02:28\n",
      "Epoch 75: train loss = 0.678788, val loss = 1.093039, time consumed = 0:02:30\n",
      "Epoch 76: train loss = 0.678091, val loss = 1.093122, time consumed = 0:02:32\n",
      "Epoch 77: train loss = 0.677399, val loss = 1.094417, time consumed = 0:02:34\n",
      "Epoch 78: train loss = 0.679638, val loss = 1.096714, time consumed = 0:02:36\n",
      "Epoch 79: train loss = 0.671439, val loss = 1.096349, time consumed = 0:02:38\n",
      "Epoch 80: train loss = 0.675465, val loss = 1.098749, time consumed = 0:02:40\n",
      "Early stopping!\n"
     ]
    },
    {
     "data": {
      "text/plain": [
       "<All keys matched successfully>"
      ]
     },
     "execution_count": 11,
     "metadata": {},
     "output_type": "execute_result"
    }
   ],
   "source": [
    "# [TBC] complete your code here with proper comments\n",
    "# train the neural network\n",
    "histories, saved_path = train(\n",
    "    train_dl,\n",
    "    val_dl,\n",
    "    cifar_10_model,\n",
    "    loss_fn,\n",
    "    optimizer,\n",
    "    epochs,\n",
    "    early_stopping_patience,\n",
    "    lr_scheduler\n",
    ")\n",
    "# reload the best model\n",
    "cifar_10_model.load_state_dict(torch.load(saved_path))"
   ]
  },
  {
   "cell_type": "code",
   "execution_count": 12,
   "id": "1e2901c3-8539-4aad-bc09-70b40a1d3138",
   "metadata": {},
   "outputs": [
    {
     "data": {
      "image/png": "[encoded data removed]",
      "text/plain": [
       "<Figure size 640x480 with 1 Axes>"
      ]
     },
     "metadata": {},
     "output_type": "display_data"
    }
   ],
   "source": [
    "# [TBC] complete your code here with proper comments\n",
    "# plot the train vs. val loss history\n",
    "plt.figure()\n",
    "plt.plot(np.arange(len(histories['train_epoch'])), histories['train_epoch'], '-', label = 'train loss')\n",
    "plt.plot(np.arange(len(histories['val_epoch'])), histories['val_epoch'], '-', label = 'val loss')\n",
    "plt.title('train vs. validation loss history')\n",
    "plt.xlabel('epoch')\n",
    "plt.ylabel('loss')\n",
    "plt.legend()\n",
    "plt.ylim([0.5, 3])\n",
    "plt.show()"
   ]
  },
  {
   "cell_type": "markdown",
   "id": "e88c63b8-44f4-4901-a7cd-f1332db8b815",
   "metadata": {},
   "source": [
    "## Task 4. Test and evaluation\n",
    "\n",
    "<span style=\"color:red\">**[TBC]**</span> You need to:\n",
    "- Define the `test()` function\n",
    "    - Output logits, probabilities and predictions\n",
    "    - Output the loss value on the test set\n",
    "- Make predictions on the test dataset\n",
    "- Evaluate the performance\n",
    "    - Use `sklearn.metrics.classification_report()`"
   ]
  },
  {
   "cell_type": "code",
   "execution_count": 13,
   "id": "5bb5f62c-bb39-4c33-b455-b6d1e6c5ae06",
   "metadata": {},
   "outputs": [],
   "source": [
    "# [TBC] complete your code here with proper comments\n",
    "# define a function to make predictions on test dataset and evaluate the performance\n",
    "def test(dataloader, model, loss_fn):\n",
    "    logits, probs, preds = [], [], []\n",
    "    with torch.no_grad():\n",
    "        loss = 0.0\n",
    "        for (X, y) in dataloader:\n",
    "            X, y = X.to(device), y.to(device)\n",
    "            batch_logits = model(X)\n",
    "            batch_loss = loss_fn(batch_logits, y)\n",
    "            loss += batch_loss.item()\n",
    "\n",
    "            batch_probs = torch.softmax(batch_logits, dim = -1)\n",
    "            _, batch_preds = torch.max(batch_logits, 1)\n",
    "\n",
    "            logits.append(batch_logits.cpu().numpy())\n",
    "            probs.append(batch_probs.cpu().numpy())\n",
    "            preds.append(batch_preds.cpu().numpy())\n",
    "        loss /= len(dataloader)\n",
    "        print(f\"test loss = {loss}\")\n",
    "    return np.concatenate(logits), np.concatenate(probs), np.concatenate(preds), loss"
   ]
  },
  {
   "cell_type": "code",
   "execution_count": 14,
   "id": "bf75bf1f-86b5-4905-a775-08e10c51caf6",
   "metadata": {},
   "outputs": [
    {
     "name": "stdout",
     "output_type": "stream",
     "text": [
      "test loss = 1.059011995792389\n",
      "              precision    recall  f1-score   support\n",
      "\n",
      "       plane       0.70      0.73      0.72      1000\n",
      "         car       0.81      0.79      0.80      1000\n",
      "        bird       0.60      0.45      0.51      1000\n",
      "         cat       0.41      0.50      0.45      1000\n",
      "        deer       0.54      0.65      0.59      1000\n",
      "         dog       0.57      0.44      0.50      1000\n",
      "        frog       0.64      0.75      0.69      1000\n",
      "       horse       0.76      0.66      0.70      1000\n",
      "        ship       0.80      0.78      0.79      1000\n",
      "       truck       0.72      0.76      0.74      1000\n",
      "\n",
      "    accuracy                           0.65     10000\n",
      "   macro avg       0.66      0.65      0.65     10000\n",
      "weighted avg       0.66      0.65      0.65     10000\n",
      "\n"
     ]
    }
   ],
   "source": [
    "# [TBC] complete your code here with proper comments\n",
    "# make prediction on test set and evaluate the performance\n",
    "test_logits, test_prob, test_pred, test_loss = test(test_dl, cifar_10_model, loss_fn)\n",
    "\n",
    "# obtain test labels\n",
    "test_label = []\n",
    "for (_, y) in test_dl:\n",
    "    test_label.extend(y.cpu().numpy())\n",
    "\n",
    "# calculate classification report\n",
    "print(classification_report(test_label, test_pred, target_names = classes))"
   ]
  },
  {
   "cell_type": "code",
   "execution_count": 15,
   "id": "898a645c-95d1-41c4-9948-0a8ba3d66dcd",
   "metadata": {},
   "outputs": [
    {
     "name": "stdout",
     "output_type": "stream",
     "text": [
      "The predicted class is: plane\n",
      "The predicted probability is: 0.3863005\n"
     ]
    },
    {
     "data": {
      "image/png": "[encoded data removed]",
      "text/plain": [
       "<Figure size 640x480 with 1 Axes>"
      ]
     },
     "metadata": {},
     "output_type": "display_data"
    }
   ],
   "source": [
    "# [TBC] complete your code here with proper comments\n",
    "# display an example\n",
    "plt.imshow(test_ds[10][0].numpy().transpose(1, 2, 0))\n",
    "print('The predicted class is:', classes[test_pred[10]])\n",
    "print('The predicted probability is:', test_prob[10, test_pred[10]])"
   ]
  }
 ],
 "metadata": {
  "kernelspec": {
   "display_name": "Python 3 (ipykernel)",
   "language": "python",
   "name": "python3"
  },
  "language_info": {
   "codemirror_mode": {
    "name": "ipython",
    "version": 3
   },
   "file_extension": ".py",
   "mimetype": "text/x-python",
   "name": "python",
   "nbconvert_exporter": "python",
   "pygments_lexer": "ipython3",
   "version": "3.11.8"
  }
 },
 "nbformat": 4,
 "nbformat_minor": 5
}
