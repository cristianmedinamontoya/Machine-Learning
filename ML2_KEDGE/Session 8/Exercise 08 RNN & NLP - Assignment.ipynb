{
 "cells": [
  {
   "cell_type": "markdown",
   "id": "a3fa2d25-42a7-43d4-b6b0-6b677e98ac58",
   "metadata": {},
   "source": [
    "# Exercise 07 RNN & LSTM - Assignment\n",
    "\n",
    "<span style=\"color:red\">**The submission deadline of this assignment is 23/04/2024 23:59.**</span>\n",
    "\n",
    "<span style=\"color:red\">**Do not submit the saved `.pth` file of the trained CNN, because the file size is too big.**</span>\n",
    "\n",
    "## Pedagogy\n",
    "\n",
    "This notebook contains both theoretical explanations and executable cells to execute your code.\n",
    "\n",
    "When you see the <span style=\"color:red\">**[TBC]**</span> (To Be Completed) sign, it means that you need to perform an action else besides executing the cells of code that already exist. These actions can be:\n",
    "- Complete the code with proper comments\n",
    "- Respond to a question\n",
    "- Write an analysis\n",
    "- etc.\n",
    "\n",
    "## Requirement\n",
    "\n",
    "In this assignment, you are required to build a text-classifier using LSTM.\n",
    "\n",
    "The problem to be solved is to predict the class of a product based on the product page (title and description) on the E-commerce platform:\n",
    "\n",
    "|Class|Example product page|\n",
    "|-|-|\n",
    "|Books|Inner Engineering: A Yogi's Guide to Joy About the Author Sadhguru Jaggi VasudevSADHGURU is a yogi, mystic, and visionary who established the Isha Foundation, a nonprofit dedicated to the cultivation of human potential...|\n",
    "|Clothing & Accessories|Amour Butterfly Design Sunglasses For Girls 6+ Years { SKU16 } Amour Butterfly Design Sunglasses to give full protection. Very light weight. Highly durable. Its safe for kids eyes and give full eye protection against harmful uv rays...|\n",
    "|Electronics|Bluetooth Dongle USB CSR 4.0 Adapter Receiver Transfer Wireless Adapter for PC Computer Laptop Supports Windows 10 8.1 8 7 Vista XP - Upgraded Version...|\n",
    "|Household|Paper Plane Design Framed Wall Hanging Motivational Office Decor Art Prints (8.7 X 8.7 inch) - Set of 4 Painting made up in synthetic frame with uv textured print which gives multi effects and attracts towards it. This is an special series of paintings which makes your wall very beautiful and gives a royal touch...|\n",
    "\n",
    "<span style=\"color:red\">**[TBC]**</span> Please complete the following tasks:\n",
    "- Build the data pipeline\n",
    "- Create a LSTM-based text classifier\n",
    "- Train the network, save and reload the best one\n",
    "- Test and evaluation\n",
    "- Make predictions on unseen text (defined by yourself)"
   ]
  },
  {
   "cell_type": "markdown",
   "id": "60963915-5eda-4f40-bdb7-9b08b0f89f8a",
   "metadata": {},
   "source": [
    "## Import libraries"
   ]
  },
  {
   "cell_type": "code",
   "execution_count": null,
   "id": "049b81b1-8cf6-457e-a2f5-7a43e528d90c",
   "metadata": {},
   "outputs": [],
   "source": [
    "# [TBC] complete your code here with proper comments\n"
   ]
  },
  {
   "cell_type": "markdown",
   "id": "eb3e537c-8db5-474f-8446-7db6e7968b63",
   "metadata": {},
   "source": [
    "## Task 1. Build the data pipeline\n",
    "\n",
    "You are required to use `ecommerce_dataset.csv` which can be downloaded from the Learn Platform.\n",
    "\n",
    "<span style=\"color:red\">**[TBC]**</span> You need to:\n",
    "- Load the dataset from the `ecommerce_dataset.csv` file\n",
    "- Tokenization\n",
    "- Create the vocabulary\n",
    "- Cut/Pad each news articles to the same sequence length\n",
    "- Create the tensor dataset and dataloader for the training, validation, and test set"
   ]
  },
  {
   "cell_type": "code",
   "execution_count": null,
   "id": "71d10586-4c4b-4f5d-a8ec-b3e28aa67c95",
   "metadata": {},
   "outputs": [],
   "source": [
    "# [TBC] complete your code here with proper comments\n"
   ]
  },
  {
   "cell_type": "markdown",
   "id": "b1d8cfb7-7892-4e14-9332-082cca585e6b",
   "metadata": {},
   "source": [
    "## Task 2. Create a CNN-based image classifier\n",
    "\n",
    "<span style=\"color:red\">**[TBC]**</span> You need to:\n",
    "- Define a custom class to specify the structure and the forward method of the network\n",
    "    - You are required to use `nn.LSTM()` layer in the network\n",
    "- Specify the device used for computation\n",
    "- Create an instance of the network and move it to the corresponding device"
   ]
  },
  {
   "cell_type": "code",
   "execution_count": null,
   "id": "08ad5dfa-45d0-4d34-8b9b-dd56b622c053",
   "metadata": {},
   "outputs": [],
   "source": [
    "# [TBC] complete your code here with proper comments\n"
   ]
  },
  {
   "cell_type": "markdown",
   "id": "fcb057a4-8a3c-4c50-802b-c1987342d458",
   "metadata": {},
   "source": [
    "## Task 3. Train the network, save and reload the best one\n",
    "\n",
    "<span style=\"color:red\">**[TBC]**</span> You need to:\n",
    "- Define a `train()` function\n",
    "    - <span style=\"color:red\">**Do not submit the saved file as it will be too big.**</span>\n",
    "- Train the network\n",
    "- Reload the best model after training\n",
    "- Plot the loss history of the training process"
   ]
  },
  {
   "cell_type": "code",
   "execution_count": null,
   "id": "34be1592-be02-49b5-9417-37ad1037fe36",
   "metadata": {},
   "outputs": [],
   "source": [
    "# [TBC] complete your code here with proper comments\n"
   ]
  },
  {
   "cell_type": "markdown",
   "id": "4d6cba60-fdb2-4439-bcda-cb4d4fd76c39",
   "metadata": {},
   "source": [
    "## Task 4. Test and evaluation\n",
    "\n",
    "<span style=\"color:red\">**[TBC]**</span> You need to:\n",
    "- Define the `test()` function\n",
    "    - Output logits, probabilities and predictions\n",
    "    - Output the loss value on the test set\n",
    "- Make predictions on the test dataset\n",
    "- Evaluate the performance\n",
    "    - Use `sklearn.metrics.classification_report()`"
   ]
  },
  {
   "cell_type": "code",
   "execution_count": null,
   "id": "50b7366a-1fa4-4367-ac20-7cc8844e33f9",
   "metadata": {},
   "outputs": [],
   "source": [
    "# [TBC] complete your code here with proper comments\n"
   ]
  },
  {
   "cell_type": "markdown",
   "id": "6055ec40-ed58-4f63-85b5-e2e86592fdc3",
   "metadata": {},
   "source": [
    "## Task 5. Make predictions on unseen text\n",
    "\n",
    "<span style=\"color:red\">**[TBC]**</span> You need to:\n",
    "- Specify an unseen product page by yourself\n",
    "    - Use a real product page on the ecommerce platform as Amazon\n",
    "    - Or make up a fake one yourself\n",
    "- Define a `predict()` function for making predictions\n",
    "- Use the `predict()` function to classify the product page into one of the pre-defined classes"
   ]
  },
  {
   "cell_type": "code",
   "execution_count": null,
   "id": "58103abc-e49e-4721-9118-940fbfe37155",
   "metadata": {},
   "outputs": [],
   "source": [
    "# [TBC] complete your code here with proper comments\n"
   ]
  }
 ],
 "metadata": {
  "kernelspec": {
   "display_name": "Python 3 (ipykernel)",
   "language": "python",
   "name": "python3"
  },
  "language_info": {
   "codemirror_mode": {
    "name": "ipython",
    "version": 3
   },
   "file_extension": ".py",
   "mimetype": "text/x-python",
   "name": "python",
   "nbconvert_exporter": "python",
   "pygments_lexer": "ipython3",
   "version": "3.11.8"
  }
 },
 "nbformat": 4,
 "nbformat_minor": 5
}
