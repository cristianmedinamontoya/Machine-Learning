{
  "cells": [
    {
      "cell_type": "markdown",
      "id": "2dad449f-d002-4689-9314-dccf9f6bd6f3",
      "metadata": {
        "id": "2dad449f-d002-4689-9314-dccf9f6bd6f3"
      },
      "source": [
        "# Exercise 05 ANN for Classification - Assignment\n",
        "\n",
        "<span style=\"color:red\">**The submission deadline of this assignment is 09/04/2024 23:59. In addition to the executed Jupyter Notebook, please also submit the saved `.pth` file of the trained ANN on Learn.**</span>\n",
        "\n",
        "## Pedagogy\n",
        "\n",
        "This notebook contains both theoretical explanations and executable cells to execute your code.\n",
        "\n",
        "When you see the <span style=\"color:red\">**[TBC]**</span> (To Be Completed) sign, it means that you need to perform an action else besides executing the cells of code that already exist. These actions can be:\n",
        "- Complete the code with proper comments\n",
        "- Respond to a question\n",
        "- Write an analysis\n",
        "- etc.\n",
        "\n",
        "## Requirement\n",
        "\n",
        "In this assignment, you are required to build a multi-class classification model using ANN.\n",
        "\n",
        "The problem to be solved is to recognize the hand-written digits:\n",
        "\n",
        "![](https://jamesmccaffrey.files.wordpress.com/2020/10/uci_digits_0_to_9-1.jpg)\n",
        "\n",
        "<span style=\"color:red\">**[TBC]**</span> Please complete the following tasks:\n",
        "- Build the data pipeline\n",
        "- Create a multi-class classification ANN\n",
        "- Train the ANN\n",
        "- Save and load the trained model\n",
        "- Make predictions and evaluation"
      ]
    },
    {
      "cell_type": "markdown",
      "id": "9cfe761e-fa25-4762-aee3-e187640004fc",
      "metadata": {
        "id": "9cfe761e-fa25-4762-aee3-e187640004fc"
      },
      "source": [
        "### Import libraries"
      ]
    },
    {
      "cell_type": "code",
      "execution_count": 1,
      "id": "32d73e7f-af49-48de-98c9-cda26c459509",
      "metadata": {
        "id": "32d73e7f-af49-48de-98c9-cda26c459509"
      },
      "outputs": [],
      "source": [
        "# [TBC] complete your code here with proper comments\n",
        "# import the necessary libraries\n",
        "import warnings\n",
        "\n",
        "import torch\n",
        "import numpy as np\n",
        "import pandas as pd\n",
        "import matplotlib.pyplot as plt\n",
        "\n",
        "from sklearn import datasets\n",
        "from sklearn.metrics import mean_squared_error, r2_score\n",
        "from sklearn.preprocessing import MinMaxScaler\n",
        "from sklearn.model_selection import train_test_split\n",
        "\n",
        "from torch import nn\n",
        "from torch.utils.data import TensorDataset, DataLoader"
      ]
    },
    {
      "cell_type": "markdown",
      "id": "78d4c8c4-e320-4f57-9441-88c44a20ab13",
      "metadata": {
        "id": "78d4c8c4-e320-4f57-9441-88c44a20ab13"
      },
      "source": [
        "## Task 1. Build the data pipeline\n",
        "\n",
        "The hand-written digits dataset contains images of hand-written digits: 10 classes where each class refers to a digit. Find more details in this [link](https://scikit-learn.org/stable/datasets/toy_dataset.html#digits-dataset).\n",
        "- Each hand-written digit image contains $8\\times8$ pixels, which has already been converted to an 1D array with 64 features, each feature represent the value of a pixel.\n",
        "- If you want to display the image, you need to re-converted the 1D array back to the 2D array ($8\\times8$) with `reshape()` and display with `plt.imshow()`.\n",
        "\n",
        "<span style=\"color:red\">**[TBC]**</span> You need to:\n",
        "- Use `sklearn.datasets.load_digits()` to load the hand-written digits dataset\n",
        "- Pre-process the dataset\n",
        "    - Scale numerical features with [standard scaling](https://scikit-learn.org/stable/modules/generated/sklearn.preprocessing.StandardScaler.html)\n",
        "    - encode categorical label with [one-hot encoding](https://scikit-learn.org/stable/modules/generated/sklearn.preprocessing.OneHotEncoder.html)\n",
        "- Divide the dataset into the training, valiation, and test set\n",
        "- Create `TensorDataset` instances to store the dataset\n",
        "- Create `DataLoader` instance to wrap the dataset as iterable objects\n",
        "    - Decide a proper batch size considering\n",
        "        - The available memory of your computer\n",
        "        - The desired number of batches in each epoch"
      ]
    },
    {
      "cell_type": "code",
      "execution_count": 2,
      "id": "ab9c3b02-fd31-451c-b57f-a75da789c622",
      "metadata": {
        "id": "ab9c3b02-fd31-451c-b57f-a75da789c622"
      },
      "outputs": [],
      "source": [
        "# [TBC] complete your code here with proper comments\n",
        "\n",
        "from sklearn.datasets import load_digits\n",
        "from sklearn.preprocessing import StandardScaler, OneHotEncoder\n",
        "from sklearn.model_selection import train_test_split\n",
        "\n",
        "# Load the dataset\n",
        "digits = load_digits()\n",
        "X, y = digits.data, digits.target\n",
        "\n",
        "# Pre-process the dataset\n",
        "# Scale the numerical features with standard scaling\n",
        "scaler = StandardScaler()\n",
        "X_scaled = scaler.fit_transform(X)\n",
        "\n",
        "# Encode categorical label with one-hot encoding\n",
        "encoder = OneHotEncoder(sparse_output=False)\n",
        "y_one_hot = encoder.fit_transform(y.reshape(-1, 1))\n",
        "\n",
        "# Divide the dataset into the training, validation, and test sets\n",
        "X_train_val, X_test, y_train_val, y_test = train_test_split(X_scaled, y_one_hot, test_size=0.2, random_state=42)\n",
        "X_train, X_val, y_train, y_val = train_test_split(X_train_val, y_train_val, test_size=0.25, random_state=42)  # 0.25 x 0.8 = 0.2\n",
        "\n",
        "# Convert the numpy arrays to torch tensors\n",
        "X_train_tensor = torch.tensor(X_train, dtype=torch.float32)\n",
        "y_train_tensor = torch.tensor(y_train, dtype=torch.float32)\n",
        "X_val_tensor = torch.tensor(X_val, dtype=torch.float32)\n",
        "y_val_tensor = torch.tensor(y_val, dtype=torch.float32)\n",
        "X_test_tensor = torch.tensor(X_test, dtype=torch.float32)\n",
        "y_test_tensor = torch.tensor(y_test, dtype=torch.float32)\n",
        "\n",
        "# Create TensorDataset instances\n",
        "train_dataset = TensorDataset(X_train_tensor, y_train_tensor)\n",
        "val_dataset = TensorDataset(X_val_tensor, y_val_tensor)\n",
        "test_dataset = TensorDataset(X_test_tensor, y_test_tensor)\n",
        "\n",
        "# Create DataLoader instances\n",
        "batch_size = 64  # Adjust batch size as necessary\n",
        "train_loader = DataLoader(train_dataset, batch_size=batch_size, shuffle=True)\n",
        "val_loader = DataLoader(val_dataset, batch_size=batch_size, shuffle=False)\n",
        "test_loader = DataLoader(test_dataset, batch_size=batch_size, shuffle=False)"
      ]
    },
    {
      "cell_type": "markdown",
      "id": "48652daf-a08b-46fc-9b18-c000c32101e0",
      "metadata": {
        "id": "48652daf-a08b-46fc-9b18-c000c32101e0"
      },
      "source": [
        "## Task 2. Create a multi-class classification ANN\n",
        "\n",
        "<span style=\"color:red\">**[TBC]**</span> You need to:\n",
        "- Create a custom class to define the structure of the network\n",
        "    - Include batch normalization layers\n",
        "    - Include dropout layers\n",
        "- Create an instance of this class as the ANN"
      ]
    },
    {
      "cell_type": "code",
      "execution_count": 3,
      "id": "b9caa92b-ba3b-4690-a8bb-69217ac76c41",
      "metadata": {
        "colab": {
          "base_uri": "https://localhost:8080/"
        },
        "id": "b9caa92b-ba3b-4690-a8bb-69217ac76c41",
        "outputId": "2fe4c922-dde3-4660-beab-180ad86ac975"
      },
      "outputs": [
        {
          "output_type": "stream",
          "name": "stdout",
          "text": [
            "MultiClassClassificationANN(\n",
            "  (layer1): Linear(in_features=64, out_features=128, bias=True)\n",
            "  (batch_norm1): BatchNorm1d(128, eps=1e-05, momentum=0.1, affine=True, track_running_stats=True)\n",
            "  (dropout1): Dropout(p=0.5, inplace=False)\n",
            "  (layer2): Linear(in_features=128, out_features=128, bias=True)\n",
            "  (batch_norm2): BatchNorm1d(128, eps=1e-05, momentum=0.1, affine=True, track_running_stats=True)\n",
            "  (dropout2): Dropout(p=0.5, inplace=False)\n",
            "  (output_layer): Linear(in_features=128, out_features=10, bias=True)\n",
            "  (relu): ReLU()\n",
            ")\n"
          ]
        }
      ],
      "source": [
        "# [TBC] complete your code here with proper comments\n",
        "\n",
        "class MultiClassClassificationANN(nn.Module):\n",
        "    def __init__(self, input_size, hidden_size, output_size, dropout_rate=0.5):\n",
        "        super(MultiClassClassificationANN, self).__init__()\n",
        "\n",
        "        # Define the architecture of the network\n",
        "        self.layer1 = nn.Linear(input_size, hidden_size)  # Input layer to hidden layer\n",
        "        self.batch_norm1 = nn.BatchNorm1d(hidden_size)    # Batch normalization for hidden layer\n",
        "        self.dropout1 = nn.Dropout(dropout_rate)          # Dropout layer\n",
        "\n",
        "        self.layer2 = nn.Linear(hidden_size, hidden_size) # Second hidden layer\n",
        "        self.batch_norm2 = nn.BatchNorm1d(hidden_size)    # Batch normalization for second hidden layer\n",
        "        self.dropout2 = nn.Dropout(dropout_rate)          # Dropout layer\n",
        "\n",
        "        self.output_layer = nn.Linear(hidden_size, output_size) # Hidden layer to output layer\n",
        "\n",
        "        # Activation function\n",
        "        self.relu = nn.ReLU()\n",
        "\n",
        "    def forward(self, x):\n",
        "        # Forward pass through the network\n",
        "        x = self.relu(self.batch_norm1(self.layer1(x)))\n",
        "        x = self.dropout1(x)\n",
        "\n",
        "        x = self.relu(self.batch_norm2(self.layer2(x)))\n",
        "        x = self.dropout2(x)\n",
        "\n",
        "        x = self.output_layer(x)\n",
        "        return x\n",
        "\n",
        "# Specify the dimensions and hyperparameters\n",
        "input_size = 64  # Each image has 64 features\n",
        "hidden_size = 128  # This is a hyperparameter and can be adjusted\n",
        "output_size = 10   # There are 10 classes for the digits 0-9\n",
        "dropout_rate = 0.5 # Dropout rate of 50%\n",
        "\n",
        "# Create an instance of the ANN\n",
        "model = MultiClassClassificationANN(input_size, hidden_size, output_size, dropout_rate)\n",
        "\n",
        "# Print the model's architecture\n",
        "print(model)"
      ]
    },
    {
      "cell_type": "markdown",
      "id": "260c9423-6c3e-4119-953b-29f3ac1ba544",
      "metadata": {
        "id": "260c9423-6c3e-4119-953b-29f3ac1ba544"
      },
      "source": [
        "## Task 3. Train the ANN\n",
        "\n",
        "<span style=\"color:red\">**[TBC]**</span> You need to:\n",
        "- Define a `train()` function\n",
        "    - Implement L2 regularization\n",
        "    - Implement learning rate decay\n",
        "    - Implement early stopping\n",
        "- Train the ANN\n",
        "    - Adjust the training hyper-parameters if necessary to get a good result\n",
        "- Plot the loss history of the training process\n",
        "    - Batch & epoch loss on the train set\n",
        "    - Batch & epoch loss on the validation set\n",
        "    - Train & validation epoch loss"
      ]
    },
    {
      "cell_type": "code",
      "execution_count": 4,
      "id": "b87ee319-4b89-4466-9501-c96818a71b18",
      "metadata": {
        "colab": {
          "base_uri": "https://localhost:8080/",
          "height": 1000
        },
        "id": "b87ee319-4b89-4466-9501-c96818a71b18",
        "outputId": "44410b81-c150-4c28-f59c-40268e48fd6a"
      },
      "outputs": [
        {
          "output_type": "stream",
          "name": "stdout",
          "text": [
            "Epoch 1/50 \t Training Loss: 2.1341 \t Validation Loss: 1.8252\n",
            "Epoch 2/50 \t Training Loss: 1.6138 \t Validation Loss: 1.2941\n",
            "Epoch 3/50 \t Training Loss: 1.2434 \t Validation Loss: 0.9787\n",
            "Epoch 4/50 \t Training Loss: 0.9988 \t Validation Loss: 0.7746\n",
            "Epoch 5/50 \t Training Loss: 0.8444 \t Validation Loss: 0.6191\n",
            "Epoch 6/50 \t Training Loss: 0.7111 \t Validation Loss: 0.5067\n",
            "Epoch 7/50 \t Training Loss: 0.6265 \t Validation Loss: 0.4354\n",
            "Epoch 8/50 \t Training Loss: 0.5328 \t Validation Loss: 0.3761\n",
            "Epoch 9/50 \t Training Loss: 0.4851 \t Validation Loss: 0.3306\n",
            "Epoch 10/50 \t Training Loss: 0.4625 \t Validation Loss: 0.3006\n",
            "Epoch 11/50 \t Training Loss: 0.4251 \t Validation Loss: 0.2760\n",
            "Epoch 12/50 \t Training Loss: 0.4019 \t Validation Loss: 0.2471\n",
            "Epoch 13/50 \t Training Loss: 0.3530 \t Validation Loss: 0.2317\n",
            "Epoch 14/50 \t Training Loss: 0.3452 \t Validation Loss: 0.2161\n",
            "Epoch 15/50 \t Training Loss: 0.3210 \t Validation Loss: 0.2059\n",
            "Epoch 16/50 \t Training Loss: 0.3092 \t Validation Loss: 0.1955\n",
            "Epoch 17/50 \t Training Loss: 0.3064 \t Validation Loss: 0.1863\n",
            "Epoch 18/50 \t Training Loss: 0.2901 \t Validation Loss: 0.1803\n",
            "Epoch 19/50 \t Training Loss: 0.2757 \t Validation Loss: 0.1717\n",
            "Epoch 20/50 \t Training Loss: 0.2825 \t Validation Loss: 0.1691\n",
            "Epoch 21/50 \t Training Loss: 0.2726 \t Validation Loss: 0.1622\n",
            "Epoch 22/50 \t Training Loss: 0.2644 \t Validation Loss: 0.1575\n",
            "Epoch 23/50 \t Training Loss: 0.2637 \t Validation Loss: 0.1528\n",
            "Epoch 24/50 \t Training Loss: 0.2306 \t Validation Loss: 0.1543\n",
            "Epoch 25/50 \t Training Loss: 0.2598 \t Validation Loss: 0.1506\n",
            "Epoch 26/50 \t Training Loss: 0.2629 \t Validation Loss: 0.1430\n",
            "Epoch 27/50 \t Training Loss: 0.2229 \t Validation Loss: 0.1385\n",
            "Epoch 28/50 \t Training Loss: 0.2275 \t Validation Loss: 0.1381\n",
            "Epoch 29/50 \t Training Loss: 0.2253 \t Validation Loss: 0.1319\n",
            "Epoch 30/50 \t Training Loss: 0.2402 \t Validation Loss: 0.1306\n",
            "Epoch 31/50 \t Training Loss: 0.1944 \t Validation Loss: 0.1325\n",
            "Epoch 32/50 \t Training Loss: 0.2086 \t Validation Loss: 0.1294\n",
            "Epoch 33/50 \t Training Loss: 0.2171 \t Validation Loss: 0.1275\n",
            "Epoch 34/50 \t Training Loss: 0.1990 \t Validation Loss: 0.1255\n",
            "Epoch 35/50 \t Training Loss: 0.2031 \t Validation Loss: 0.1237\n",
            "Epoch 36/50 \t Training Loss: 0.1991 \t Validation Loss: 0.1209\n",
            "Epoch 37/50 \t Training Loss: 0.1986 \t Validation Loss: 0.1191\n",
            "Epoch 38/50 \t Training Loss: 0.2093 \t Validation Loss: 0.1171\n",
            "Epoch 39/50 \t Training Loss: 0.1906 \t Validation Loss: 0.1194\n",
            "Epoch 40/50 \t Training Loss: 0.2036 \t Validation Loss: 0.1166\n",
            "Epoch 41/50 \t Training Loss: 0.1721 \t Validation Loss: 0.1153\n",
            "Epoch 42/50 \t Training Loss: 0.1813 \t Validation Loss: 0.1177\n",
            "Epoch 43/50 \t Training Loss: 0.1854 \t Validation Loss: 0.1141\n",
            "Epoch 44/50 \t Training Loss: 0.1833 \t Validation Loss: 0.1149\n",
            "Epoch 45/50 \t Training Loss: 0.1940 \t Validation Loss: 0.1144\n",
            "Epoch 46/50 \t Training Loss: 0.1628 \t Validation Loss: 0.1135\n",
            "Epoch 47/50 \t Training Loss: 0.1747 \t Validation Loss: 0.1100\n",
            "Epoch 48/50 \t Training Loss: 0.1905 \t Validation Loss: 0.1118\n",
            "Epoch 49/50 \t Training Loss: 0.1754 \t Validation Loss: 0.1096\n",
            "Epoch 50/50 \t Training Loss: 0.1813 \t Validation Loss: 0.1086\n"
          ]
        },
        {
          "output_type": "display_data",
          "data": {
            "text/plain": [
              "<Figure size 1200x600 with 1 Axes>"
            ],
            "image/png": "[encoded data removed]"
          },
          "metadata": {}
        }
      ],
      "source": [
        "# [TBC] complete your code here with proper comments\n",
        "\n",
        "import torch.optim as optim\n",
        "from torch.optim.lr_scheduler import StepLR\n",
        "\n",
        "# Define the train function\n",
        "def train(model, train_loader, val_loader, epochs, optimizer, loss_function, scheduler, early_stopping_patience=10):\n",
        "    best_val_loss = float('inf')\n",
        "    early_stopping_counter = 0\n",
        "\n",
        "    # To track the loss as the model trains\n",
        "    train_losses = []\n",
        "    val_losses = []\n",
        "    avg_train_losses = []\n",
        "    avg_val_losses = []\n",
        "\n",
        "    model.train()  # Prepare model for training\n",
        "    for epoch in range(epochs):\n",
        "        model.train()  # Set model to training mode\n",
        "        total_train_loss = 0\n",
        "        for X_batch, y_batch in train_loader:\n",
        "            optimizer.zero_grad()  # Clear the gradients\n",
        "            y_pred = model(X_batch)  # Forward pass\n",
        "            loss = loss_function(y_pred, y_batch)  # Compute the loss\n",
        "            loss.backward()  # Backward pass\n",
        "            optimizer.step()  # Update parameters\n",
        "            total_train_loss += loss.item()\n",
        "            train_losses.append(loss.item())\n",
        "\n",
        "        scheduler.step()  # Step the scheduler\n",
        "\n",
        "        # Validation phase\n",
        "        model.eval()  # Set the model to evaluation mode\n",
        "        total_val_loss = 0\n",
        "        with torch.no_grad():\n",
        "            for X_batch, y_batch in val_loader:\n",
        "                y_pred = model(X_batch)\n",
        "                loss = loss_function(y_pred, y_batch)\n",
        "                total_val_loss += loss.item()\n",
        "                val_losses.append(loss.item())\n",
        "\n",
        "        # Calculate average loss over an epoch\n",
        "        avg_train_loss = total_train_loss / len(train_loader)\n",
        "        avg_val_loss = total_val_loss / len(val_loader)\n",
        "        avg_train_losses.append(avg_train_loss)\n",
        "        avg_val_losses.append(avg_val_loss)\n",
        "\n",
        "        # Early stopping\n",
        "        if avg_val_loss < best_val_loss:\n",
        "            best_val_loss = avg_val_loss\n",
        "            early_stopping_counter = 0\n",
        "        else:\n",
        "            early_stopping_counter += 1\n",
        "            if early_stopping_counter >= early_stopping_patience:\n",
        "                print('Early stopping!')\n",
        "                break\n",
        "\n",
        "        # Print epoch loss\n",
        "        print(f'Epoch {epoch+1}/{epochs} \\t Training Loss: {avg_train_loss:.4f} \\t Validation Loss: {avg_val_loss:.4f}')\n",
        "\n",
        "    return model, avg_train_losses, avg_val_losses\n",
        "\n",
        "# Initialize the loss function, optimizer, and learning rate scheduler\n",
        "loss_function = nn.CrossEntropyLoss()\n",
        "optimizer = optim.Adam(model.parameters(), lr=0.001, weight_decay=1e-5)  # L2 regularization is added here as weight_decay\n",
        "scheduler = StepLR(optimizer, step_size=1, gamma=0.95)  # Decay LR by 0.95 every epoch\n",
        "\n",
        "# Train the model\n",
        "epochs = 50  # Number of epochs to train for\n",
        "model, train_loss_history, val_loss_history = train(model, train_loader, val_loader, epochs, optimizer, loss_function, scheduler)\n",
        "\n",
        "# Plot the loss history\n",
        "plt.figure(figsize=(12, 6))\n",
        "plt.plot(train_loss_history, label='Training Loss')\n",
        "plt.plot(val_loss_history, label='Validation Loss')\n",
        "plt.xlabel('Epochs')\n",
        "plt.ylabel('Loss')\n",
        "plt.legend()\n",
        "plt.show()"
      ]
    },
    {
      "cell_type": "markdown",
      "id": "3b43b272-161f-425a-a0e5-1fc54ca61afa",
      "metadata": {
        "id": "3b43b272-161f-425a-a0e5-1fc54ca61afa"
      },
      "source": [
        "## Task 4. Save and load the trained model\n",
        "\n",
        "<span style=\"color:red\">**[TBC]**</span> You need to:\n",
        "- Save the trained model\n",
        "    - <span style=\"color:red\">**Don't forget to include the saved file in your submission.**</span>\n",
        "- Re-create the neural network and load the saved model"
      ]
    },
    {
      "cell_type": "code",
      "execution_count": 5,
      "id": "0b96684f-63d8-44c6-97e4-4d088007d2f4",
      "metadata": {
        "colab": {
          "base_uri": "https://localhost:8080/"
        },
        "id": "0b96684f-63d8-44c6-97e4-4d088007d2f4",
        "outputId": "0c0fe30d-a83d-43c6-f209-a60dc3c68be7"
      },
      "outputs": [
        {
          "output_type": "stream",
          "name": "stdout",
          "text": [
            "Saved PyTorch Model State to handwritten_digit_classifier.pth\n"
          ]
        }
      ],
      "source": [
        "# [TBC] complete your code here with proper comments\n",
        "# Save model state dictionary\n",
        "file_name = 'handwritten_digit_classifier.pth'\n",
        "torch.save(model.state_dict(), file_name)\n",
        "print('Saved PyTorch Model State to ' + file_name)"
      ]
    },
    {
      "cell_type": "code",
      "source": [
        "# Create an instance of the ANN\n",
        "model_to_load = MultiClassClassificationANN(input_size, hidden_size, output_size, dropout_rate)\n",
        "\n",
        "# Load the saved model state dictionary\n",
        "model_to_load.load_state_dict(torch.load(file_name))\n",
        "\n",
        "# Set the model to evaluation mode\n",
        "model_to_load.eval()\n",
        "\n",
        "print('Loaded PyTorch Model State from ' + file_name)"
      ],
      "metadata": {
        "colab": {
          "base_uri": "https://localhost:8080/"
        },
        "id": "WK347_s4f1sn",
        "outputId": "36a77023-0add-4edb-d7e4-4623ee0f1ec2"
      },
      "id": "WK347_s4f1sn",
      "execution_count": 6,
      "outputs": [
        {
          "output_type": "stream",
          "name": "stdout",
          "text": [
            "Loaded PyTorch Model State from handwritten_digit_classifier.pth\n"
          ]
        }
      ]
    },
    {
      "cell_type": "markdown",
      "id": "7a251479-268a-42d1-9ef8-da48b244ea3c",
      "metadata": {
        "id": "7a251479-268a-42d1-9ef8-da48b244ea3c"
      },
      "source": [
        "## Task 5. Make predictions and evaluation\n",
        "\n",
        "<span style=\"color:red\">**[TBC]**</span> You need to:\n",
        "- Define the `test()` function\n",
        "    - Output logits, probabilities and predictions\n",
        "    - Output the loss value on the test set\n",
        "- Make predictions on the test dataset\n",
        "- Evaluate the performance\n",
        "    - Use `sklearn.metrics.classification_report()`"
      ]
    },
    {
      "cell_type": "code",
      "execution_count": 7,
      "id": "76d53895-576f-4321-adba-3e6fd919df0f",
      "metadata": {
        "colab": {
          "base_uri": "https://localhost:8080/"
        },
        "id": "76d53895-576f-4321-adba-3e6fd919df0f",
        "outputId": "5df8a48f-2bde-4717-d3f8-83583d1a1580"
      },
      "outputs": [
        {
          "output_type": "stream",
          "name": "stdout",
          "text": [
            "Loss on the test set: 0.1117\n",
            "              precision    recall  f1-score   support\n",
            "\n",
            "           0      0.971     1.000     0.985        33\n",
            "           1      0.966     1.000     0.982        28\n",
            "           2      0.971     1.000     0.985        33\n",
            "           3      1.000     0.941     0.970        34\n",
            "           4      1.000     1.000     1.000        46\n",
            "           5      0.938     0.957     0.947        47\n",
            "           6      0.971     0.971     0.971        35\n",
            "           7      1.000     0.971     0.985        34\n",
            "           8      0.966     0.933     0.949        30\n",
            "           9      0.950     0.950     0.950        40\n",
            "\n",
            "    accuracy                          0.972       360\n",
            "   macro avg      0.973     0.972     0.973       360\n",
            "weighted avg      0.973     0.972     0.972       360\n",
            "\n"
          ]
        }
      ],
      "source": [
        "# [TBC] complete your code here with proper comments\n",
        "\n",
        "from torch.nn.functional import softmax\n",
        "from sklearn.metrics import classification_report\n",
        "\n",
        "def test(model, test_loader, loss_function):\n",
        "    model.eval()  # Set the model to evaluation mode\n",
        "    all_logits = []\n",
        "    all_probs = []\n",
        "    all_preds = []\n",
        "    all_targets = []\n",
        "    test_loss = 0\n",
        "\n",
        "    with torch.no_grad():\n",
        "        for inputs, targets in test_loader:\n",
        "            logits = model(inputs)\n",
        "            loss = loss_function(logits, torch.max(targets, 1)[1])\n",
        "            test_loss += loss.item()\n",
        "\n",
        "            probs = softmax(logits, dim=1)\n",
        "            preds = torch.max(probs, 1)[1]\n",
        "\n",
        "            all_logits.append(logits)\n",
        "            all_probs.append(probs)\n",
        "            all_preds.append(preds)\n",
        "            all_targets.append(targets)\n",
        "\n",
        "    # Concatenate all batches\n",
        "    all_logits = torch.cat(all_logits, dim=0)\n",
        "    all_probs = torch.cat(all_probs, dim=0)\n",
        "    all_preds = torch.cat(all_preds, dim=0)\n",
        "    all_targets = torch.cat(all_targets, dim=0)\n",
        "\n",
        "    # Convert targets to the same format as predictions\n",
        "    all_targets = torch.max(all_targets, 1)[1]\n",
        "\n",
        "    # Calculate average loss over all the test data\n",
        "    avg_test_loss = test_loss / len(test_loader)\n",
        "    print(f'Loss on the test set: {avg_test_loss:.4f}')\n",
        "\n",
        "    # Classification report\n",
        "    print(classification_report(all_targets.cpu(), all_preds.cpu(), digits=3))\n",
        "\n",
        "    return all_logits, all_probs, all_preds, avg_test_loss\n",
        "\n",
        "# Call the test function\n",
        "loss_function = nn.CrossEntropyLoss()  # Recreate the loss function\n",
        "logits, probs, preds, test_loss = test(model_to_load, test_loader, loss_function)"
      ]
    }
  ],
  "metadata": {
    "kernelspec": {
      "display_name": "Python 3 (ipykernel)",
      "language": "python",
      "name": "python3"
    },
    "language_info": {
      "codemirror_mode": {
        "name": "ipython",
        "version": 3
      },
      "file_extension": ".py",
      "mimetype": "text/x-python",
      "name": "python",
      "nbconvert_exporter": "python",
      "pygments_lexer": "ipython3",
      "version": "3.11.8"
    },
    "colab": {
      "provenance": []
    }
  },
  "nbformat": 4,
  "nbformat_minor": 5
}