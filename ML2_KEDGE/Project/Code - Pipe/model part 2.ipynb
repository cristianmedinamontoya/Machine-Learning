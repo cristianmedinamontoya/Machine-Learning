{
 "cells": [
  {
   "cell_type": "code",
   "execution_count": 2,
   "id": "initial_id",
   "metadata": {
    "collapsed": true,
    "ExecuteTime": {
     "end_time": "2024-04-18T15:08:16.847878Z",
     "start_time": "2024-04-18T15:08:14.183178Z"
    }
   },
   "outputs": [],
   "source": [
    "import os\n",
    "import datetime\n",
    "import pandas as pd\n",
    "from sklearn.preprocessing import MinMaxScaler\n",
    "from sklearn.model_selection import train_test_split\n",
    "\n",
    "import warnings\n",
    "import numpy as np\n",
    "import torch\n",
    "from torch import nn\n",
    "from torch.utils.data import TensorDataset, DataLoader\n",
    "import matplotlib.pyplot as plt\n",
    "from sklearn.metrics import mean_squared_error, r2_score"
   ]
  },
  {
   "cell_type": "code",
   "execution_count": 3,
   "outputs": [],
   "source": [
    "# [TBC] complete your code here with proper comments\n",
    "# suppress all warnings\n",
    "warnings.filterwarnings(\"ignore\")"
   ],
   "metadata": {
    "collapsed": false,
    "ExecuteTime": {
     "end_time": "2024-04-18T15:08:16.849425Z",
     "start_time": "2024-04-18T15:08:16.848256Z"
    }
   },
   "id": "6aa4bea9056eeda8"
  },
  {
   "cell_type": "code",
   "execution_count": 4,
   "outputs": [
    {
     "data": {
      "text/plain": "   Sourcing  Transport  Replenishment  Distribution  Total demand  \\\n0         0          0              1             0       17497.0   \n1         0          0              1             0       20365.0   \n2         0          0              1             0       23393.0   \n3         0          0              1             0       25825.0   \n4         0          0              1             0       23179.0   \n\n   Initial RW Inv  Initial PW Inv  Initial DW Inv Total  Initial DW Inv 0  \\\n0          2724.0           156.0                 120.0               1.0   \n1          2237.0           431.0                 332.0              32.0   \n2          2332.0           377.0                 291.0               7.0   \n3          2167.0           252.0                 581.0               7.0   \n4          2357.0            91.0                 552.0               7.0   \n\n   Initial DW Inv 1  ...  Demand coverage after 480 hours (%)  \\\n0              13.0  ...                                100.0   \n1               2.0  ...                                100.0   \n2               1.0  ...                                100.0   \n3              31.0  ...                                100.0   \n4               7.0  ...                                100.0   \n\n   Demand coverage after 492 hours (%)  Demand coverage after 504 hours (%)  \\\n0                                100.0                                100.0   \n1                                100.0                                100.0   \n2                                100.0                                100.0   \n3                                100.0                                100.0   \n4                                100.0                                100.0   \n\n   Demand coverage after 516 hours (%)  Demand coverage after 528 hours (%)  \\\n0                                100.0                                100.0   \n1                                100.0                                100.0   \n2                                100.0                                100.0   \n3                                100.0                                100.0   \n4                                100.0                                100.0   \n\n   Demand coverage after 540 hours (%)  Demand coverage after 552 hours (%)  \\\n0                                100.0                                100.0   \n1                                100.0                                100.0   \n2                                100.0                                100.0   \n3                                100.0                                100.0   \n4                                100.0                                100.0   \n\n   Demand coverage after 564 hours (%)  Demand coverage after 576 hours (%)  \\\n0                                100.0                                100.0   \n1                                100.0                                100.0   \n2                                100.0                                100.0   \n3                                100.0                                100.0   \n4                                100.0                                100.0   \n\n   Readiness (%)  \n0      75.505439  \n1      75.125215  \n2      74.340390  \n3      74.935140  \n4      74.258119  \n\n[5 rows x 73 columns]",
      "text/html": "<div>\n<style scoped>\n    .dataframe tbody tr th:only-of-type {\n        vertical-align: middle;\n    }\n\n    .dataframe tbody tr th {\n        vertical-align: top;\n    }\n\n    .dataframe thead th {\n        text-align: right;\n    }\n</style>\n<table border=\"1\" class=\"dataframe\">\n  <thead>\n    <tr style=\"text-align: right;\">\n      <th></th>\n      <th>Sourcing</th>\n      <th>Transport</th>\n      <th>Replenishment</th>\n      <th>Distribution</th>\n      <th>Total demand</th>\n      <th>Initial RW Inv</th>\n      <th>Initial PW Inv</th>\n      <th>Initial DW Inv Total</th>\n      <th>Initial DW Inv 0</th>\n      <th>Initial DW Inv 1</th>\n      <th>...</th>\n      <th>Demand coverage after 480 hours (%)</th>\n      <th>Demand coverage after 492 hours (%)</th>\n      <th>Demand coverage after 504 hours (%)</th>\n      <th>Demand coverage after 516 hours (%)</th>\n      <th>Demand coverage after 528 hours (%)</th>\n      <th>Demand coverage after 540 hours (%)</th>\n      <th>Demand coverage after 552 hours (%)</th>\n      <th>Demand coverage after 564 hours (%)</th>\n      <th>Demand coverage after 576 hours (%)</th>\n      <th>Readiness (%)</th>\n    </tr>\n  </thead>\n  <tbody>\n    <tr>\n      <th>0</th>\n      <td>0</td>\n      <td>0</td>\n      <td>1</td>\n      <td>0</td>\n      <td>17497.0</td>\n      <td>2724.0</td>\n      <td>156.0</td>\n      <td>120.0</td>\n      <td>1.0</td>\n      <td>13.0</td>\n      <td>...</td>\n      <td>100.0</td>\n      <td>100.0</td>\n      <td>100.0</td>\n      <td>100.0</td>\n      <td>100.0</td>\n      <td>100.0</td>\n      <td>100.0</td>\n      <td>100.0</td>\n      <td>100.0</td>\n      <td>75.505439</td>\n    </tr>\n    <tr>\n      <th>1</th>\n      <td>0</td>\n      <td>0</td>\n      <td>1</td>\n      <td>0</td>\n      <td>20365.0</td>\n      <td>2237.0</td>\n      <td>431.0</td>\n      <td>332.0</td>\n      <td>32.0</td>\n      <td>2.0</td>\n      <td>...</td>\n      <td>100.0</td>\n      <td>100.0</td>\n      <td>100.0</td>\n      <td>100.0</td>\n      <td>100.0</td>\n      <td>100.0</td>\n      <td>100.0</td>\n      <td>100.0</td>\n      <td>100.0</td>\n      <td>75.125215</td>\n    </tr>\n    <tr>\n      <th>2</th>\n      <td>0</td>\n      <td>0</td>\n      <td>1</td>\n      <td>0</td>\n      <td>23393.0</td>\n      <td>2332.0</td>\n      <td>377.0</td>\n      <td>291.0</td>\n      <td>7.0</td>\n      <td>1.0</td>\n      <td>...</td>\n      <td>100.0</td>\n      <td>100.0</td>\n      <td>100.0</td>\n      <td>100.0</td>\n      <td>100.0</td>\n      <td>100.0</td>\n      <td>100.0</td>\n      <td>100.0</td>\n      <td>100.0</td>\n      <td>74.340390</td>\n    </tr>\n    <tr>\n      <th>3</th>\n      <td>0</td>\n      <td>0</td>\n      <td>1</td>\n      <td>0</td>\n      <td>25825.0</td>\n      <td>2167.0</td>\n      <td>252.0</td>\n      <td>581.0</td>\n      <td>7.0</td>\n      <td>31.0</td>\n      <td>...</td>\n      <td>100.0</td>\n      <td>100.0</td>\n      <td>100.0</td>\n      <td>100.0</td>\n      <td>100.0</td>\n      <td>100.0</td>\n      <td>100.0</td>\n      <td>100.0</td>\n      <td>100.0</td>\n      <td>74.935140</td>\n    </tr>\n    <tr>\n      <th>4</th>\n      <td>0</td>\n      <td>0</td>\n      <td>1</td>\n      <td>0</td>\n      <td>23179.0</td>\n      <td>2357.0</td>\n      <td>91.0</td>\n      <td>552.0</td>\n      <td>7.0</td>\n      <td>7.0</td>\n      <td>...</td>\n      <td>100.0</td>\n      <td>100.0</td>\n      <td>100.0</td>\n      <td>100.0</td>\n      <td>100.0</td>\n      <td>100.0</td>\n      <td>100.0</td>\n      <td>100.0</td>\n      <td>100.0</td>\n      <td>74.258119</td>\n    </tr>\n  </tbody>\n</table>\n<p>5 rows × 73 columns</p>\n</div>"
     },
     "execution_count": 4,
     "metadata": {},
     "output_type": "execute_result"
    }
   ],
   "source": [
    "data = pd.read_csv(\"red_cross_supply_chain_dataset.csv\")\n",
    "data.head()"
   ],
   "metadata": {
    "collapsed": false,
    "ExecuteTime": {
     "end_time": "2024-04-18T15:08:16.915838Z",
     "start_time": "2024-04-18T15:08:16.850337Z"
    }
   },
   "id": "bb4773177c8c1137"
  },
  {
   "cell_type": "code",
   "execution_count": 5,
   "outputs": [
    {
     "data": {
      "text/plain": "   Sourcing  Transport  Replenishment  Distribution  Total demand  \\\n0         0          0              1             0       17497.0   \n1         0          0              1             0       20365.0   \n2         0          0              1             0       23393.0   \n3         0          0              1             0       25825.0   \n4         0          0              1             0       23179.0   \n\n   Initial RW Inv  Initial PW Inv  Initial DW Inv Total  Initial DW Inv 0  \\\n0          2724.0           156.0                 120.0               1.0   \n1          2237.0           431.0                 332.0              32.0   \n2          2332.0           377.0                 291.0               7.0   \n3          2167.0           252.0                 581.0               7.0   \n4          2357.0            91.0                 552.0               7.0   \n\n   Initial DW Inv 1  ...  Demand coverage after 468 hours (%)  \\\n0              13.0  ...                                100.0   \n1               2.0  ...                                100.0   \n2               1.0  ...                                100.0   \n3              31.0  ...                                100.0   \n4               7.0  ...                                100.0   \n\n   Demand coverage after 480 hours (%)  Demand coverage after 492 hours (%)  \\\n0                                100.0                                100.0   \n1                                100.0                                100.0   \n2                                100.0                                100.0   \n3                                100.0                                100.0   \n4                                100.0                                100.0   \n\n   Demand coverage after 504 hours (%)  Demand coverage after 516 hours (%)  \\\n0                                100.0                                100.0   \n1                                100.0                                100.0   \n2                                100.0                                100.0   \n3                                100.0                                100.0   \n4                                100.0                                100.0   \n\n   Demand coverage after 528 hours (%)  Demand coverage after 540 hours (%)  \\\n0                                100.0                                100.0   \n1                                100.0                                100.0   \n2                                100.0                                100.0   \n3                                100.0                                100.0   \n4                                100.0                                100.0   \n\n   Demand coverage after 552 hours (%)  Demand coverage after 564 hours (%)  \\\n0                                100.0                                100.0   \n1                                100.0                                100.0   \n2                                100.0                                100.0   \n3                                100.0                                100.0   \n4                                100.0                                100.0   \n\n   Demand coverage after 576 hours (%)  \n0                                100.0  \n1                                100.0  \n2                                100.0  \n3                                100.0  \n4                                100.0  \n\n[5 rows x 72 columns]",
      "text/html": "<div>\n<style scoped>\n    .dataframe tbody tr th:only-of-type {\n        vertical-align: middle;\n    }\n\n    .dataframe tbody tr th {\n        vertical-align: top;\n    }\n\n    .dataframe thead th {\n        text-align: right;\n    }\n</style>\n<table border=\"1\" class=\"dataframe\">\n  <thead>\n    <tr style=\"text-align: right;\">\n      <th></th>\n      <th>Sourcing</th>\n      <th>Transport</th>\n      <th>Replenishment</th>\n      <th>Distribution</th>\n      <th>Total demand</th>\n      <th>Initial RW Inv</th>\n      <th>Initial PW Inv</th>\n      <th>Initial DW Inv Total</th>\n      <th>Initial DW Inv 0</th>\n      <th>Initial DW Inv 1</th>\n      <th>...</th>\n      <th>Demand coverage after 468 hours (%)</th>\n      <th>Demand coverage after 480 hours (%)</th>\n      <th>Demand coverage after 492 hours (%)</th>\n      <th>Demand coverage after 504 hours (%)</th>\n      <th>Demand coverage after 516 hours (%)</th>\n      <th>Demand coverage after 528 hours (%)</th>\n      <th>Demand coverage after 540 hours (%)</th>\n      <th>Demand coverage after 552 hours (%)</th>\n      <th>Demand coverage after 564 hours (%)</th>\n      <th>Demand coverage after 576 hours (%)</th>\n    </tr>\n  </thead>\n  <tbody>\n    <tr>\n      <th>0</th>\n      <td>0</td>\n      <td>0</td>\n      <td>1</td>\n      <td>0</td>\n      <td>17497.0</td>\n      <td>2724.0</td>\n      <td>156.0</td>\n      <td>120.0</td>\n      <td>1.0</td>\n      <td>13.0</td>\n      <td>...</td>\n      <td>100.0</td>\n      <td>100.0</td>\n      <td>100.0</td>\n      <td>100.0</td>\n      <td>100.0</td>\n      <td>100.0</td>\n      <td>100.0</td>\n      <td>100.0</td>\n      <td>100.0</td>\n      <td>100.0</td>\n    </tr>\n    <tr>\n      <th>1</th>\n      <td>0</td>\n      <td>0</td>\n      <td>1</td>\n      <td>0</td>\n      <td>20365.0</td>\n      <td>2237.0</td>\n      <td>431.0</td>\n      <td>332.0</td>\n      <td>32.0</td>\n      <td>2.0</td>\n      <td>...</td>\n      <td>100.0</td>\n      <td>100.0</td>\n      <td>100.0</td>\n      <td>100.0</td>\n      <td>100.0</td>\n      <td>100.0</td>\n      <td>100.0</td>\n      <td>100.0</td>\n      <td>100.0</td>\n      <td>100.0</td>\n    </tr>\n    <tr>\n      <th>2</th>\n      <td>0</td>\n      <td>0</td>\n      <td>1</td>\n      <td>0</td>\n      <td>23393.0</td>\n      <td>2332.0</td>\n      <td>377.0</td>\n      <td>291.0</td>\n      <td>7.0</td>\n      <td>1.0</td>\n      <td>...</td>\n      <td>100.0</td>\n      <td>100.0</td>\n      <td>100.0</td>\n      <td>100.0</td>\n      <td>100.0</td>\n      <td>100.0</td>\n      <td>100.0</td>\n      <td>100.0</td>\n      <td>100.0</td>\n      <td>100.0</td>\n    </tr>\n    <tr>\n      <th>3</th>\n      <td>0</td>\n      <td>0</td>\n      <td>1</td>\n      <td>0</td>\n      <td>25825.0</td>\n      <td>2167.0</td>\n      <td>252.0</td>\n      <td>581.0</td>\n      <td>7.0</td>\n      <td>31.0</td>\n      <td>...</td>\n      <td>100.0</td>\n      <td>100.0</td>\n      <td>100.0</td>\n      <td>100.0</td>\n      <td>100.0</td>\n      <td>100.0</td>\n      <td>100.0</td>\n      <td>100.0</td>\n      <td>100.0</td>\n      <td>100.0</td>\n    </tr>\n    <tr>\n      <th>4</th>\n      <td>0</td>\n      <td>0</td>\n      <td>1</td>\n      <td>0</td>\n      <td>23179.0</td>\n      <td>2357.0</td>\n      <td>91.0</td>\n      <td>552.0</td>\n      <td>7.0</td>\n      <td>7.0</td>\n      <td>...</td>\n      <td>100.0</td>\n      <td>100.0</td>\n      <td>100.0</td>\n      <td>100.0</td>\n      <td>100.0</td>\n      <td>100.0</td>\n      <td>100.0</td>\n      <td>100.0</td>\n      <td>100.0</td>\n      <td>100.0</td>\n    </tr>\n  </tbody>\n</table>\n<p>5 rows × 72 columns</p>\n</div>"
     },
     "execution_count": 5,
     "metadata": {},
     "output_type": "execute_result"
    }
   ],
   "source": [
    "data.drop(columns='Readiness (%)').head()"
   ],
   "metadata": {
    "collapsed": false,
    "ExecuteTime": {
     "end_time": "2024-04-18T15:08:16.926650Z",
     "start_time": "2024-04-18T15:08:16.916246Z"
    }
   },
   "id": "fd61740f23200ad7"
  },
  {
   "cell_type": "code",
   "execution_count": 6,
   "outputs": [],
   "source": [
    "column_list = ['Demand coverage after 252 hours (%)',\n",
    " 'Demand coverage after 264 hours (%)',\n",
    " 'Demand coverage after 276 hours (%)',\n",
    " 'Demand coverage after 288 hours (%)',\n",
    " 'Demand coverage after 300 hours (%)',\n",
    " 'Demand coverage after 312 hours (%)',\n",
    " 'Demand coverage after 324 hours (%)',\n",
    " 'Demand coverage after 336 hours (%)',\n",
    " 'Demand coverage after 348 hours (%)',\n",
    " 'Demand coverage after 360 hours (%)',\n",
    " 'Demand coverage after 372 hours (%)',\n",
    " 'Demand coverage after 384 hours (%)',\n",
    " 'Demand coverage after 396 hours (%)',\n",
    " 'Demand coverage after 408 hours (%)',\n",
    " 'Demand coverage after 420 hours (%)',\n",
    " 'Demand coverage after 432 hours (%)',\n",
    " 'Demand coverage after 444 hours (%)',\n",
    " 'Demand coverage after 456 hours (%)',\n",
    " 'Demand coverage after 468 hours (%)',\n",
    " 'Demand coverage after 480 hours (%)',\n",
    " 'Demand coverage after 492 hours (%)',\n",
    " 'Demand coverage after 504 hours (%)',\n",
    " 'Demand coverage after 516 hours (%)',\n",
    " 'Demand coverage after 528 hours (%)',\n",
    " 'Demand coverage after 540 hours (%)',\n",
    " 'Demand coverage after 552 hours (%)',\n",
    " 'Demand coverage after 564 hours (%)',\n",
    " 'Demand coverage after 576 hours (%)']"
   ],
   "metadata": {
    "collapsed": false,
    "ExecuteTime": {
     "end_time": "2024-04-18T15:08:16.930033Z",
     "start_time": "2024-04-18T15:08:16.926005Z"
    }
   },
   "id": "d7f0697d05435637"
  },
  {
   "cell_type": "code",
   "execution_count": 7,
   "outputs": [],
   "source": [
    "feature = data.drop(columns=column_list)"
   ],
   "metadata": {
    "collapsed": false,
    "ExecuteTime": {
     "end_time": "2024-04-18T15:08:16.931005Z",
     "start_time": "2024-04-18T15:08:16.928531Z"
    }
   },
   "id": "38f1f5e15aa6cd65"
  },
  {
   "cell_type": "code",
   "execution_count": 8,
   "outputs": [],
   "source": [
    "# Drop columns that are not in the list of columns to keep\n",
    "columns_to_drop = [col for col in data.columns if col not in column_list]\n",
    "label = data.drop(columns=columns_to_drop)"
   ],
   "metadata": {
    "collapsed": false,
    "ExecuteTime": {
     "end_time": "2024-04-18T15:08:16.934334Z",
     "start_time": "2024-04-18T15:08:16.931964Z"
    }
   },
   "id": "b0737cb8d489c863"
  },
  {
   "cell_type": "code",
   "execution_count": 9,
   "outputs": [],
   "source": [
    "# feature scaling\n",
    "scaler = MinMaxScaler()\n",
    "scaled_feature = scaler.fit_transform(feature)"
   ],
   "metadata": {
    "collapsed": false,
    "ExecuteTime": {
     "end_time": "2024-04-18T15:08:16.983702Z",
     "start_time": "2024-04-18T15:08:16.935459Z"
    }
   },
   "id": "9aae28c07bd887cc"
  },
  {
   "cell_type": "code",
   "execution_count": 10,
   "outputs": [],
   "source": [
    "# Split the dataset into train, validation, and test sets\n",
    "train_val_feature, test_feature, train_val_label, test_label = train_test_split(\n",
    "    scaled_feature, label.to_numpy(), test_size = 0.2, random_state = 0\n",
    ")\n",
    "train_feature, val_feature, train_label, val_label = train_test_split(\n",
    "    train_val_feature, train_val_label, test_size = 0.25, random_state = 0\n",
    ")"
   ],
   "metadata": {
    "collapsed": false,
    "ExecuteTime": {
     "end_time": "2024-04-18T15:08:16.997573Z",
     "start_time": "2024-04-18T15:08:16.941729Z"
    }
   },
   "id": "c28427c62525e335"
  },
  {
   "cell_type": "code",
   "execution_count": 11,
   "outputs": [],
   "source": [
    "# specify the type of data stored in the tensors to avoid incompatiblity\n",
    "# create the train, validatoin, and test dataset\n",
    "# specify the type of data stored in the tensors to avoid incompatiblity\n",
    "train_ds = TensorDataset(\n",
    "    torch.tensor(train_feature.reshape(-1, 1, 45), dtype = torch.float32),\n",
    "    torch.tensor(train_label, dtype = torch.float32)\n",
    ")\n",
    "val_ds = TensorDataset(\n",
    "    torch.tensor(val_feature.reshape(-1, 1, 45), dtype = torch.float32),\n",
    "    torch.tensor(val_label, dtype = torch.float32)\n",
    ")\n",
    "test_ds = TensorDataset(\n",
    "    torch.tensor(test_feature.reshape(-1, 1, 45), dtype = torch.float32),\n",
    "    torch.tensor(test_label, dtype = torch.float32)\n",
    ")"
   ],
   "metadata": {
    "collapsed": false,
    "ExecuteTime": {
     "end_time": "2024-04-18T15:08:17.017211Z",
     "start_time": "2024-04-18T15:08:16.951425Z"
    }
   },
   "id": "69433ce04a799d9b"
  },
  {
   "cell_type": "code",
   "execution_count": 12,
   "outputs": [],
   "source": [
    "# create the train and test data loaders\n",
    "batch_size = 256 # usually set to 2 to the nth power\n",
    "train_dl = DataLoader(train_ds, batch_size = batch_size, shuffle = True)\n",
    "val_dl = DataLoader(val_ds, batch_size = batch_size, shuffle = False)\n",
    "test_dl = DataLoader(test_ds, batch_size = batch_size, shuffle = False)"
   ],
   "metadata": {
    "collapsed": false,
    "ExecuteTime": {
     "end_time": "2024-04-18T15:08:17.017379Z",
     "start_time": "2024-04-18T15:08:16.965680Z"
    }
   },
   "id": "1e9d101b8fa87c65"
  },
  {
   "cell_type": "code",
   "execution_count": 13,
   "outputs": [
    {
     "name": "stdout",
     "output_type": "stream",
     "text": [
      "Feature shape: torch.Size([256, 1, 45])\n",
      "Label shape: torch.Size([256, 28])\n"
     ]
    }
   ],
   "source": [
    "# display the dimensionality of a batch\n",
    "for (X, y) in val_dl:\n",
    "    print('Feature shape:', X.shape)\n",
    "    print('Label shape:', y.shape)\n",
    "    break"
   ],
   "metadata": {
    "collapsed": false,
    "ExecuteTime": {
     "end_time": "2024-04-18T15:08:17.017651Z",
     "start_time": "2024-04-18T15:08:16.970108Z"
    }
   },
   "id": "b01c3c5a1e62cc70"
  },
  {
   "cell_type": "code",
   "execution_count": 14,
   "outputs": [],
   "source": [
    "# define a custom neural network class\n",
    "class NeuralNetwork(nn.Module):\n",
    "    def __init__(self, in_channels, n_labels):\n",
    "        super().__init__()\n",
    "        self.net = nn.Sequential(\n",
    "            nn.LazyConv1d(out_channels = 3, kernel_size = 3, stride = 1, padding = 1),\n",
    "            nn.LazyBatchNorm1d(), nn.Sigmoid(), nn.MaxPool1d(kernel_size = 2),\n",
    "            nn.LazyConv1d(out_channels = 9, kernel_size = 3, stride = 1, padding = 1),\n",
    "            nn.LazyBatchNorm1d(), nn.Sigmoid(), nn.MaxPool1d(kernel_size = 2),\n",
    "            nn.LazyConv1d(out_channels = 27, kernel_size = 3, stride = 1, padding = 1),\n",
    "            nn.LazyBatchNorm1d(), nn.Sigmoid(), nn.MaxPool1d(kernel_size = 2),\n",
    "            nn.Flatten(),\n",
    "            nn.LazyLinear(1000), nn.LazyBatchNorm1d(), nn.ReLU(), nn.Dropout(p = 0.5),\n",
    "            nn.LazyLinear(100), nn.LazyBatchNorm1d(), nn.ReLU(), nn.Dropout(p = 0.5),\n",
    "            nn.LazyLinear(28)\n",
    "        )\n",
    "\n",
    "    def forward(self, x):\n",
    "        return self.net(x)"
   ],
   "metadata": {
    "collapsed": false,
    "ExecuteTime": {
     "end_time": "2024-04-18T15:08:17.018288Z",
     "start_time": "2024-04-18T15:08:16.984224Z"
    }
   },
   "id": "2cc58b019f4f4a51"
  },
  {
   "cell_type": "code",
   "execution_count": 15,
   "outputs": [
    {
     "name": "stdout",
     "output_type": "stream",
     "text": [
      "Using mps device\n"
     ]
    }
   ],
   "source": [
    "# get cpu, gpu or mps device for computation\n",
    "device = (\n",
    "    \"cuda\"\n",
    "    if torch.cuda.is_available()\n",
    "    else \"mps\"\n",
    "    if torch.backends.mps.is_available()\n",
    "    else \"cpu\"\n",
    ")\n",
    "print(f\"Using {device} device\")"
   ],
   "metadata": {
    "collapsed": false,
    "ExecuteTime": {
     "end_time": "2024-04-18T15:08:17.088545Z",
     "start_time": "2024-04-18T15:08:17.061095Z"
    }
   },
   "id": "18bf642bc3ea8638"
  },
  {
   "cell_type": "code",
   "execution_count": 16,
   "outputs": [],
   "source": [
    "# create the neural network\n",
    "model = NeuralNetwork(\n",
    "    in_channels = train_ds[0][0].shape[0],\n",
    "    n_labels = 28\n",
    ").to(device)"
   ],
   "metadata": {
    "collapsed": false,
    "ExecuteTime": {
     "end_time": "2024-04-18T15:08:17.089456Z",
     "start_time": "2024-04-18T15:08:17.065354Z"
    }
   },
   "id": "d79ae9152fb7e750"
  },
  {
   "cell_type": "code",
   "execution_count": 17,
   "outputs": [],
   "source": [
    "# define the training function\n",
    "def train(train_dl, val_dl, model, loss_fn, optimizer, epochs, early_stopping_patience, lr_scheduler):\n",
    "    # initialization\n",
    "    min_val_loss, patience_counter = np.inf, 0\n",
    "    saved_path, start_time = '', datetime.datetime.now()\n",
    "    # aggregate loss histories into a dictionary\n",
    "    histories = {'train_batch': [], 'train_epoch': [], 'val_batch': [], 'val_epoch': []}\n",
    "\n",
    "    for epoch in range(epochs):\n",
    "        # train\n",
    "        model.train()\n",
    "        train_epoch_loss = 0.0\n",
    "        for X, y in train_dl:\n",
    "            X, y = X.to(device), y.to(device) # move data to GPU\n",
    "            optimizer.zero_grad()\n",
    "            train_batch_loss = loss_fn(model(X), y)\n",
    "            train_batch_loss.backward()\n",
    "            optimizer.step()\n",
    "            train_epoch_loss += train_batch_loss.item()\n",
    "            histories['train_batch'].append(train_batch_loss.item())\n",
    "        train_epoch_loss /= len(train_dl)\n",
    "        histories['train_epoch'].append(train_epoch_loss)\n",
    "\n",
    "        # validation\n",
    "        model.eval()\n",
    "        val_epoch_loss = 0.0\n",
    "        with torch.no_grad():\n",
    "            for X, y in val_dl:\n",
    "                X, y = X.to(device), y.to(device) # move data to GPU\n",
    "                val_batch_loss = loss_fn(model(X), y)\n",
    "                val_epoch_loss += val_batch_loss.item()\n",
    "                histories['val_batch'].append(val_batch_loss.item())\n",
    "            val_epoch_loss /= len(val_dl)\n",
    "            histories['val_epoch'].append(val_epoch_loss)\n",
    "\n",
    "        # print log\n",
    "        end_time = datetime.datetime.now()\n",
    "        time_consumed = str(end_time - start_time).split('.')[0]\n",
    "        print(f\"Epoch {epoch + 1}: train loss = {train_epoch_loss:>5f}, val loss = {val_epoch_loss:>5f}, time consumed = {time_consumed}\")\n",
    "\n",
    "        # learning rate decay\n",
    "        current_lr = optimizer.param_groups[0]['lr']\n",
    "        lr_scheduler.step(val_epoch_loss)\n",
    "        if current_lr != optimizer.param_groups[0]['lr']:\n",
    "            print(f'Learning rate reduced after epoch {epoch+1}')\n",
    "\n",
    "        # early stopping\n",
    "        if val_epoch_loss < min_val_loss:\n",
    "            min_val_loss, patience_counter = val_epoch_loss, 0\n",
    "            # save the current model as a new minimal validation loss is achieved\n",
    "            if os.path.exists(saved_path):\n",
    "                os.remove(saved_path)\n",
    "            time_str = end_time.strftime(\"%Y-%m-%d_%H-%M-%S\")\n",
    "            saved_path = f'epoch_{epoch+1}_val_loss_{val_epoch_loss:>4f}_{time_str}.pth'\n",
    "            torch.save(model.state_dict(), saved_path)\n",
    "            print(f'Model saved after epoch {epoch+1}')\n",
    "        else:\n",
    "            patience_counter += 1\n",
    "            if patience_counter >= early_stopping_patience:\n",
    "                print('Early stopping!')\n",
    "                break\n",
    "                \n",
    "    return histories, saved_path"
   ],
   "metadata": {
    "collapsed": false,
    "ExecuteTime": {
     "end_time": "2024-04-18T15:08:17.090084Z",
     "start_time": "2024-04-18T15:08:17.085790Z"
    }
   },
   "id": "3978df9b4fa5557e"
  },
  {
   "cell_type": "code",
   "execution_count": 18,
   "outputs": [],
   "source": [
    "# define the training hyper-parameters\n",
    "loss_fn = nn.MSELoss()\n",
    "learning_rate = 1e-1\n",
    "weight_decay = 1e-5\n",
    "optimizer = torch.optim.Adam(\n",
    "    model.parameters(),\n",
    "    lr = learning_rate,\n",
    "    weight_decay = weight_decay\n",
    ")\n",
    "epochs = 1000\n",
    "early_stopping_patience = 20\n",
    "lr_scheduler = torch.optim.lr_scheduler.ReduceLROnPlateau(\n",
    "    optimizer,\n",
    "    mode = 'min',\n",
    "    factor = 0.1,\n",
    "    patience = 10\n",
    ")"
   ],
   "metadata": {
    "collapsed": false,
    "ExecuteTime": {
     "end_time": "2024-04-18T15:08:17.611853Z",
     "start_time": "2024-04-18T15:08:17.088660Z"
    }
   },
   "id": "3972904f74a8016d"
  },
  {
   "cell_type": "code",
   "execution_count": 19,
   "outputs": [
    {
     "name": "stdout",
     "output_type": "stream",
     "text": [
      "Epoch 1: train loss = 1462.310549, val loss = 2975.461499, time consumed = 0:00:01\n",
      "Model saved after epoch 1\n",
      "Epoch 2: train loss = 313.143264, val loss = 203.900877, time consumed = 0:00:02\n",
      "Model saved after epoch 2\n",
      "Epoch 3: train loss = 216.247545, val loss = 72.307009, time consumed = 0:00:02\n",
      "Model saved after epoch 3\n",
      "Epoch 4: train loss = 195.843650, val loss = 127.089527, time consumed = 0:00:03\n",
      "Epoch 5: train loss = 182.315793, val loss = 82.472979, time consumed = 0:00:03\n",
      "Epoch 6: train loss = 181.077578, val loss = 48.762230, time consumed = 0:00:04\n",
      "Model saved after epoch 6\n",
      "Epoch 7: train loss = 164.340973, val loss = 72.908647, time consumed = 0:00:04\n",
      "Epoch 8: train loss = 158.281224, val loss = 31.111991, time consumed = 0:00:05\n",
      "Model saved after epoch 8\n",
      "Epoch 9: train loss = 160.966409, val loss = 37.202369, time consumed = 0:00:05\n",
      "Epoch 10: train loss = 174.443719, val loss = 42.759645, time consumed = 0:00:06\n",
      "Epoch 11: train loss = 151.853799, val loss = 55.046928, time consumed = 0:00:06\n",
      "Epoch 12: train loss = 145.074103, val loss = 61.948964, time consumed = 0:00:06\n",
      "Epoch 13: train loss = 149.032830, val loss = 54.776735, time consumed = 0:00:07\n",
      "Epoch 14: train loss = 138.694546, val loss = 38.790094, time consumed = 0:00:07\n",
      "Epoch 15: train loss = 138.105717, val loss = 29.459494, time consumed = 0:00:08\n",
      "Model saved after epoch 15\n",
      "Epoch 16: train loss = 131.582452, val loss = 52.847234, time consumed = 0:00:08\n",
      "Epoch 17: train loss = 135.229947, val loss = 31.437671, time consumed = 0:00:09\n",
      "Epoch 18: train loss = 136.969450, val loss = 88.505422, time consumed = 0:00:09\n",
      "Epoch 19: train loss = 131.193009, val loss = 110.625883, time consumed = 0:00:10\n",
      "Epoch 20: train loss = 150.114670, val loss = 33.344476, time consumed = 0:00:10\n",
      "Epoch 21: train loss = 126.509141, val loss = 42.327891, time consumed = 0:00:10\n",
      "Epoch 22: train loss = 133.116340, val loss = 93.766094, time consumed = 0:00:11\n",
      "Epoch 23: train loss = 138.389768, val loss = 50.485052, time consumed = 0:00:11\n",
      "Epoch 24: train loss = 125.400698, val loss = 33.688007, time consumed = 0:00:12\n",
      "Epoch 25: train loss = 137.722313, val loss = 25.067271, time consumed = 0:00:12\n",
      "Model saved after epoch 25\n",
      "Epoch 26: train loss = 123.833550, val loss = 53.446035, time consumed = 0:00:13\n",
      "Epoch 27: train loss = 122.907025, val loss = 32.710931, time consumed = 0:00:13\n",
      "Epoch 28: train loss = 124.230219, val loss = 109.946178, time consumed = 0:00:13\n",
      "Epoch 29: train loss = 118.302801, val loss = 38.288930, time consumed = 0:00:14\n",
      "Epoch 30: train loss = 115.104341, val loss = 38.613098, time consumed = 0:00:14\n",
      "Epoch 31: train loss = 122.724880, val loss = 80.493878, time consumed = 0:00:15\n",
      "Epoch 32: train loss = 120.590465, val loss = 18.175901, time consumed = 0:00:15\n",
      "Model saved after epoch 32\n",
      "Epoch 33: train loss = 112.681923, val loss = 44.542887, time consumed = 0:00:16\n",
      "Epoch 34: train loss = 119.523710, val loss = 19.926259, time consumed = 0:00:16\n",
      "Epoch 35: train loss = 112.573441, val loss = 44.478516, time consumed = 0:00:17\n",
      "Epoch 36: train loss = 109.595707, val loss = 51.278549, time consumed = 0:00:17\n",
      "Epoch 37: train loss = 115.988076, val loss = 18.328901, time consumed = 0:00:18\n",
      "Epoch 38: train loss = 108.663336, val loss = 36.466446, time consumed = 0:00:18\n",
      "Epoch 39: train loss = 116.399711, val loss = 23.482382, time consumed = 0:00:18\n",
      "Epoch 40: train loss = 115.068740, val loss = 85.386910, time consumed = 0:00:19\n",
      "Epoch 41: train loss = 113.587930, val loss = 33.629456, time consumed = 0:00:19\n",
      "Epoch 42: train loss = 105.614222, val loss = 26.590529, time consumed = 0:00:20\n",
      "Epoch 43: train loss = 111.740935, val loss = 39.075078, time consumed = 0:00:20\n",
      "Learning rate reduced after epoch 43\n",
      "Epoch 44: train loss = 102.583385, val loss = 14.553098, time consumed = 0:00:21\n",
      "Model saved after epoch 44\n",
      "Epoch 45: train loss = 103.702313, val loss = 14.209505, time consumed = 0:00:21\n",
      "Model saved after epoch 45\n",
      "Epoch 46: train loss = 99.995943, val loss = 15.929782, time consumed = 0:00:22\n",
      "Epoch 47: train loss = 98.959927, val loss = 17.727549, time consumed = 0:00:22\n",
      "Epoch 48: train loss = 98.879405, val loss = 15.471798, time consumed = 0:00:22\n",
      "Epoch 49: train loss = 101.207517, val loss = 14.801307, time consumed = 0:00:23\n",
      "Epoch 50: train loss = 100.621595, val loss = 15.252205, time consumed = 0:00:23\n",
      "Epoch 51: train loss = 97.000762, val loss = 22.077626, time consumed = 0:00:24\n",
      "Epoch 52: train loss = 97.519856, val loss = 16.789984, time consumed = 0:00:24\n",
      "Epoch 53: train loss = 99.417142, val loss = 15.432978, time consumed = 0:00:25\n",
      "Epoch 54: train loss = 98.654004, val loss = 15.923431, time consumed = 0:00:25\n",
      "Epoch 55: train loss = 100.314409, val loss = 17.907428, time consumed = 0:00:26\n",
      "Epoch 56: train loss = 98.459766, val loss = 21.460607, time consumed = 0:00:26\n",
      "Learning rate reduced after epoch 56\n",
      "Epoch 57: train loss = 98.884650, val loss = 15.431699, time consumed = 0:00:27\n",
      "Epoch 58: train loss = 98.127751, val loss = 14.875116, time consumed = 0:00:27\n",
      "Epoch 59: train loss = 98.443518, val loss = 16.222117, time consumed = 0:00:28\n",
      "Epoch 60: train loss = 95.002430, val loss = 14.985725, time consumed = 0:00:28\n",
      "Epoch 61: train loss = 98.407551, val loss = 17.285366, time consumed = 0:00:28\n",
      "Epoch 62: train loss = 99.654239, val loss = 16.407072, time consumed = 0:00:29\n",
      "Epoch 63: train loss = 100.368605, val loss = 17.469379, time consumed = 0:00:29\n",
      "Epoch 64: train loss = 96.841308, val loss = 15.200316, time consumed = 0:00:30\n",
      "Epoch 65: train loss = 99.839958, val loss = 17.487709, time consumed = 0:00:30\n",
      "Early stopping!\n"
     ]
    },
    {
     "data": {
      "text/plain": "<All keys matched successfully>"
     },
     "execution_count": 19,
     "metadata": {},
     "output_type": "execute_result"
    }
   ],
   "source": [
    "# train the neural network\n",
    "histories, saved_path = train(\n",
    "    train_dl,\n",
    "    val_dl,\n",
    "    model,\n",
    "    loss_fn,\n",
    "    optimizer,\n",
    "    epochs,\n",
    "    early_stopping_patience,\n",
    "    lr_scheduler\n",
    ")\n",
    "# reload the best model\n",
    "model.load_state_dict(torch.load(saved_path))"
   ],
   "metadata": {
    "collapsed": false,
    "ExecuteTime": {
     "end_time": "2024-04-18T15:08:48.280665Z",
     "start_time": "2024-04-18T15:08:17.610725Z"
    }
   },
   "id": "6655b355028b2e0f"
  },
  {
   "cell_type": "code",
   "execution_count": 20,
   "outputs": [
    {
     "data": {
      "text/plain": "<Figure size 640x480 with 1 Axes>",
      "image/png": "[encoded data removed]"
     },
     "metadata": {},
     "output_type": "display_data"
    }
   ],
   "source": [
    "# plot the train loss history\n",
    "plt.figure()\n",
    "batch = np.arange(len(histories['train_batch']))\n",
    "epoch = np.arange(len(histories['train_epoch']))\n",
    "batches_per_epoch = (int(len(train_ds) / batch_size + 1))\n",
    "plt.plot(batch, histories['train_batch'], '-', label = 'batch loss')\n",
    "plt.plot(epoch * batches_per_epoch, histories['train_epoch'], '-', label = 'epoch loss')\n",
    "plt.title('train loss history')\n",
    "plt.xlabel('batch')\n",
    "plt.ylabel('train loss')\n",
    "plt.legend()\n",
    "plt.show()"
   ],
   "metadata": {
    "collapsed": false,
    "ExecuteTime": {
     "end_time": "2024-04-18T15:08:48.395852Z",
     "start_time": "2024-04-18T15:08:48.281574Z"
    }
   },
   "id": "bf3ea2989afec3ab"
  },
  {
   "cell_type": "code",
   "execution_count": 21,
   "outputs": [
    {
     "data": {
      "text/plain": "<Figure size 640x480 with 1 Axes>",
      "image/png": "[encoded data removed]"
     },
     "metadata": {},
     "output_type": "display_data"
    }
   ],
   "source": [
    "# plot the train loss history\n",
    "plt.figure()\n",
    "batch = np.arange(len(histories['val_batch']))\n",
    "epoch = np.arange(len(histories['val_epoch']))\n",
    "batches_per_epoch = (int(len(val_ds) / batch_size + 1))\n",
    "plt.plot(batch, histories['val_batch'], '-', label = 'batch loss')\n",
    "plt.plot(epoch * batches_per_epoch, histories['val_epoch'], '-', label = 'epoch loss')\n",
    "plt.title('validation loss history')\n",
    "plt.xlabel('batch')\n",
    "plt.ylabel('validation loss')\n",
    "plt.legend()\n",
    "plt.show()"
   ],
   "metadata": {
    "collapsed": false,
    "ExecuteTime": {
     "end_time": "2024-04-18T15:08:48.460301Z",
     "start_time": "2024-04-18T15:08:48.398139Z"
    }
   },
   "id": "d2c4b94f58051a1f"
  },
  {
   "cell_type": "code",
   "execution_count": 22,
   "outputs": [
    {
     "data": {
      "text/plain": "<Figure size 640x480 with 1 Axes>",
      "image/png": "[encoded data removed]"
     },
     "metadata": {},
     "output_type": "display_data"
    }
   ],
   "source": [
    "# plot the train vs. val loss history\n",
    "plt.figure()\n",
    "plt.plot(np.arange(len(histories['train_epoch'])), histories['train_epoch'], '-', label = 'train loss')\n",
    "plt.plot(np.arange(len(histories['val_epoch'])), histories['val_epoch'], '-', label = 'val loss')\n",
    "plt.title('train vs. validation loss history')\n",
    "plt.xlabel('epoch')\n",
    "plt.ylabel('loss')\n",
    "plt.legend()\n",
    "plt.show()"
   ],
   "metadata": {
    "collapsed": false,
    "ExecuteTime": {
     "end_time": "2024-04-18T15:08:48.526133Z",
     "start_time": "2024-04-18T15:08:48.465500Z"
    }
   },
   "id": "cbe42384ecdc2ebd"
  },
  {
   "cell_type": "code",
   "execution_count": 23,
   "outputs": [],
   "source": [
    "# define a function to make predictions on test dataset and evaluate the performance\n",
    "def test(dataloader, model, loss_fn):\n",
    "    logits, probs, preds = [], [], []\n",
    "    with torch.no_grad():\n",
    "        loss = 0.0\n",
    "        for (X, y) in dataloader:\n",
    "            X, y = X.to(device), y.to(device) # move data to GPU\n",
    "            batch_logits = model(X)\n",
    "            batch_loss = loss_fn(batch_logits, y)\n",
    "            loss += batch_loss.item()\n",
    "\n",
    "            batch_probs = torch.softmax(batch_logits, dim = -1)\n",
    "            _, batch_preds = torch.max(batch_logits, 1)\n",
    "\n",
    "            logits.append(batch_logits.cpu().numpy())\n",
    "            probs.append(batch_probs.cpu().numpy())\n",
    "            preds.append(batch_preds.cpu().numpy())\n",
    "        loss /= len(dataloader)\n",
    "        print(f\"test loss = {loss}\")\n",
    "    return np.concatenate(logits), np.concatenate(probs), np.concatenate(preds), loss"
   ],
   "metadata": {
    "collapsed": false,
    "ExecuteTime": {
     "end_time": "2024-04-18T15:08:48.530808Z",
     "start_time": "2024-04-18T15:08:48.527613Z"
    }
   },
   "id": "617436c6872e5285"
  },
  {
   "cell_type": "code",
   "execution_count": 24,
   "outputs": [
    {
     "name": "stdout",
     "output_type": "stream",
     "text": [
      "test loss = 13.802433395385743\n",
      "RMSE = 3.708581799528139\n",
      "R-squared = 0.9819220005633863\n"
     ]
    }
   ],
   "source": [
    "# make prediction on test set and evaluate the performance\n",
    "test_logits, test_prob, test_pred, test_loss = test(test_dl, model, loss_fn)\n",
    "# Calculate RMSE\n",
    "rmse = np.sqrt(mean_squared_error(test_label, test_logits))\n",
    "\n",
    "# Calculate R-squared (r2)\n",
    "r2 = r2_score(test_label, test_logits)\n",
    "\n",
    "print(f\"RMSE = {rmse}\") # print RMSE\n",
    "print(f\"R-squared = {r2}\") # print R-squared"
   ],
   "metadata": {
    "collapsed": false,
    "ExecuteTime": {
     "end_time": "2024-04-18T15:08:48.673320Z",
     "start_time": "2024-04-18T15:08:48.530567Z"
    }
   },
   "id": "939e9dcef27c1a24"
  },
  {
   "cell_type": "code",
   "execution_count": 25,
   "outputs": [
    {
     "data": {
      "text/plain": "array([[ 96.82355  ,  96.9024   ,  97.17908  , ..., 100.54876  ,\n        100.553604 , 100.55017  ],\n       [ 63.346943 ,  63.372433 ,  69.55248  , ...,  99.89348  ,\n         99.91547  ,  98.83564  ],\n       [ 50.092678 ,  50.111553 ,  56.74268  , ...,  99.25385  ,\n         99.2814   ,  98.25313  ],\n       ...,\n       [ 41.506325 ,  41.56785  ,  39.921013 , ...,  97.15027  ,\n         97.17356  ,  98.86952  ],\n       [  2.3653402,   4.298758 ,   8.117713 , ...,   8.613909 ,\n          8.597905 ,  81.778946 ],\n       [ 46.314404 ,  46.352917 ,  50.15262  , ...,  98.7103   ,\n         98.73817  ,  98.30711  ]], dtype=float32)"
     },
     "execution_count": 25,
     "metadata": {},
     "output_type": "execute_result"
    }
   ],
   "source": [
    "test_logits"
   ],
   "metadata": {
    "collapsed": false,
    "ExecuteTime": {
     "end_time": "2024-04-18T15:08:48.675068Z",
     "start_time": "2024-04-18T15:08:48.671190Z"
    }
   },
   "id": "e7a04b52e9ee8df9"
  }
 ],
 "metadata": {
  "kernelspec": {
   "display_name": "Python 3",
   "language": "python",
   "name": "python3"
  },
  "language_info": {
   "codemirror_mode": {
    "name": "ipython",
    "version": 2
   },
   "file_extension": ".py",
   "mimetype": "text/x-python",
   "name": "python",
   "nbconvert_exporter": "python",
   "pygments_lexer": "ipython2",
   "version": "2.7.6"
  }
 },
 "nbformat": 4,
 "nbformat_minor": 5
}
